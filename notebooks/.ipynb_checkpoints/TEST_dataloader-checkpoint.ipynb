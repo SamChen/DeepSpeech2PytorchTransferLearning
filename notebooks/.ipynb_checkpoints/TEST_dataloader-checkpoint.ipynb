{
 "cells": [
  {
   "cell_type": "code",
   "execution_count": 1,
   "metadata": {},
   "outputs": [],
   "source": [
    "import sys\n",
    "import pandas as pd\n",
    "from collections import defaultdict\n",
    "sys.path.append(\"..\")\n",
    "from model_utils.model import DeepSpeech2Model\n",
    "from data_utils.dataloader import SpecgramGenerator, DummyGenerator\n",
    "from torch.utils.data import DataLoader"
   ]
  },
  {
   "cell_type": "code",
   "execution_count": 2,
   "metadata": {},
   "outputs": [],
   "source": [
    "base_df = pd.DataFrame.from_dict({\"uttid\": [\"test\"], \n",
    "                                  \"audio_path\": [\"test_audio/file_example_WAV_1MG.wav\"], \n",
    "                                  \"st\": [10], \n",
    "                                  \"et\": [20], \n",
    "                                  \"text\": [\"test\"], \n",
    "                                  \"duration\": [33.529]\n",
    "                                 })"
   ]
  },
  {
   "cell_type": "code",
   "execution_count": 3,
   "metadata": {},
   "outputs": [],
   "source": [
    "import json"
   ]
  },
  {
   "cell_type": "code",
   "execution_count": null,
   "metadata": {},
   "outputs": [],
   "source": []
  },
  {
   "cell_type": "code",
   "execution_count": 4,
   "metadata": {},
   "outputs": [
    {
     "name": "stdout",
     "output_type": "stream",
     "text": [
      "CPU times: user 2.54 s, sys: 148 ms, total: 2.69 s\n",
      "Wall time: 1.12 s\n",
      "CPU times: user 1.28 s, sys: 63.8 ms, total: 1.34 s\n",
      "Wall time: 168 ms\n",
      "[[ 2.46418279  1.70024656  2.09008356 ...  1.96108698  1.99895312\n",
      "   1.51750683]\n",
      " [ 2.12802768  2.44341125  2.09300444 ...  1.09625724  1.21529109\n",
      "   1.59623817]\n",
      " [ 0.97176926  1.78964533  0.88834509 ...  1.00696693  0.9041591\n",
      "   1.32906537]\n",
      " ...\n",
      " [-0.79207478 -0.79207692 -0.79207642 ... -0.79207984 -0.79208046\n",
      "  -0.79208113]\n",
      " [-0.78492186 -0.78493023 -0.78492647 ... -0.7849321  -0.784934\n",
      "  -0.78493469]\n",
      " [-0.65423738 -0.65423965 -0.65424063 ... -0.65424202 -0.65424159\n",
      "  -0.65424211]]\n"
     ]
    }
   ],
   "source": [
    "# test1: online audio segmentation\n",
    "with open(\"../conf/augmentation.config\", 'r') as f:\n",
    "    augmentation_config = f.read()\n",
    "test_dataset = SpecgramGenerator(manifest=base_df,\n",
    "                                 vocab_filepath=\"../models/baidu_en8k/vocab.txt\",\n",
    "                                 mean_std_filepath=\"../models/baidu_en8k/mean_std.npz\",\n",
    "                                 augmentation_config=augmentation_config,\n",
    "                                 segmented=True)\n",
    "\n",
    "for index, row in base_df.iterrows():\n",
    "    %time spec1, _ = test_dataset.process_utterance(row[\"audio_path\"], row[\"text\"], segments_info=None)\n",
    "    \n",
    "spec2 = test_dataset[0]\n",
    "assert spec2[\"specgrams\"].shape == spec1.shape\n",
    "    \n",
    "# segment audio based on start and end time    \n",
    "test_dataset = SpecgramGenerator(manifest=base_df,\n",
    "                                 vocab_filepath=\"../models/baidu_en8k/vocab.txt\",\n",
    "                                 mean_std_filepath=\"../models/baidu_en8k/mean_std.npz\",\n",
    "                                 augmentation_config=augmentation_config,\n",
    "                                 segmented=False)\n",
    "for index, row in base_df.iterrows():\n",
    "    %time spec3, _ = test_dataset.process_utterance(row[\"audio_path\"], row[\"text\"], segments_info={\"start\":row.st, \"end\":row.et})\n",
    "spec4 = test_dataset[0]\n",
    "print(spec3)\n",
    "assert spec4[\"specgrams\"].shape == spec3.shape\n",
    "assert len(spec4[\"text\"]) == 4"
   ]
  },
  {
   "cell_type": "code",
   "execution_count": 5,
   "metadata": {},
   "outputs": [],
   "source": [
    "# test2: data selection based on duration\n",
    "test_dataset = SpecgramGenerator(manifest=base_df,\n",
    "                                 vocab_filepath=\"../models/baidu_en8k/vocab.txt\",\n",
    "                                 mean_std_filepath=\"../models/baidu_en8k/mean_std.npz\",\n",
    "                                 max_duration=30)\n",
    "assert len(test_dataset.manifest) == 0\n",
    "    \n",
    "    \n",
    "test_dataset = SpecgramGenerator(manifest=base_df,\n",
    "                                 vocab_filepath=\"../models/baidu_en8k/vocab.txt\",\n",
    "                                 mean_std_filepath=\"../models/baidu_en8k/mean_std.npz\",\n",
    "                                 min_duration=35)\n",
    "assert len(test_dataset.manifest) == 0\n",
    "\n",
    "\n",
    "\n",
    "test_dataset = SpecgramGenerator(manifest=base_df,\n",
    "                                 vocab_filepath=\"../models/baidu_en8k/vocab.txt\",\n",
    "                                 mean_std_filepath=\"../models/baidu_en8k/mean_std.npz\"\n",
    "                                )\n",
    "assert len(test_dataset.manifest) == 1"
   ]
  },
  {
   "cell_type": "code",
   "execution_count": 6,
   "metadata": {},
   "outputs": [
    {
     "data": {
      "text/plain": [
       "(161, 832)"
      ]
     },
     "execution_count": 6,
     "metadata": {},
     "output_type": "execute_result"
    }
   ],
   "source": [
    "# test3: test dummy dataloader\n",
    "test_dataset = DummyGenerator(datasize=32, feat_size=161, num_class=28, max_len=1200, min_len=750)\n",
    "test_dataset[0][\"specgrams\"].shape"
   ]
  },
  {
   "cell_type": "code",
   "execution_count": null,
   "metadata": {},
   "outputs": [],
   "source": []
  }
 ],
 "metadata": {
  "kernelspec": {
   "display_name": "Python 3",
   "language": "python",
   "name": "python3"
  },
  "language_info": {
   "codemirror_mode": {
    "name": "ipython",
    "version": 3
   },
   "file_extension": ".py",
   "mimetype": "text/x-python",
   "name": "python",
   "nbconvert_exporter": "python",
   "pygments_lexer": "ipython3",
   "version": "3.6.9"
  }
 },
 "nbformat": 4,
 "nbformat_minor": 4
}
