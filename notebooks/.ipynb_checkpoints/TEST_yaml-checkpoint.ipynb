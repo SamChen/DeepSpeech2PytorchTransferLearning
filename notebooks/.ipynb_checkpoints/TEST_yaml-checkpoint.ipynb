{
 "cells": [
  {
   "cell_type": "code",
   "execution_count": 8,
   "metadata": {},
   "outputs": [
    {
     "name": "stdout",
     "output_type": "stream",
     "text": [
      "Requirement already satisfied: pyyaml in /home/chliu/miniconda3/envs/pytorch/lib/python3.6/site-packages (5.1.2)\n",
      "Collecting ruamel.yaml\n",
      "\u001b[?25l  Downloading https://files.pythonhosted.org/packages/a6/92/59af3e38227b9cc14520bf1e59516d99ceca53e3b8448094248171e9432b/ruamel.yaml-0.16.10-py2.py3-none-any.whl (111kB)\n",
      "\u001b[K     |████████████████████████████████| 112kB 6.1MB/s eta 0:00:01\n",
      "\u001b[?25hCollecting ruamel.yaml.clib>=0.1.2; platform_python_implementation == \"CPython\" and python_version < \"3.9\" (from ruamel.yaml)\n",
      "\u001b[?25l  Downloading https://files.pythonhosted.org/packages/53/77/4bcd63f362bcb6c8f4f06253c11f9772f64189bf08cf3f40c5ccbda9e561/ruamel.yaml.clib-0.2.0-cp36-cp36m-manylinux1_x86_64.whl (548kB)\n",
      "\u001b[K     |████████████████████████████████| 552kB 8.2MB/s eta 0:00:01\n",
      "\u001b[?25hInstalling collected packages: ruamel.yaml.clib, ruamel.yaml\n",
      "Successfully installed ruamel.yaml-0.16.10 ruamel.yaml.clib-0.2.0\n"
     ]
    }
   ],
   "source": [
    "!pip install pyyaml\n",
    "!pip install ruamel.yaml"
   ]
  },
  {
   "cell_type": "code",
   "execution_count": 9,
   "metadata": {},
   "outputs": [],
   "source": [
    "import os"
   ]
  },
  {
   "cell_type": "code",
   "execution_count": 11,
   "metadata": {},
   "outputs": [],
   "source": []
  },
  {
   "cell_type": "code",
   "execution_count": 17,
   "metadata": {},
   "outputs": [
    {
     "data": {
      "text/plain": [
       "{'basic': {'pretrained_model_path': 'None',\n",
       "  'num_training_epochs': 40,\n",
       "  'num_sorta_epoch': 0,\n",
       "  'batch_size': 16,\n",
       "  'augmentation_config_path': None},\n",
       " 'exp_root_path': './iconect/models/pt_only_all_utt_wgt_transfer_mean',\n",
       " 'data': {'train_csv': 'train_short.csv',\n",
       "  'val_csv': 'val_short.csv',\n",
       "  'test_csv': 'test_short.csv'},\n",
       " 'optimizer': {'learning_rate': {'exp': 7e-06, 'deepspeech2': 0.0003},\n",
       "  'included_layer_keywords': ['deeplearning'],\n",
       "  'excluded_layer_keywords': ['bias']},\n",
       " 'scheduler': {'scheduler_name': None, 'gamma': None}}"
      ]
     },
     "execution_count": 17,
     "metadata": {},
     "output_type": "execute_result"
    }
   ],
   "source": [
    "test"
   ]
  },
  {
   "cell_type": "code",
   "execution_count": 18,
   "metadata": {},
   "outputs": [],
   "source": [
    "BASIC_DIRS=[\"tensorboard\", \"exps\", \"conf\", \"data\", \"decoded\"]\n",
    "import ruamel.yaml\n",
    "\n",
    "def load_config(config_path)\n",
    "    with open(config_path, 'r') as f:\n",
    "        config = ruamel.yaml.safe_load(f)\n",
    "    check_validation(config)\n",
    "    return config\n",
    "\n",
    "def check_validation(input):\n",
    "    assert os.path.isdir(input[\"exp_root_path\"]), \"{} does not exit\".format(input[\"exp_root_path\"])\n",
    "    exp_root_path = input[\"exp_root_path\"]\n",
    "    \n",
    "    for i in BASIC_DIRS:\n",
    "        file = os.path.join(exp_root_path, i)\n",
    "        assert os.path.isdir(file), \"{} does not exist\".format(file) \n",
    "        \n",
    "    for i in input[\"data\"]:\n",
    "        file = os.path.join(exp_root_path, \"data\", input[\"data\"][i])\n",
    "        assert os.path.isfile(file), \"{} does not exist\".format(file) \n",
    "        \n",
    "    if input[\"basic\"][\"augmentation_config_path\"]:\n",
    "        file = os.path.join(exp_root_path, \"conf\", input[\"basic\"][\"augmentation_config_path\"])\n",
    "        assert os.path.isfile(file), \"{} does not exist\".format(file) \n",
    "        "
   ]
  },
  {
   "cell_type": "code",
   "execution_count": 19,
   "metadata": {},
   "outputs": [],
   "source": [
    "check_validation(test)"
   ]
  }
 ],
 "metadata": {
  "kernelspec": {
   "display_name": "Python 3",
   "language": "python",
   "name": "python3"
  },
  "language_info": {
   "codemirror_mode": {
    "name": "ipython",
    "version": 3
   },
   "file_extension": ".py",
   "mimetype": "text/x-python",
   "name": "python",
   "nbconvert_exporter": "python",
   "pygments_lexer": "ipython3",
   "version": "3.6.9"
  }
 },
 "nbformat": 4,
 "nbformat_minor": 4
}
