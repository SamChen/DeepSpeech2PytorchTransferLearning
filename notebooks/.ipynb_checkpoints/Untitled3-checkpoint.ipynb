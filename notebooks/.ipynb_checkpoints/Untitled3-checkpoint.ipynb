{
 "cells": [
  {
   "cell_type": "code",
   "execution_count": 4,
   "metadata": {},
   "outputs": [],
   "source": [
    "import pandas as pd\n",
    "import numpy as np\n",
    "import torch"
   ]
  },
  {
   "cell_type": "code",
   "execution_count": 19,
   "metadata": {},
   "outputs": [
    {
     "data": {
      "text/plain": [
       "tensor([9.9833e-01, 3.3490e-04, 3.3490e-04, 3.3490e-04, 3.3490e-04, 3.3490e-04])"
      ]
     },
     "execution_count": 19,
     "metadata": {},
     "output_type": "execute_result"
    }
   ],
   "source": [
    "torch.tensor([9., 1,1,1,1,1]).softmax(dim=0)"
   ]
  },
  {
   "cell_type": "code",
   "execution_count": 17,
   "metadata": {},
   "outputs": [
    {
     "data": {
      "text/plain": [
       "tensor([[[ 1.,  1.,  1.,  1.,  1.,  1.,  1.,  1.,  1., 99.]],\n",
       "\n",
       "        [[ 1.,  1.,  1.,  1.,  1.,  1.,  1.,  1.,  1., 99.]],\n",
       "\n",
       "        [[ 1.,  1.,  1.,  1.,  1.,  1.,  1.,  1.,  1., 99.]],\n",
       "\n",
       "        [[ 1.,  1.,  1.,  1.,  1.,  1.,  1.,  1.,  1., 99.]]])"
      ]
     },
     "execution_count": 17,
     "metadata": {},
     "output_type": "execute_result"
    }
   ],
   "source": [
    "a = torch.ones(4,1,10) \n",
    "a[:,:, -1]= 99\n",
    "a"
   ]
  },
  {
   "cell_type": "code",
   "execution_count": 2,
   "metadata": {},
   "outputs": [],
   "source": [
    "test = pd.read_csv(\"/home/chliu/test_exp/models/pt_only_all_utt_wgt_transfer_mean/data/train_short.csv\")\n"
   ]
  },
  {
   "cell_type": "code",
   "execution_count": 5,
   "metadata": {},
   "outputs": [
    {
     "data": {
      "text/plain": [
       "12.630611016666666"
      ]
     },
     "execution_count": 5,
     "metadata": {},
     "output_type": "execute_result"
    }
   ],
   "source": [
    "test[test.duration >= 3].duration.sum()/ 3600"
   ]
  },
  {
   "cell_type": "code",
   "execution_count": 17,
   "metadata": {},
   "outputs": [
    {
     "data": {
      "text/plain": [
       "<matplotlib.axes._subplots.AxesSubplot at 0x7ff23c7507f0>"
      ]
     },
     "execution_count": 17,
     "metadata": {},
     "output_type": "execute_result"
    },
    {
     "data": {
      "image/png": "[encoded data removed]",
      "text/plain": [
       "<Figure size 432x288 with 1 Axes>"
      ]
     },
     "metadata": {
      "needs_background": "light"
     },
     "output_type": "display_data"
    }
   ],
   "source": [
    "sns.distplot(test[\"duration\"])"
   ]
  },
  {
   "cell_type": "code",
   "execution_count": 3,
   "metadata": {},
   "outputs": [
    {
     "data": {
      "text/plain": [
       "{'C1017',\n",
       " 'C1018',\n",
       " 'C1019',\n",
       " 'C1032',\n",
       " 'C1034',\n",
       " 'C1038',\n",
       " 'C1039',\n",
       " 'C1042',\n",
       " 'C1046',\n",
       " 'C1052',\n",
       " 'C1054',\n",
       " 'C1079',\n",
       " 'C1097',\n",
       " 'C1103',\n",
       " 'C1104',\n",
       " 'C1105',\n",
       " 'C1106',\n",
       " 'C1112',\n",
       " 'C1113',\n",
       " 'C1122',\n",
       " 'C1124',\n",
       " 'C1127',\n",
       " 'C1142',\n",
       " 'C1146',\n",
       " 'C1168',\n",
       " 'C1171',\n",
       " 'C2012',\n",
       " 'C2024',\n",
       " 'C2028',\n",
       " 'C2039',\n",
       " 'P2CON1004',\n",
       " 'P2CON1005',\n",
       " 'P2CON1008',\n",
       " 'P2CON1009',\n",
       " 'P2CON1012',\n",
       " 'P2CON1013',\n",
       " 'P2CON2001',\n",
       " 'P2CON2002',\n",
       " 'P2CON2004',\n",
       " 'P2CON2006',\n",
       " 'P2CON2008',\n",
       " 'PCON1002',\n",
       " 'PCON1004',\n",
       " 'PCON1006',\n",
       " 'PCON1007',\n",
       " 'PCON1008',\n",
       " 'PCON1009',\n",
       " 'PCON1010',\n",
       " 'PCON1013',\n",
       " 'PCON1014',\n",
       " 'PCON1015',\n",
       " 'PCON1019'}"
      ]
     },
     "execution_count": 3,
     "metadata": {},
     "output_type": "execute_result"
    }
   ],
   "source": [
    "a = pd.read_csv(\"iconect/models/pt_only_all_utt_test/data/train_short.csv\")\n",
    "set(a.spkid.tolist())"
   ]
  },
  {
   "cell_type": "code",
   "execution_count": 32,
   "metadata": {},
   "outputs": [
    {
     "data": {
      "text/plain": [
       "86262.92306250028"
      ]
     },
     "execution_count": 32,
     "metadata": {},
     "output_type": "execute_result"
    }
   ],
   "source": [
    "sum(test[test.duration >= 2].duration)"
   ]
  },
  {
   "cell_type": "code",
   "execution_count": 19,
   "metadata": {},
   "outputs": [
    {
     "data": {
      "text/plain": [
       "count    41395.000000\n",
       "mean         3.582767\n",
       "std          3.352991\n",
       "min          0.381134\n",
       "25%          1.000000\n",
       "50%          2.000000\n",
       "75%          5.000000\n",
       "max         79.616145\n",
       "Name: duration, dtype: float64"
      ]
     },
     "execution_count": 19,
     "metadata": {},
     "output_type": "execute_result"
    }
   ],
   "source": [
    "test2 = pd.read_csv(\"/home/chliu/test_code/all_data_02Mar2020.csv\")\n",
    "test2.duration.describe()"
   ]
  },
  {
   "cell_type": "code",
   "execution_count": 20,
   "metadata": {},
   "outputs": [
    {
     "data": {
      "text/plain": [
       "<matplotlib.axes._subplots.AxesSubplot at 0x7ff21be70358>"
      ]
     },
     "execution_count": 20,
     "metadata": {},
     "output_type": "execute_result"
    },
    {
     "data": {
      "image/png": "[encoded data removed]",
      "text/plain": [
       "<Figure size 432x288 with 1 Axes>"
      ]
     },
     "metadata": {
      "needs_background": "light"
     },
     "output_type": "display_data"
    }
   ],
   "source": [
    "sns.distplot(test2.duration)"
   ]
  },
  {
   "cell_type": "code",
   "execution_count": 5,
   "metadata": {},
   "outputs": [],
   "source": [
    "spker_test = [\"C1007\", \"C2016\", \"C1028\", \"C1070\"]\n",
    "spker_val  = [\"C1033\", \"C1083\", \"C1066\", \"C1082\"]\n",
    "spker_train = set(test.spkid.tolist()) - set(spker_val + spker_test)\n",
    "spker_train = list(spker_train)"
   ]
  },
  {
   "cell_type": "code",
   "execution_count": 6,
   "metadata": {},
   "outputs": [],
   "source": [
    "test[test.spkid.isin(spker_train)].to_csv(\"iconect/models/all_utt_wgt_transfer/data/train_kaldi.csv\", index=False)\n",
    "test[test.spkid.isin(spker_val)].to_csv(\"iconect/models/all_utt_wgt_transfer/data/val_kaldi.csv\", index=False)\n",
    "test[test.spkid.isin(spker_test)].to_csv(\"iconect/models/all_utt_wgt_transfer/data/test_kaldi.csv\", index=False)"
   ]
  },
  {
   "cell_type": "code",
   "execution_count": null,
   "metadata": {},
   "outputs": [],
   "source": []
  },
  {
   "cell_type": "code",
   "execution_count": 7,
   "metadata": {},
   "outputs": [
    {
     "data": {
      "text/html": [
       "<div>\n",
       "<style scoped>\n",
       "    .dataframe tbody tr th:only-of-type {\n",
       "        vertical-align: middle;\n",
       "    }\n",
       "\n",
       "    .dataframe tbody tr th {\n",
       "        vertical-align: top;\n",
       "    }\n",
       "\n",
       "    .dataframe thead th {\n",
       "        text-align: right;\n",
       "    }\n",
       "</style>\n",
       "<table border=\"1\" class=\"dataframe\">\n",
       "  <thead>\n",
       "    <tr style=\"text-align: right;\">\n",
       "      <th></th>\n",
       "      <th>uttid</th>\n",
       "      <th>spkid</th>\n",
       "      <th>st</th>\n",
       "      <th>et</th>\n",
       "      <th>text</th>\n",
       "      <th>role</th>\n",
       "      <th>mother_audio_path</th>\n",
       "      <th>audio_prefix</th>\n",
       "      <th>audio_path</th>\n",
       "      <th>duration</th>\n",
       "    </tr>\n",
       "  </thead>\n",
       "  <tbody>\n",
       "  </tbody>\n",
       "</table>\n",
       "</div>"
      ],
      "text/plain": [
       "Empty DataFrame\n",
       "Columns: [uttid, spkid, st, et, text, role, mother_audio_path, audio_prefix, audio_path, duration]\n",
       "Index: []"
      ]
     },
     "execution_count": 7,
     "metadata": {},
     "output_type": "execute_result"
    }
   ],
   "source": [
    "test[test.duration <= 0]"
   ]
  },
  {
   "cell_type": "code",
   "execution_count": 12,
   "metadata": {},
   "outputs": [
    {
     "data": {
      "text/plain": [
       "7"
      ]
     },
     "execution_count": 12,
     "metadata": {},
     "output_type": "execute_result"
    }
   ],
   "source": [
    "sum(test[test.spkid.isin(spker_train)].duration>30)"
   ]
  }
 ],
 "metadata": {
  "kernelspec": {
   "display_name": "Python 3",
   "language": "python",
   "name": "python3"
  },
  "language_info": {
   "codemirror_mode": {
    "name": "ipython",
    "version": 3
   },
   "file_extension": ".py",
   "mimetype": "text/x-python",
   "name": "python",
   "nbconvert_exporter": "python",
   "pygments_lexer": "ipython3",
   "version": "3.6.9"
  }
 },
 "nbformat": 4,
 "nbformat_minor": 4
}
