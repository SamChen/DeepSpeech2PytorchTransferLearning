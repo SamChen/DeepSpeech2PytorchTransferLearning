{
 "cells": [
  {
   "cell_type": "code",
   "execution_count": 2,
   "metadata": {},
   "outputs": [],
   "source": [
    "import jiwer\n",
    "import pandas as pd\n",
    "import altair as alt\n",
    "import os\n",
    "import re\n",
    "import sys"
   ]
  },
  {
   "cell_type": "code",
   "execution_count": 3,
   "metadata": {},
   "outputs": [
    {
     "data": {
      "text/plain": [
       "count    628.000000\n",
       "mean       7.038217\n",
       "std       11.973328\n",
       "min        1.000000\n",
       "25%        2.000000\n",
       "50%        3.000000\n",
       "75%        8.000000\n",
       "max      152.000000\n",
       "Name: duration, dtype: float64"
      ]
     },
     "execution_count": 3,
     "metadata": {},
     "output_type": "execute_result"
    }
   ],
   "source": [
    "test = pd.read_csv(\"iconect/models/pt_only_all_utt_wgt_transfer/data/val.csv\")\n",
    "test.duration.describe()"
   ]
  },
  {
   "cell_type": "code",
   "execution_count": 4,
   "metadata": {},
   "outputs": [],
   "source": [
    "def info_extraction(df):\n",
    "    wer = []\n",
    "    ptid = []\n",
    "    text = []\n",
    "    asr = []\n",
    "    duration = []\n",
    "    for index, row in df.iterrows():\n",
    "        text.append(row.text)\n",
    "        asr.append(row.asr)\n",
    "        wer.append(jiwer.wer(row.text, row.asr))\n",
    "        ptid.append(row.uttid.split(\"_\")[0] )\n",
    "        duration.append(len(row.text))\n",
    "    df[\"wer\"] = wer\n",
    "    df[\"ptid\"] = ptid\n",
    "    df[\"text\"] = text\n",
    "    df[\"asr\"] = asr\n",
    "    df[\"duration\"] = duration\n",
    "   "
   ]
  },
  {
   "cell_type": "code",
   "execution_count": 7,
   "metadata": {},
   "outputs": [
    {
     "data": {
      "text/plain": [
       "count    282.000000\n",
       "mean       0.327052\n",
       "std        0.188165\n",
       "min        0.000000\n",
       "25%        0.166667\n",
       "50%        0.312500\n",
       "75%        0.470588\n",
       "max        1.000000\n",
       "Name: wer, dtype: float64"
      ]
     },
     "execution_count": 7,
     "metadata": {},
     "output_type": "execute_result"
    }
   ],
   "source": [
    "orig_long = pd.read_pickle(\"./iconect/models/pt_only_all_utt_sliced4/decoded/deepspeech_val_lr7e-06-bias_200121-19:01:32.pkl\")\n",
    "info_extraction(orig_long)\n",
    "orig_long = orig_long[orig_long.uttid.str.contains('Participant', na=False)]\n",
    "orig_long.wer.describe()"
   ]
  },
  {
   "cell_type": "code",
   "execution_count": 39,
   "metadata": {},
   "outputs": [
    {
     "data": {
      "text/plain": [
       "count    435.000000\n",
       "mean       0.233239\n",
       "std        0.172522\n",
       "min        0.000000\n",
       "25%        0.111111\n",
       "50%        0.200000\n",
       "75%        0.333333\n",
       "max        0.823529\n",
       "Name: wer, dtype: float64"
      ]
     },
     "execution_count": 39,
     "metadata": {},
     "output_type": "execute_result"
    }
   ],
   "source": [
    "orig_long = pd.read_pickle(\"test/slice4_200117_model_on_sliced4test.csv\")\n",
    "info_extraction(orig_long)\n",
    "test1 = orig_long# [orig_long.uttid.str.contains('Participant', na=False)]\n",
    "test1.wer.describe()"
   ]
  },
  {
   "cell_type": "code",
   "execution_count": 42,
   "metadata": {},
   "outputs": [
    {
     "data": {
      "text/plain": [
       "count    551.000000\n",
       "mean       0.371677\n",
       "std        0.239697\n",
       "min        0.000000\n",
       "25%        0.185185\n",
       "50%        0.333333\n",
       "75%        0.500000\n",
       "max        1.000000\n",
       "Name: wer, dtype: float64"
      ]
     },
     "execution_count": 42,
     "metadata": {},
     "output_type": "execute_result"
    }
   ],
   "source": [
    "# current limitation is 2 seconds\n",
    "test3 = pd.read_pickle(\"test/orig_model_on_testtest.csv\")\n",
    "info_extraction(test3)\n",
    "# test2 = test2[orig_long.uttid.str.contains('Participant', na=False)]\n",
    "test3.wer.describe()"
   ]
  },
  {
   "cell_type": "code",
   "execution_count": 40,
   "metadata": {},
   "outputs": [
    {
     "data": {
      "text/plain": [
       "count    435.000000\n",
       "mean       0.233239\n",
       "std        0.172522\n",
       "min        0.000000\n",
       "25%        0.111111\n",
       "50%        0.200000\n",
       "75%        0.333333\n",
       "max        0.823529\n",
       "Name: wer, dtype: float64"
      ]
     },
     "execution_count": 40,
     "metadata": {},
     "output_type": "execute_result"
    }
   ],
   "source": [
    "test2 = pd.read_pickle(\"test/slice4_200117_model_on_testtest.csv\")\n",
    "info_extraction(test2)\n",
    "# test2 = test2[orig_long.uttid.str.contains('Participant', na=False)]\n",
    "test2.wer.describe()"
   ]
  },
  {
   "cell_type": "code",
   "execution_count": 10,
   "metadata": {},
   "outputs": [
    {
     "name": "stdout",
     "output_type": "stream",
     "text": [
      "18158\n"
     ]
    },
    {
     "data": {
      "text/plain": [
       "6636"
      ]
     },
     "execution_count": 10,
     "metadata": {},
     "output_type": "execute_result"
    }
   ],
   "source": [
    "train_df = pd.read_csv(\"./iconect/models/pt_only_all_utt_sliced4/data/train_short.csv\")\n",
    "print(len(train_df))\n",
    "len(train_df[train_df.uttid.str.contains('Participant', na=False)])"
   ]
  },
  {
   "cell_type": "code",
   "execution_count": 15,
   "metadata": {},
   "outputs": [
    {
     "data": {
      "text/plain": [
       "count    522.000000\n",
       "mean       0.327523\n",
       "std        0.205210\n",
       "min        0.000000\n",
       "25%        0.184454\n",
       "50%        0.296296\n",
       "75%        0.443627\n",
       "max        1.000000\n",
       "Name: wer, dtype: float64"
      ]
     },
     "execution_count": 15,
     "metadata": {},
     "output_type": "execute_result"
    }
   ],
   "source": [
    "orig_short = pd.read_pickle(\"iconect/models/pt_only_all_utt/deepspeech_val_gridsearch_191228-09:16:21-lr4.9999999999999996e-06-bias.pkl\")\n",
    "info_extraction(orig_short)\n",
    "orig_short.wer.describe()"
   ]
  },
  {
   "cell_type": "code",
   "execution_count": 16,
   "metadata": {},
   "outputs": [
    {
     "data": {
      "text/plain": [
       "count    304.000000\n",
       "mean       0.265638\n",
       "std        0.190360\n",
       "min        0.000000\n",
       "25%        0.129032\n",
       "50%        0.214286\n",
       "75%        0.363636\n",
       "max        1.000000\n",
       "Name: wer, dtype: float64"
      ]
     },
     "execution_count": 16,
     "metadata": {},
     "output_type": "execute_result"
    }
   ],
   "source": [
    "tuned_long = pd.read_pickle(\"iconect/models/pt_only_all_utt_sliced4/decoded/deepspeech_test_long_alpha2.pkl\")\n",
    "info_extraction(tuned_long)\n",
    "tuned_long.wer.describe()"
   ]
  },
  {
   "cell_type": "code",
   "execution_count": 38,
   "metadata": {},
   "outputs": [
    {
     "data": {
      "text/plain": [
       "434"
      ]
     },
     "execution_count": 38,
     "metadata": {},
     "output_type": "execute_result"
    }
   ],
   "source": [
    "sum(pd.read_csv(\"iconect/models/pt_only_all_utt_sliced4/data/test_short.csv\").duration > 3)"
   ]
  },
  {
   "cell_type": "code",
   "execution_count": 17,
   "metadata": {},
   "outputs": [
    {
     "data": {
      "text/plain": [
       "count    435.000000\n",
       "mean       0.253337\n",
       "std        0.185379\n",
       "min        0.000000\n",
       "25%        0.117647\n",
       "50%        0.214286\n",
       "75%        0.357143\n",
       "max        1.000000\n",
       "Name: wer, dtype: float64"
      ]
     },
     "execution_count": 17,
     "metadata": {},
     "output_type": "execute_result"
    }
   ],
   "source": [
    "tuned_short = pd.read_pickle(\"iconect/models/pt_only_all_utt_sliced4/decoded/deepspeech_test_short_alpha2.pkl\")\n",
    "info_extraction(tuned_short)\n",
    "tuned_short.wer.describe()"
   ]
  },
  {
   "cell_type": "code",
   "execution_count": 9,
   "metadata": {},
   "outputs": [],
   "source": [
    "comparing_short = pd.DataFrame.from_dict({\"uttid\": orig_short.uttid, \"ptid\":tuned_short.ptid, \"wer_diff\": list(orig_short.wer - tuned_short.wer)})\n",
    "comparing_long = pd.DataFrame.from_dict({\"uttid\": orig_long.uttid, \"ptid\":tuned_long.ptid, \"wer_diff\": list(orig_long.wer - tuned_long.wer)})"
   ]
  },
  {
   "cell_type": "code",
   "execution_count": 10,
   "metadata": {},
   "outputs": [],
   "source": [
    "def pt_describe(df, colname: str):\n",
    "    result = []\n",
    "    pts = list(set(df.ptid))\n",
    "    for ptid in pts:\n",
    "        result.append(df[df.ptid == ptid][colname].describe().to_frame().transpose().rename(index={colname: ptid}))\n",
    "    \n",
    "    result = pd.concat(result)\n",
    "    return result"
   ]
  },
  {
   "cell_type": "code",
   "execution_count": 11,
   "metadata": {},
   "outputs": [
    {
     "data": {
      "text/html": [
       "\n",
       "<div id=\"altair-viz-1\"></div>\n",
       "<script type=\"text/javascript\">\n",
       "  (function(spec, embedOpt){\n",
       "    const outputDiv = document.getElementById(\"altair-viz-1\");\n",
       "    const paths = {\n",
       "      \"vega\": \"https://cdn.jsdelivr.net/npm//vega@5?noext\",\n",
       "      \"vega-lib\": \"https://cdn.jsdelivr.net/npm//vega-lib?noext\",\n",
       "      \"vega-lite\": \"https://cdn.jsdelivr.net/npm//vega-lite@4.0.0?noext\",\n",
       "      \"vega-embed\": \"https://cdn.jsdelivr.net/npm//vega-embed@6?noext\",\n",
       "    };\n",
       "\n",
       "    function loadScript(lib) {\n",
       "      return new Promise(function(resolve, reject) {\n",
       "        var s = document.createElement('script');\n",
       "        s.src = paths[lib];\n",
       "        s.async = true;\n",
       "        s.onload = () => resolve(paths[lib]);\n",
       "        s.onerror = () => reject(`Error loading script: ${paths[lib]}`);\n",
       "        document.getElementsByTagName(\"head\")[0].appendChild(s);\n",
       "      });\n",
       "    }\n",
       "\n",
       "    function showError(err) {\n",
       "      outputDiv.innerHTML = `<div class=\"error\" style=\"color:red;\">${err}</div>`;\n",
       "      throw err;\n",
       "    }\n",
       "\n",
       "    function displayChart(vegaEmbed) {\n",
       "      vegaEmbed(outputDiv, spec, embedOpt)\n",
       "        .catch(err => showError(`Javascript Error: ${err.message}<br>This usually means there's a typo in your chart specification. See the javascript console for the full traceback.`));\n",
       "    }\n",
       "\n",
       "    if(typeof define === \"function\" && define.amd) {\n",
       "      requirejs.config({paths});\n",
       "      require([\"vega-embed\"], displayChart, err => showError(`Error loading script: ${err.message}`));\n",
       "    } else if (typeof vegaEmbed === \"function\") {\n",
       "      displayChart(vegaEmbed);\n",
       "    } else {\n",
       "      loadScript(\"vega\")\n",
       "        .then(() => loadScript(\"vega-lite\"))\n",
       "        .then(() => loadScript(\"vega-embed\"))\n",
       "        .catch(showError)\n",
       "        .then(() => displayChart(vegaEmbed));\n",
       "    }\n",
       "  })({\"config\": {\"view\": {\"continuousWidth\": 400, \"continuousHeight\": 300}}, \"data\": {\"name\": \"data-5948b8a8136722e372a50428535f07b1\"}, \"mark\": \"bar\", \"encoding\": {\"color\": {\"type\": \"quantitative\", \"field\": \"count\"}, \"x\": {\"type\": \"nominal\", \"field\": \"index\"}, \"y\": {\"type\": \"quantitative\", \"field\": \"mean\"}}, \"$schema\": \"https://vega.github.io/schema/vega-lite/v4.0.0.json\", \"datasets\": {\"data-5948b8a8136722e372a50428535f07b1\": [{\"index\": \"C1007\", \"count\": 72.0, \"mean\": 0.065788237543093, \"std\": 0.10638984054422601, \"min\": -0.14285714285714285, \"25%\": 0.0, \"50%\": 0.05718954248366013, \"75%\": 0.10929951690821257, \"max\": 0.5333333333333334}, {\"index\": \"C1070\", \"count\": 74.0, \"mean\": 0.06310786594639418, \"std\": 0.07107386936888052, \"min\": -0.09523809523809523, \"25%\": 0.0035714285714285726, \"50%\": 0.07019704433497537, \"75%\": 0.1111111111111111, \"max\": 0.2424242424242424}, {\"index\": \"C1028\", \"count\": 101.0, \"mean\": 0.12420414376940221, \"std\": 0.13260387326940146, \"min\": -0.15384615384615385, \"25%\": 0.0357142857142857, \"50%\": 0.11904761904761904, \"75%\": 0.1875, \"max\": 0.625}, {\"index\": \"C2016\", \"count\": 57.0, \"mean\": 0.13193084891321177, \"std\": 0.17195947200941913, \"min\": -0.20000000000000007, \"25%\": 0.0, \"50%\": 0.1111111111111111, \"75%\": 0.25, \"max\": 0.6875}]}}, {\"mode\": \"vega-lite\"});\n",
       "</script>"
      ],
      "text/plain": [
       "alt.Chart(...)"
      ]
     },
     "execution_count": 11,
     "metadata": {},
     "output_type": "execute_result"
    }
   ],
   "source": [
    "ptid_wer_diff = pt_describe(comparing_long, colname=\"wer_diff\")\n",
    "alt.Chart(ptid_wer_diff.reset_index()).mark_bar().encode(\n",
    "    x = \"index\",\n",
    "    y = \"mean\",\n",
    "    color = \"count\")"
   ]
  },
  {
   "cell_type": "code",
   "execution_count": 12,
   "metadata": {},
   "outputs": [
    {
     "data": {
      "text/html": [
       "\n",
       "<div id=\"altair-viz-2\"></div>\n",
       "<script type=\"text/javascript\">\n",
       "  (function(spec, embedOpt){\n",
       "    const outputDiv = document.getElementById(\"altair-viz-2\");\n",
       "    const paths = {\n",
       "      \"vega\": \"https://cdn.jsdelivr.net/npm//vega@5?noext\",\n",
       "      \"vega-lib\": \"https://cdn.jsdelivr.net/npm//vega-lib?noext\",\n",
       "      \"vega-lite\": \"https://cdn.jsdelivr.net/npm//vega-lite@4.0.0?noext\",\n",
       "      \"vega-embed\": \"https://cdn.jsdelivr.net/npm//vega-embed@6?noext\",\n",
       "    };\n",
       "\n",
       "    function loadScript(lib) {\n",
       "      return new Promise(function(resolve, reject) {\n",
       "        var s = document.createElement('script');\n",
       "        s.src = paths[lib];\n",
       "        s.async = true;\n",
       "        s.onload = () => resolve(paths[lib]);\n",
       "        s.onerror = () => reject(`Error loading script: ${paths[lib]}`);\n",
       "        document.getElementsByTagName(\"head\")[0].appendChild(s);\n",
       "      });\n",
       "    }\n",
       "\n",
       "    function showError(err) {\n",
       "      outputDiv.innerHTML = `<div class=\"error\" style=\"color:red;\">${err}</div>`;\n",
       "      throw err;\n",
       "    }\n",
       "\n",
       "    function displayChart(vegaEmbed) {\n",
       "      vegaEmbed(outputDiv, spec, embedOpt)\n",
       "        .catch(err => showError(`Javascript Error: ${err.message}<br>This usually means there's a typo in your chart specification. See the javascript console for the full traceback.`));\n",
       "    }\n",
       "\n",
       "    if(typeof define === \"function\" && define.amd) {\n",
       "      requirejs.config({paths});\n",
       "      require([\"vega-embed\"], displayChart, err => showError(`Error loading script: ${err.message}`));\n",
       "    } else if (typeof vegaEmbed === \"function\") {\n",
       "      displayChart(vegaEmbed);\n",
       "    } else {\n",
       "      loadScript(\"vega\")\n",
       "        .then(() => loadScript(\"vega-lite\"))\n",
       "        .then(() => loadScript(\"vega-embed\"))\n",
       "        .catch(showError)\n",
       "        .then(() => displayChart(vegaEmbed));\n",
       "    }\n",
       "  })({\"config\": {\"view\": {\"continuousWidth\": 400, \"continuousHeight\": 300}}, \"data\": {\"name\": \"data-75f7851d27dc933a2e80a853b180b8f0\"}, \"mark\": \"bar\", \"encoding\": {\"color\": {\"type\": \"quantitative\", \"field\": \"count\"}, \"x\": {\"type\": \"nominal\", \"field\": \"index\"}, \"y\": {\"type\": \"quantitative\", \"field\": \"mean\"}}, \"$schema\": \"https://vega.github.io/schema/vega-lite/v4.0.0.json\", \"datasets\": {\"data-75f7851d27dc933a2e80a853b180b8f0\": [{\"index\": \"C1007\", \"count\": 94.0, \"mean\": 0.09254503272664202, \"std\": 0.1422268706877512, \"min\": -0.14285714285714285, \"25%\": 0.0, \"50%\": 0.055555555555555566, \"75%\": 0.15688259109311742, \"max\": 0.625}, {\"index\": \"C1070\", \"count\": 136.0, \"mean\": 0.07322621274865533, \"std\": 0.10476768406446647, \"min\": -0.14814814814814814, \"25%\": 0.0, \"50%\": 0.05555555555555555, \"75%\": 0.13115942028985506, \"max\": 0.42857142857142855}, {\"index\": \"C1028\", \"count\": 148.0, \"mean\": 0.14548446420374006, \"std\": 0.14402884488140674, \"min\": -0.15384615384615385, \"25%\": 0.05083732057416268, \"50%\": 0.1333333333333333, \"75%\": 0.21052631578947367, \"max\": 0.6428571428571428}, {\"index\": \"C2016\", \"count\": 57.0, \"mean\": 0.12996820262284198, \"std\": 0.171699422157266, \"min\": -0.20000000000000007, \"25%\": 0.0, \"50%\": 0.11111111111111116, \"75%\": 0.23529411764705885, \"max\": 0.6875}]}}, {\"mode\": \"vega-lite\"});\n",
       "</script>"
      ],
      "text/plain": [
       "alt.Chart(...)"
      ]
     },
     "execution_count": 12,
     "metadata": {},
     "output_type": "execute_result"
    }
   ],
   "source": [
    "ptid_wer_diff = pt_describe(comparing_short, colname=\"wer_diff\")\n",
    "alt.Chart(ptid_wer_diff.reset_index()).mark_bar().encode(\n",
    "    x = \"index\",\n",
    "    y = \"mean\",\n",
    "    color = \"count\")"
   ]
  },
  {
   "cell_type": "code",
   "execution_count": 11,
   "metadata": {},
   "outputs": [
    {
     "data": {
      "text/html": [
       "\n",
       "<div id=\"altair-viz-2\"></div>\n",
       "<script type=\"text/javascript\">\n",
       "  (function(spec, embedOpt){\n",
       "    const outputDiv = document.getElementById(\"altair-viz-2\");\n",
       "    const paths = {\n",
       "      \"vega\": \"https://cdn.jsdelivr.net/npm//vega@5?noext\",\n",
       "      \"vega-lib\": \"https://cdn.jsdelivr.net/npm//vega-lib?noext\",\n",
       "      \"vega-lite\": \"https://cdn.jsdelivr.net/npm//vega-lite@4.0.0?noext\",\n",
       "      \"vega-embed\": \"https://cdn.jsdelivr.net/npm//vega-embed@6?noext\",\n",
       "    };\n",
       "\n",
       "    function loadScript(lib) {\n",
       "      return new Promise(function(resolve, reject) {\n",
       "        var s = document.createElement('script');\n",
       "        s.src = paths[lib];\n",
       "        s.async = true;\n",
       "        s.onload = () => resolve(paths[lib]);\n",
       "        s.onerror = () => reject(`Error loading script: ${paths[lib]}`);\n",
       "        document.getElementsByTagName(\"head\")[0].appendChild(s);\n",
       "      });\n",
       "    }\n",
       "\n",
       "    function showError(err) {\n",
       "      outputDiv.innerHTML = `<div class=\"error\" style=\"color:red;\">${err}</div>`;\n",
       "      throw err;\n",
       "    }\n",
       "\n",
       "    function displayChart(vegaEmbed) {\n",
       "      vegaEmbed(outputDiv, spec, embedOpt)\n",
       "        .catch(err => showError(`Javascript Error: ${err.message}<br>This usually means there's a typo in your chart specification. See the javascript console for the full traceback.`));\n",
       "    }\n",
       "\n",
       "    if(typeof define === \"function\" && define.amd) {\n",
       "      requirejs.config({paths});\n",
       "      require([\"vega-embed\"], displayChart, err => showError(`Error loading script: ${err.message}`));\n",
       "    } else if (typeof vegaEmbed === \"function\") {\n",
       "      displayChart(vegaEmbed);\n",
       "    } else {\n",
       "      loadScript(\"vega\")\n",
       "        .then(() => loadScript(\"vega-lite\"))\n",
       "        .then(() => loadScript(\"vega-embed\"))\n",
       "        .catch(showError)\n",
       "        .then(() => displayChart(vegaEmbed));\n",
       "    }\n",
       "  })({\"config\": {\"view\": {\"continuousWidth\": 400, \"continuousHeight\": 300}}, \"data\": {\"name\": \"data-c19e4964604d93407854ecf3b40f4efa\"}, \"mark\": \"bar\", \"encoding\": {\"color\": {\"type\": \"quantitative\", \"field\": \"count\"}, \"row\": {\"type\": \"nominal\", \"field\": \"model\"}, \"x\": {\"type\": \"nominal\", \"field\": \"index\"}, \"y\": {\"type\": \"quantitative\", \"field\": \"mean\"}}, \"$schema\": \"https://vega.github.io/schema/vega-lite/v4.0.0.json\", \"datasets\": {\"data-c19e4964604d93407854ecf3b40f4efa\": [{\"index\": \"C1033\", \"count\": 4.0, \"mean\": 0.6081368840802803, \"std\": 0.1674247042650114, \"min\": 0.38461538461538464, \"25%\": 0.5393356643356644, \"50%\": 0.6350771869639794, \"75%\": 0.7038784067085954, \"max\": 0.7777777777777778, \"model\": \"orig\"}, {\"index\": \"C1105\", \"count\": 11.0, \"mean\": 0.583030665506742, \"std\": 0.11908381969862454, \"min\": 0.3888888888888889, \"25%\": 0.5, \"50%\": 0.5714285714285714, \"75%\": 0.6619318181818181, \"max\": 0.7894736842105263, \"model\": \"orig\"}, {\"index\": \"C1018\", \"count\": 3.0, \"mean\": 0.2718253968253968, \"std\": 0.07045047927611506, \"min\": 0.19047619047619047, \"25%\": 0.25148809523809523, \"50%\": 0.3125, \"75%\": 0.3125, \"max\": 0.3125, \"model\": \"orig\"}, {\"index\": \"C1046\", \"count\": 10.0, \"mean\": 0.30329280562069993, \"std\": 0.195009123373194, \"min\": 0.05084745762711865, \"25%\": 0.1751930501930502, \"50%\": 0.26398852223816355, \"75%\": 0.3447802197802198, \"max\": 0.6923076923076923, \"model\": \"orig\"}, {\"index\": \"C2024\", \"count\": 11.0, \"mean\": 0.22721414963914394, \"std\": 0.12385114027673239, \"min\": 0.0, \"25%\": 0.15476190476190477, \"50%\": 0.2222222222222222, \"75%\": 0.30601092896174864, \"max\": 0.43478260869565216, \"model\": \"orig\"}, {\"index\": \"C1103\", \"count\": 13.0, \"mean\": 0.4965830610743478, \"std\": 0.2051065497662425, \"min\": 0.1111111111111111, \"25%\": 0.3888888888888889, \"50%\": 0.5, \"75%\": 0.5789473684210527, \"max\": 0.85, \"model\": \"orig\"}, {\"index\": \"P2CON2006\", \"count\": 5.0, \"mean\": 0.15087676256556712, \"std\": 0.1312942025275928, \"min\": 0.0, \"25%\": 0.05454545454545454, \"50%\": 0.12903225806451613, \"75%\": 0.27450980392156865, \"max\": 0.2962962962962963, \"model\": \"orig\"}, {\"index\": \"PCON1004\", \"count\": 6.0, \"mean\": 0.2388888888888889, \"std\": 0.12141145226353542, \"min\": 0.0, \"25%\": 0.25, \"50%\": 0.275, \"75%\": 0.3, \"max\": 0.3333333333333333, \"model\": \"orig\"}, {\"index\": \"C2016\", \"count\": 9.0, \"mean\": 0.5234808401475068, \"std\": 0.2307435198802302, \"min\": 0.1111111111111111, \"25%\": 0.43333333333333335, \"50%\": 0.5454545454545454, \"75%\": 0.6, \"max\": 0.95, \"model\": \"orig\"}, {\"index\": \"C1124\", \"count\": 7.0, \"mean\": 0.697953143719155, \"std\": 0.11712226501046315, \"min\": 0.5416666666666666, \"25%\": 0.6424010217113665, \"50%\": 0.6774193548387096, \"75%\": 0.736346516007533, \"max\": 0.9090909090909091, \"model\": \"orig\"}, {\"index\": \"C1019\", \"count\": 5.0, \"mean\": 0.5017440950048114, \"std\": 0.17597483845599088, \"min\": 0.35714285714285715, \"25%\": 0.36619718309859156, \"50%\": 0.40625, \"75%\": 0.64, \"max\": 0.7391304347826086, \"model\": \"orig\"}, {\"index\": \"P2CON1008\", \"count\": 7.0, \"mean\": 0.37875457875457874, \"std\": 0.16426390543003808, \"min\": 0.17777777777777778, \"25%\": 0.28125, \"50%\": 0.38461538461538464, \"75%\": 0.41944444444444445, \"max\": 0.6875, \"model\": \"orig\"}, {\"index\": \"C1070\", \"count\": 6.0, \"mean\": 0.23588508727827615, \"std\": 0.04051243627696629, \"min\": 0.18518518518518517, \"25%\": 0.20647773279352227, \"50%\": 0.23489278752436646, \"75%\": 0.2706971677559913, \"max\": 0.2807017543859649, \"model\": \"orig\"}, {\"index\": \"C1097\", \"count\": 9.0, \"mean\": 0.22368393354952495, \"std\": 0.16721046741035223, \"min\": 0.023809523809523808, \"25%\": 0.15555555555555556, \"50%\": 0.2, \"75%\": 0.28, \"max\": 0.6, \"model\": \"orig\"}, {\"index\": \"C2012\", \"count\": 5.0, \"mean\": 0.6419130910735109, \"std\": 0.1436691395518708, \"min\": 0.4444444444444444, \"25%\": 0.5428571428571428, \"50%\": 0.6896551724137931, \"75%\": 0.75, \"max\": 0.782608695652174, \"model\": \"orig\"}, {\"index\": \"PCON1002\", \"count\": 46.0, \"mean\": 0.42180389832569853, \"std\": 0.20184880296738406, \"min\": 0.0, \"25%\": 0.29166666666666663, \"50%\": 0.41428571428571426, \"75%\": 0.5610923423423423, \"max\": 0.7894736842105263, \"model\": \"orig\"}, {\"index\": \"C1066\", \"count\": 5.0, \"mean\": 0.3971147371147371, \"std\": 0.042143877185648125, \"min\": 0.35555555555555557, \"25%\": 0.36363636363636365, \"50%\": 0.3974358974358974, \"75%\": 0.4074074074074074, \"max\": 0.46153846153846156, \"model\": \"orig\"}, {\"index\": \"C1028\", \"count\": 9.0, \"mean\": 0.3722735277583676, \"std\": 0.13870354969347445, \"min\": 0.25, \"25%\": 0.2727272727272727, \"50%\": 0.3076923076923077, \"75%\": 0.4782608695652174, \"max\": 0.631578947368421, \"model\": \"orig\"}, {\"index\": \"P2CON2002\", \"count\": 1.0, \"mean\": 0.5294117647058824, \"std\": null, \"min\": 0.5294117647058824, \"25%\": 0.5294117647058824, \"50%\": 0.5294117647058824, \"75%\": 0.5294117647058824, \"max\": 0.5294117647058824, \"model\": \"orig\"}, {\"index\": \"C1007\", \"count\": 7.0, \"mean\": 0.22990620189029376, \"std\": 0.23120784454076643, \"min\": 0.0, \"25%\": 0.1009009009009009, \"50%\": 0.16666666666666666, \"75%\": 0.27043747238179405, \"max\": 0.7, \"model\": \"orig\"}, {\"index\": \"C1052\", \"count\": 18.0, \"mean\": 0.31161574833224787, \"std\": 0.13774981288617907, \"min\": 0.1111111111111111, \"25%\": 0.20882352941176474, \"50%\": 0.29851973684210525, \"75%\": 0.3816666666666667, \"max\": 0.6086956521739131, \"model\": \"orig\"}, {\"index\": \"C1039\", \"count\": 11.0, \"mean\": 0.38191595678397916, \"std\": 0.11588941817967194, \"min\": 0.15, \"25%\": 0.3319734829168791, \"50%\": 0.35294117647058826, \"75%\": 0.44129554655870445, \"max\": 0.6153846153846154, \"model\": \"orig\"}, {\"index\": \"P2CON1005\", \"count\": 8.0, \"mean\": 0.5391989047062209, \"std\": 0.2296460773399656, \"min\": 0.3157894736842105, \"25%\": 0.40033783783783783, \"50%\": 0.44061302681992337, \"75%\": 0.6652644230769231, \"max\": 1.0, \"model\": \"orig\"}, {\"index\": \"PCON1014\", \"count\": 14.0, \"mean\": 0.4645890717726192, \"std\": 0.18106888397990464, \"min\": 0.3191489361702128, \"25%\": 0.35329670329670326, \"50%\": 0.40192307692307694, \"75%\": 0.49, \"max\": 1.0, \"model\": \"orig\"}, {\"index\": \"P2CON2008\", \"count\": 7.0, \"mean\": 0.3697344322344322, \"std\": 0.19407923651236436, \"min\": 0.05555555555555555, \"25%\": 0.25427350427350426, \"50%\": 0.4, \"75%\": 0.5120192307692308, \"max\": 0.6, \"model\": \"orig\"}, {\"index\": \"P2CON1004\", \"count\": 2.0, \"mean\": 0.34846698113207547, \"std\": 0.22764168781123523, \"min\": 0.1875, \"25%\": 0.26798349056603776, \"50%\": 0.34846698113207547, \"75%\": 0.4289504716981132, \"max\": 0.5094339622641509, \"model\": \"orig\"}, {\"index\": \"PCON1010\", \"count\": 6.0, \"mean\": 0.4102795306669805, \"std\": 0.08873064738897755, \"min\": 0.3333333333333333, \"25%\": 0.35840210052513133, \"50%\": 0.3935483870967742, \"75%\": 0.4088235294117647, \"max\": 0.5806451612903226, \"model\": \"orig\"}, {\"index\": \"C1042\", \"count\": 8.0, \"mean\": 0.78118682732736, \"std\": 0.19807301108963532, \"min\": 0.45454545454545453, \"25%\": 0.6460084033613446, \"50%\": 0.7882308845577211, \"75%\": 0.9464285714285714, \"max\": 1.0, \"model\": \"orig\"}, {\"index\": \"P2CON2004\", \"count\": 9.0, \"mean\": 0.5297123306898476, \"std\": 0.10959848420732879, \"min\": 0.37142857142857144, \"25%\": 0.48148148148148145, \"50%\": 0.48936170212765956, \"75%\": 0.5932203389830508, \"max\": 0.6956521739130435, \"model\": \"orig\"}, {\"index\": \"C1082\", \"count\": 9.0, \"mean\": 0.4106870859058233, \"std\": 0.1622006185002404, \"min\": 0.18181818181818182, \"25%\": 0.29411764705882354, \"50%\": 0.4461538461538462, \"75%\": 0.5263157894736842, \"max\": 0.6521739130434783, \"model\": \"orig\"}, {\"index\": \"C1104\", \"count\": 6.0, \"mean\": 0.37338606347328995, \"std\": 0.2175272683690644, \"min\": 0.2, \"25%\": 0.2598684210526316, \"50%\": 0.3076581904198699, \"75%\": 0.3627106741573034, \"max\": 0.8, \"model\": \"orig\"}, {\"index\": \"C1079\", \"count\": 12.0, \"mean\": 0.38665586260835966, \"std\": 0.2091402205142869, \"min\": 0.13953488372093023, \"25%\": 0.26096491228070173, \"50%\": 0.3390804597701149, \"75%\": 0.488095238095238, \"max\": 0.8823529411764706, \"model\": \"orig\"}, {\"index\": \"PCON1008\", \"count\": 3.0, \"mean\": 0.5212121212121212, \"std\": 0.4226376574936034, \"min\": 0.2, \"25%\": 0.28181818181818186, \"50%\": 0.36363636363636365, \"75%\": 0.6818181818181819, \"max\": 1.0, \"model\": \"orig\"}, {\"index\": \"C1112\", \"count\": 12.0, \"mean\": 0.1749457255707256, \"std\": 0.14369869233991733, \"min\": 0.0, \"25%\": 0.075625, \"50%\": 0.1575757575757576, \"75%\": 0.22023809523809523, \"max\": 0.5555555555555556, \"model\": \"orig\"}, {\"index\": \"C1127\", \"count\": 6.0, \"mean\": 0.43214524273930804, \"std\": 0.15531107703409391, \"min\": 0.3037974683544304, \"25%\": 0.339041095890411, \"50%\": 0.3780821917808219, \"75%\": 0.45593220338983054, \"max\": 0.725, \"model\": \"orig\"}, {\"index\": \"C1122\", \"count\": 5.0, \"mean\": 0.1942827130852341, \"std\": 0.13574540002376476, \"min\": 0.0, \"25%\": 0.14285714285714285, \"50%\": 0.1875, \"75%\": 0.29411764705882354, \"max\": 0.3469387755102041, \"model\": \"orig\"}, {\"index\": \"C1054\", \"count\": 11.0, \"mean\": 0.35970421906954414, \"std\": 0.25826412277369226, \"min\": 0.07692307692307693, \"25%\": 0.1360294117647059, \"50%\": 0.39285714285714285, \"75%\": 0.4733893557422969, \"max\": 0.9473684210526315, \"model\": \"orig\"}, {\"index\": \"C1038\", \"count\": 11.0, \"mean\": 0.5523494762522976, \"std\": 0.16295481436783824, \"min\": 0.2571428571428571, \"25%\": 0.45454545454545453, \"50%\": 0.5185185185185185, \"75%\": 0.6803030303030303, \"max\": 0.7727272727272727, \"model\": \"orig\"}, {\"index\": \"C1017\", \"count\": 4.0, \"mean\": 0.4056818181818182, \"std\": 0.10905144488200967, \"min\": 0.25, \"25%\": 0.3761363636363636, \"50%\": 0.43636363636363634, \"75%\": 0.4659090909090909, \"max\": 0.5, \"model\": \"orig\"}, {\"index\": \"PCON1015\", \"count\": 4.0, \"mean\": 0.24015567765567764, \"std\": 0.09095754842402351, \"min\": 0.11538461538461539, \"25%\": 0.21634615384615385, \"50%\": 0.25595238095238093, \"75%\": 0.27976190476190477, \"max\": 0.3333333333333333, \"model\": \"orig\"}, {\"index\": \"PCON1019\", \"count\": 52.0, \"mean\": 0.3166553393080058, \"std\": 0.18005587389438418, \"min\": 0.058823529411764705, \"25%\": 0.18612680477087257, \"50%\": 0.2857142857142857, \"75%\": 0.3824884792626728, \"max\": 0.9090909090909091, \"model\": \"orig\"}, {\"index\": \"C1106\", \"count\": 14.0, \"mean\": 0.5314021800393981, \"std\": 0.22756721446571518, \"min\": 0.18181818181818182, \"25%\": 0.413961038961039, \"50%\": 0.5634920634920635, \"75%\": 0.6822916666666666, \"max\": 0.8571428571428571, \"model\": \"orig\"}, {\"index\": \"C1113\", \"count\": 11.0, \"mean\": 0.26094121513461194, \"std\": 0.19290485603219595, \"min\": 0.0, \"25%\": 0.12243502051983585, \"50%\": 0.2549019607843137, \"75%\": 0.3502943650126157, \"max\": 0.6666666666666666, \"model\": \"orig\"}, {\"index\": \"PCON1006\", \"count\": 4.0, \"mean\": 0.5105105269296941, \"std\": 0.22181760691017224, \"min\": 0.28169014084507044, \"25%\": 0.36390079608083287, \"50%\": 0.4873188405797102, \"75%\": 0.6339285714285714, \"max\": 0.7857142857142857, \"model\": \"orig\"}, {\"index\": \"PCON1009\", \"count\": 33.0, \"mean\": 0.35668590435639486, \"std\": 0.171826702491219, \"min\": 0.0, \"25%\": 0.2777777777777778, \"50%\": 0.35294117647058826, \"75%\": 0.42857142857142855, \"max\": 0.8125, \"model\": \"orig\"}, {\"index\": \"P2CON2001\", \"count\": 4.0, \"mean\": 0.3831752305665349, \"std\": 0.16531232025183784, \"min\": 0.17391304347826086, \"25%\": 0.2934782608695652, \"50%\": 0.4066666666666666, \"75%\": 0.49636363636363634, \"max\": 0.5454545454545454, \"model\": \"orig\"}, {\"index\": \"P2CON1013\", \"count\": 6.0, \"mean\": 0.3694741532976828, \"std\": 0.08548763430188, \"min\": 0.2727272727272727, \"25%\": 0.30392156862745096, \"50%\": 0.3666666666666667, \"75%\": 0.4125, \"max\": 0.5, \"model\": \"orig\"}, {\"index\": \"P2CON1009\", \"count\": 20.0, \"mean\": 0.264761417089391, \"std\": 0.1389287690978068, \"min\": 0.0, \"25%\": 0.17014742014742013, \"50%\": 0.290625, \"75%\": 0.33568548387096775, \"max\": 0.5, \"model\": \"orig\"}, {\"index\": \"P2CON1012\", \"count\": 5.0, \"mean\": 0.241725605198091, \"std\": 0.22079202638575854, \"min\": 0.058823529411764705, \"25%\": 0.0967741935483871, \"50%\": 0.15, \"75%\": 0.30303030303030304, \"max\": 0.6, \"model\": \"orig\"}, {\"index\": \"C1032\", \"count\": 8.0, \"mean\": 0.44517471692394295, \"std\": 0.19368703219034616, \"min\": 0.20833333333333334, \"25%\": 0.3232456140350877, \"50%\": 0.4125874125874126, \"75%\": 0.53125, \"max\": 0.7941176470588235, \"model\": \"orig\"}, {\"index\": \"PCON1013\", \"count\": 9.0, \"mean\": 0.5261082361657075, \"std\": 0.23416638642160809, \"min\": 0.2, \"25%\": 0.3793103448275862, \"50%\": 0.5, \"75%\": 0.6060606060606061, \"max\": 1.0, \"model\": \"orig\"}, {\"index\": \"C1083\", \"count\": 4.0, \"mean\": 0.47295168067226895, \"std\": 0.4077582401966556, \"min\": 0.125, \"25%\": 0.16517857142857142, \"50%\": 0.38340336134453784, \"75%\": 0.6911764705882353, \"max\": 1.0, \"model\": \"orig\"}, {\"index\": \"PCON1007\", \"count\": 7.0, \"mean\": 0.2529704222193594, \"std\": 0.11492400042551418, \"min\": 0.10344827586206896, \"25%\": 0.17575757575757578, \"50%\": 0.2602739726027397, \"75%\": 0.3055555555555556, \"max\": 0.4444444444444444, \"model\": \"orig\"}, {\"index\": \"C1033\", \"count\": 4.0, \"mean\": 0.5417231091759394, \"std\": 0.1878474382523664, \"min\": 0.3230769230769231, \"25%\": 0.45576923076923076, \"50%\": 0.5330188679245282, \"75%\": 0.6189727463312369, \"max\": 0.7777777777777778, \"model\": \"tuned\"}, {\"index\": \"C1105\", \"count\": 11.0, \"mean\": 0.4603791642966284, \"std\": 0.1195714384519527, \"min\": 0.2222222222222222, \"25%\": 0.39230769230769236, \"50%\": 0.46875, \"75%\": 0.5584415584415584, \"max\": 0.6111111111111112, \"model\": \"tuned\"}, {\"index\": \"C1046\", \"count\": 10.0, \"mean\": 0.20016653447434277, \"std\": 0.15297491454593315, \"min\": 0.05084745762711865, \"25%\": 0.08710407239819004, \"50%\": 0.1525096525096525, \"75%\": 0.2406191369606004, \"max\": 0.5384615384615384, \"model\": \"tuned\"}, {\"index\": \"C2024\", \"count\": 11.0, \"mean\": 0.17458408450489377, \"std\": 0.13011503158060822, \"min\": 0.0, \"25%\": 0.09576023391812866, \"50%\": 0.1724137931034483, \"75%\": 0.19454887218045114, \"max\": 0.45454545454545453, \"model\": \"tuned\"}, {\"index\": \"C1018\", \"count\": 3.0, \"mean\": 0.24553571428571427, \"std\": 0.1409611911057763, \"min\": 0.14285714285714285, \"25%\": 0.16517857142857142, \"50%\": 0.1875, \"75%\": 0.296875, \"max\": 0.40625, \"model\": \"tuned\"}, {\"index\": \"P2CON2006\", \"count\": 5.0, \"mean\": 0.16798676199055704, \"std\": 0.11609505114348799, \"min\": 0.03636363636363636, \"25%\": 0.058823529411764705, \"50%\": 0.1935483870967742, \"75%\": 0.2549019607843137, \"max\": 0.2962962962962963, \"model\": \"tuned\"}, {\"index\": \"C1103\", \"count\": 13.0, \"mean\": 0.3839568795342426, \"std\": 0.1498582381951941, \"min\": 0.1111111111111111, \"25%\": 0.3, \"50%\": 0.3888888888888889, \"75%\": 0.4583333333333333, \"max\": 0.7, \"model\": \"tuned\"}, {\"index\": \"PCON1004\", \"count\": 6.0, \"mean\": 0.19166666666666668, \"std\": 0.12725739445880715, \"min\": 0.0, \"25%\": 0.11666666666666667, \"50%\": 0.20833333333333331, \"75%\": 0.2875, \"max\": 0.3333333333333333, \"model\": \"tuned\"}, {\"index\": \"C2016\", \"count\": 9.0, \"mean\": 0.4378006253006253, \"std\": 0.2696618049809206, \"min\": 0.0, \"25%\": 0.3125, \"50%\": 0.3333333333333333, \"75%\": 0.6666666666666666, \"max\": 0.9, \"model\": \"tuned\"}, {\"index\": \"C1124\", \"count\": 7.0, \"mean\": 0.638447339633686, \"std\": 0.14216678880447672, \"min\": 0.4583333333333333, \"25%\": 0.5866188769414575, \"50%\": 0.5932203389830508, \"75%\": 0.6676245210727969, \"max\": 0.9090909090909091, \"model\": \"tuned\"}, {\"index\": \"C1019\", \"count\": 5.0, \"mean\": 0.3850233356661709, \"std\": 0.14351185183157086, \"min\": 0.2571428571428571, \"25%\": 0.28125, \"50%\": 0.3380281690140845, \"75%\": 0.44, \"max\": 0.6086956521739131, \"model\": \"tuned\"}, {\"index\": \"P2CON1008\", \"count\": 7.0, \"mean\": 0.2974053724053724, \"std\": 0.15041650837539766, \"min\": 0.1111111111111111, \"25%\": 0.19791666666666669, \"50%\": 0.2777777777777778, \"75%\": 0.36730769230769234, \"max\": 0.5625, \"model\": \"tuned\"}, {\"index\": \"C1070\", \"count\": 6.0, \"mean\": 0.1803177711330446, \"std\": 0.08360447925898119, \"min\": 0.07407407407407407, \"25%\": 0.1282051282051282, \"50%\": 0.18623481781376516, \"75%\": 0.20614035087719296, \"max\": 0.3137254901960784, \"model\": \"tuned\"}, {\"index\": \"C1097\", \"count\": 9.0, \"mean\": 0.21662925982818457, \"std\": 0.1828844140853507, \"min\": 0.0625, \"25%\": 0.07142857142857142, \"50%\": 0.18, \"75%\": 0.2777777777777778, \"max\": 0.65, \"model\": \"tuned\"}, {\"index\": \"C2012\", \"count\": 5.0, \"mean\": 0.4486027224482997, \"std\": 0.22644855653754184, \"min\": 0.2222222222222222, \"25%\": 0.37142857142857144, \"50%\": 0.375, \"75%\": 0.4482758620689655, \"max\": 0.8260869565217391, \"model\": \"tuned\"}, {\"index\": \"PCON1002\", \"count\": 46.0, \"mean\": 0.31017606564047046, \"std\": 0.17956763945939525, \"min\": 0.0, \"25%\": 0.18126598465473145, \"50%\": 0.30707070707070705, \"75%\": 0.40405405405405403, \"max\": 0.8571428571428571, \"model\": \"tuned\"}, {\"index\": \"C1066\", \"count\": 5.0, \"mean\": 0.3253820253820254, \"std\": 0.10801271915581669, \"min\": 0.2222222222222222, \"25%\": 0.23076923076923078, \"50%\": 0.2962962962962963, \"75%\": 0.4230769230769231, \"max\": 0.45454545454545453, \"model\": \"tuned\"}, {\"index\": \"C1028\", \"count\": 9.0, \"mean\": 0.27904772775815867, \"std\": 0.15563341409509387, \"min\": 0.15384615384615385, \"25%\": 0.19230769230769232, \"50%\": 0.22727272727272727, \"75%\": 0.2608695652173913, \"max\": 0.5789473684210527, \"model\": \"tuned\"}, {\"index\": \"P2CON2002\", \"count\": 1.0, \"mean\": 0.47058823529411764, \"std\": null, \"min\": 0.47058823529411764, \"25%\": 0.47058823529411764, \"50%\": 0.47058823529411764, \"75%\": 0.47058823529411764, \"max\": 0.47058823529411764, \"model\": \"tuned\"}, {\"index\": \"C1039\", \"count\": 11.0, \"mean\": 0.28513249786629147, \"std\": 0.11723534011490154, \"min\": 0.05, \"25%\": 0.23802612481857766, \"50%\": 0.2972972972972973, \"75%\": 0.3248987854251012, \"max\": 0.5, \"model\": \"tuned\"}, {\"index\": \"P2CON1005\", \"count\": 8.0, \"mean\": 0.48603963591628063, \"std\": 0.241367256647804, \"min\": 0.21052631578947367, \"25%\": 0.3645833333333333, \"50%\": 0.4114114114114114, \"75%\": 0.5522836538461539, \"max\": 1.0, \"model\": \"tuned\"}, {\"index\": \"C1007\", \"count\": 7.0, \"mean\": 0.19265391267158832, \"std\": 0.15750436357335063, \"min\": 0.0, \"25%\": 0.11666666666666667, \"50%\": 0.1935483870967742, \"75%\": 0.21084783413550537, \"max\": 0.5, \"model\": \"tuned\"}, {\"index\": \"C1052\", \"count\": 18.0, \"mean\": 0.22002641547274257, \"std\": 0.12612853902285864, \"min\": 0.03333333333333333, \"25%\": 0.11904761904761904, \"50%\": 0.2, \"75%\": 0.3109161793372319, \"max\": 0.5217391304347826, \"model\": \"tuned\"}, {\"index\": \"PCON1014\", \"count\": 14.0, \"mean\": 0.4148683759515704, \"std\": 0.1976453293393573, \"min\": 0.2127659574468085, \"25%\": 0.3125, \"50%\": 0.3631336405529954, \"75%\": 0.43333333333333335, \"max\": 1.0, \"model\": \"tuned\"}, {\"index\": \"P2CON2008\", \"count\": 7.0, \"mean\": 0.2755799755799756, \"std\": 0.15792076282784898, \"min\": 0.05555555555555555, \"25%\": 0.17692307692307693, \"50%\": 0.23076923076923078, \"75%\": 0.3944444444444445, \"max\": 0.5, \"model\": \"tuned\"}, {\"index\": \"P2CON1004\", \"count\": 2.0, \"mean\": 0.30129716981132076, \"std\": 0.16093350090684397, \"min\": 0.1875, \"25%\": 0.24439858490566038, \"50%\": 0.30129716981132076, \"75%\": 0.3581957547169812, \"max\": 0.41509433962264153, \"model\": \"tuned\"}, {\"index\": \"PCON1010\", \"count\": 6.0, \"mean\": 0.39911094720458823, \"std\": 0.11176782641132128, \"min\": 0.27906976744186046, \"25%\": 0.32085253456221197, \"50%\": 0.3774193548387097, \"75%\": 0.4529411764705882, \"max\": 0.5806451612903226, \"model\": \"tuned\"}, {\"index\": \"C1042\", \"count\": 8.0, \"mean\": 0.6212401462561309, \"std\": 0.244755282462188, \"min\": 0.38235294117647056, \"25%\": 0.44805194805194803, \"50%\": 0.4891304347826087, \"75%\": 0.8482142857142857, \"max\": 1.0, \"model\": \"tuned\"}, {\"index\": \"P2CON2004\", \"count\": 9.0, \"mean\": 0.48289031443617186, \"std\": 0.08972634976152184, \"min\": 0.34285714285714286, \"25%\": 0.44680851063829785, \"50%\": 0.49019607843137253, \"75%\": 0.559322033898305, \"max\": 0.6086956521739131, \"model\": \"tuned\"}, {\"index\": \"C1082\", \"count\": 9.0, \"mean\": 0.3942703418137528, \"std\": 0.15175579770105949, \"min\": 0.18181818181818182, \"25%\": 0.26666666666666666, \"50%\": 0.46153846153846156, \"75%\": 0.5, \"max\": 0.6153846153846154, \"model\": \"tuned\"}, {\"index\": \"C1104\", \"count\": 6.0, \"mean\": 0.3717302385176424, \"std\": 0.27148645115758374, \"min\": 0.16853932584269662, \"25%\": 0.20921052631578949, \"50%\": 0.2934210526315789, \"75%\": 0.36875, \"max\": 0.9, \"model\": \"tuned\"}, {\"index\": \"C1079\", \"count\": 12.0, \"mean\": 0.3340488594225733, \"std\": 0.2216997895502915, \"min\": 0.06976744186046512, \"25%\": 0.20297619047619048, \"50%\": 0.28869047619047616, \"75%\": 0.3657635467980296, \"max\": 0.8823529411764706, \"model\": \"tuned\"}, {\"index\": \"PCON1008\", \"count\": 3.0, \"mean\": 0.5656565656565656, \"std\": 0.37645747785018635, \"min\": 0.3333333333333333, \"25%\": 0.3484848484848485, \"50%\": 0.36363636363636365, \"75%\": 0.6818181818181819, \"max\": 1.0, \"model\": \"tuned\"}, {\"index\": \"C1112\", \"count\": 12.0, \"mean\": 0.15560663873163869, \"std\": 0.11199937586474035, \"min\": 0.027777777777777776, \"25%\": 0.07435897435897436, \"50%\": 0.17307692307692307, \"75%\": 0.1919642857142857, \"max\": 0.4444444444444444, \"model\": \"tuned\"}, {\"index\": \"C1127\", \"count\": 6.0, \"mean\": 0.33054659161742184, \"std\": 0.1469861134689464, \"min\": 0.24050632911392406, \"25%\": 0.2495276334435522, \"50%\": 0.2810540979800325, \"75%\": 0.30774818401937043, \"max\": 0.625, \"model\": \"tuned\"}, {\"index\": \"C1122\", \"count\": 5.0, \"mean\": 0.1528111244497799, \"std\": 0.1360374378125366, \"min\": 0.0, \"25%\": 0.09523809523809523, \"50%\": 0.125, \"75%\": 0.17647058823529413, \"max\": 0.3673469387755102, \"model\": \"tuned\"}, {\"index\": \"C1054\", \"count\": 11.0, \"mean\": 0.28079093678938877, \"std\": 0.2271702370859373, \"min\": 0.0, \"25%\": 0.12352941176470589, \"50%\": 0.25, \"75%\": 0.3487394957983193, \"max\": 0.7894736842105263, \"model\": \"tuned\"}, {\"index\": \"C1038\", \"count\": 11.0, \"mean\": 0.5091910672631675, \"std\": 0.1921754999366707, \"min\": 0.17142857142857143, \"25%\": 0.45141065830721006, \"50%\": 0.5416666666666666, \"75%\": 0.6333333333333333, \"max\": 0.7727272727272727, \"model\": \"tuned\"}, {\"index\": \"C1017\", \"count\": 4.0, \"mean\": 0.3143939393939394, \"std\": 0.14516226948203653, \"min\": 0.15, \"25%\": 0.21477272727272728, \"50%\": 0.32651515151515154, \"75%\": 0.42613636363636365, \"max\": 0.45454545454545453, \"model\": \"tuned\"}, {\"index\": \"PCON1015\", \"count\": 4.0, \"mean\": 0.22672466422466422, \"std\": 0.061465504956263455, \"min\": 0.16666666666666666, \"25%\": 0.1875, \"50%\": 0.21626984126984128, \"75%\": 0.2554945054945055, \"max\": 0.3076923076923077, \"model\": \"tuned\"}, {\"index\": \"C1106\", \"count\": 14.0, \"mean\": 0.3976243030848293, \"std\": 0.22767739781582344, \"min\": 0.0, \"25%\": 0.273989898989899, \"50%\": 0.3380952380952381, \"75%\": 0.5691964285714286, \"max\": 0.7692307692307693, \"model\": \"tuned\"}, {\"index\": \"PCON1019\", \"count\": 52.0, \"mean\": 0.2406626583753219, \"std\": 0.18719606402437947, \"min\": 0.0, \"25%\": 0.13617103235747302, \"50%\": 0.19098277608915906, \"75%\": 0.3088942307692308, \"max\": 1.0, \"model\": \"tuned\"}, {\"index\": \"C1113\", \"count\": 11.0, \"mean\": 0.16223695580488526, \"std\": 0.12307144018629505, \"min\": 0.0, \"25%\": 0.07198142414860681, \"50%\": 0.16279069767441862, \"75%\": 0.2456896551724138, \"max\": 0.34146341463414637, \"model\": \"tuned\"}, {\"index\": \"P2CON2001\", \"count\": 4.0, \"mean\": 0.4174440052700923, \"std\": 0.2933135974396197, \"min\": 0.14492753623188406, \"25%\": 0.23623188405797102, \"50%\": 0.35333333333333333, \"75%\": 0.5345454545454545, \"max\": 0.8181818181818182, \"model\": \"tuned\"}, {\"index\": \"PCON1009\", \"count\": 33.0, \"mean\": 0.3261688123486955, \"std\": 0.1819586387601087, \"min\": 0.0, \"25%\": 0.21428571428571427, \"50%\": 0.3333333333333333, \"75%\": 0.38461538461538464, \"max\": 0.875, \"model\": \"tuned\"}, {\"index\": \"PCON1006\", \"count\": 4.0, \"mean\": 0.40703095383897586, \"std\": 0.20437299274938428, \"min\": 0.16901408450704225, \"25%\": 0.27051439069197797, \"50%\": 0.43788819875776397, \"75%\": 0.5744047619047619, \"max\": 0.5833333333333334, \"model\": \"tuned\"}, {\"index\": \"P2CON1013\", \"count\": 6.0, \"mean\": 0.25665364047716993, \"std\": 0.1378521956902052, \"min\": 0.0, \"25%\": 0.26048951048951047, \"50%\": 0.28342245989304815, \"75%\": 0.2985294117647059, \"max\": 0.4166666666666667, \"model\": \"tuned\"}, {\"index\": \"P2CON1009\", \"count\": 20.0, \"mean\": 0.20512242969049826, \"std\": 0.12737588318190401, \"min\": 0.0, \"25%\": 0.12635135135135137, \"50%\": 0.19523809523809524, \"75%\": 0.3063858695652174, \"max\": 0.48148148148148145, \"model\": \"tuned\"}, {\"index\": \"P2CON1012\", \"count\": 5.0, \"mean\": 0.16127105974354553, \"std\": 0.12071588857876712, \"min\": 0.058823529411764705, \"25%\": 0.075, \"50%\": 0.0967741935483871, \"75%\": 0.24242424242424243, \"max\": 0.3333333333333333, \"model\": \"tuned\"}, {\"index\": \"C1032\", \"count\": 8.0, \"mean\": 0.30598569306725265, \"std\": 0.10543210127197192, \"min\": 0.16666666666666666, \"25%\": 0.24945175438596492, \"50%\": 0.27097902097902093, \"75%\": 0.3909313725490196, \"max\": 0.46875, \"model\": \"tuned\"}, {\"index\": \"PCON1013\", \"count\": 9.0, \"mean\": 0.4871528641643585, \"std\": 0.23548593890037745, \"min\": 0.25, \"25%\": 0.3611111111111111, \"50%\": 0.42857142857142855, \"75%\": 0.5, \"max\": 1.0, \"model\": \"tuned\"}, {\"index\": \"C1083\", \"count\": 4.0, \"mean\": 0.4275210084033614, \"std\": 0.3416154156380923, \"min\": 0.17857142857142858, \"25%\": 0.23214285714285715, \"50%\": 0.30147058823529416, \"75%\": 0.49684873949579833, \"max\": 0.9285714285714286, \"model\": \"tuned\"}, {\"index\": \"PCON1007\", \"count\": 7.0, \"mean\": 0.1748251119058866, \"std\": 0.11865586683610761, \"min\": 0.0, \"25%\": 0.12452107279693486, \"50%\": 0.16666666666666666, \"75%\": 0.2095890410958904, \"max\": 0.3888888888888889, \"model\": \"tuned\"}]}}, {\"mode\": \"vega-lite\"});\n",
       "</script>"
      ],
      "text/plain": [
       "alt.Chart(...)"
      ]
     },
     "execution_count": 11,
     "metadata": {},
     "output_type": "execute_result"
    }
   ],
   "source": [
    "orig_describe = pt_describe(orig, colname=\"wer\")\n",
    "tuned_describe = pt_describe(tuned, colname=\"wer\")\n",
    "\n",
    "orig_describe[\"model\"] = \"orig\"\n",
    "tuned_describe[\"model\"] = \"tuned\"\n",
    "\n",
    "describe = pd.concat([orig_describe, tuned_describe])\n",
    "plt = alt.Chart(describe.reset_index()).mark_bar().encode(\n",
    "                     x = \"index\",\n",
    "                     y = \"mean\",\n",
    "                     color = \"count\",\n",
    "                     row = \"model\")\n",
    "plt"
   ]
  },
  {
   "cell_type": "code",
   "execution_count": 8,
   "metadata": {},
   "outputs": [
    {
     "data": {
      "text/html": [
       "<div>\n",
       "<style scoped>\n",
       "    .dataframe tbody tr th:only-of-type {\n",
       "        vertical-align: middle;\n",
       "    }\n",
       "\n",
       "    .dataframe tbody tr th {\n",
       "        vertical-align: top;\n",
       "    }\n",
       "\n",
       "    .dataframe thead th {\n",
       "        text-align: right;\n",
       "    }\n",
       "</style>\n",
       "<table border=\"1\" class=\"dataframe\">\n",
       "  <thead>\n",
       "    <tr style=\"text-align: right;\">\n",
       "      <th></th>\n",
       "      <th>count</th>\n",
       "      <th>mean</th>\n",
       "      <th>std</th>\n",
       "      <th>min</th>\n",
       "      <th>25%</th>\n",
       "      <th>50%</th>\n",
       "      <th>75%</th>\n",
       "      <th>max</th>\n",
       "      <th>model</th>\n",
       "    </tr>\n",
       "  </thead>\n",
       "  <tbody>\n",
       "    <tr>\n",
       "      <td>C1106</td>\n",
       "      <td>14.0</td>\n",
       "      <td>0.531402</td>\n",
       "      <td>0.227567</td>\n",
       "      <td>0.181818</td>\n",
       "      <td>0.413961</td>\n",
       "      <td>0.563492</td>\n",
       "      <td>0.682292</td>\n",
       "      <td>0.857143</td>\n",
       "      <td>orig</td>\n",
       "    </tr>\n",
       "    <tr>\n",
       "      <td>PCON1008</td>\n",
       "      <td>3.0</td>\n",
       "      <td>0.521212</td>\n",
       "      <td>0.422638</td>\n",
       "      <td>0.200000</td>\n",
       "      <td>0.281818</td>\n",
       "      <td>0.363636</td>\n",
       "      <td>0.681818</td>\n",
       "      <td>1.000000</td>\n",
       "      <td>orig</td>\n",
       "    </tr>\n",
       "    <tr>\n",
       "      <td>P2CON1008</td>\n",
       "      <td>7.0</td>\n",
       "      <td>0.378755</td>\n",
       "      <td>0.164264</td>\n",
       "      <td>0.177778</td>\n",
       "      <td>0.281250</td>\n",
       "      <td>0.384615</td>\n",
       "      <td>0.419444</td>\n",
       "      <td>0.687500</td>\n",
       "      <td>orig</td>\n",
       "    </tr>\n",
       "    <tr>\n",
       "      <td>P2CON2001</td>\n",
       "      <td>4.0</td>\n",
       "      <td>0.383175</td>\n",
       "      <td>0.165312</td>\n",
       "      <td>0.173913</td>\n",
       "      <td>0.293478</td>\n",
       "      <td>0.406667</td>\n",
       "      <td>0.496364</td>\n",
       "      <td>0.545455</td>\n",
       "      <td>orig</td>\n",
       "    </tr>\n",
       "    <tr>\n",
       "      <td>PCON1019</td>\n",
       "      <td>52.0</td>\n",
       "      <td>0.316655</td>\n",
       "      <td>0.180056</td>\n",
       "      <td>0.058824</td>\n",
       "      <td>0.186127</td>\n",
       "      <td>0.285714</td>\n",
       "      <td>0.382488</td>\n",
       "      <td>0.909091</td>\n",
       "      <td>orig</td>\n",
       "    </tr>\n",
       "  </tbody>\n",
       "</table>\n",
       "</div>"
      ],
      "text/plain": [
       "           count      mean       std       min       25%       50%       75%  \\\n",
       "C1106       14.0  0.531402  0.227567  0.181818  0.413961  0.563492  0.682292   \n",
       "PCON1008     3.0  0.521212  0.422638  0.200000  0.281818  0.363636  0.681818   \n",
       "P2CON1008    7.0  0.378755  0.164264  0.177778  0.281250  0.384615  0.419444   \n",
       "P2CON2001    4.0  0.383175  0.165312  0.173913  0.293478  0.406667  0.496364   \n",
       "PCON1019    52.0  0.316655  0.180056  0.058824  0.186127  0.285714  0.382488   \n",
       "\n",
       "                max model  \n",
       "C1106      0.857143  orig  \n",
       "PCON1008   1.000000  orig  \n",
       "P2CON1008  0.687500  orig  \n",
       "P2CON2001  0.545455  orig  \n",
       "PCON1019   0.909091  orig  "
      ]
     },
     "execution_count": 8,
     "metadata": {},
     "output_type": "execute_result"
    }
   ],
   "source": [
    "orig_describe.head()"
   ]
  },
  {
   "cell_type": "code",
   "execution_count": 27,
   "metadata": {},
   "outputs": [
    {
     "data": {
      "text/plain": [
       "'we had some big jellyfish in victoria you know this size'"
      ]
     },
     "execution_count": 27,
     "metadata": {},
     "output_type": "execute_result"
    }
   ],
   "source": [
    "tuned_long.loc[4].text"
   ]
  },
  {
   "cell_type": "code",
   "execution_count": 20,
   "metadata": {},
   "outputs": [
    {
     "data": {
      "text/plain": [
       "count    522.000000\n",
       "mean       0.315936\n",
       "std        0.201840\n",
       "min        0.000000\n",
       "25%        0.176471\n",
       "50%        0.280625\n",
       "75%        0.428571\n",
       "max        1.000000\n",
       "Name: wer, dtype: float64"
      ]
     },
     "execution_count": 20,
     "metadata": {},
     "output_type": "execute_result"
    }
   ],
   "source": [
    "tuned.wer.describe()"
   ]
  },
  {
   "cell_type": "code",
   "execution_count": 11,
   "metadata": {},
   "outputs": [
    {
     "data": {
      "text/plain": [
       "0.39913614963819727"
      ]
     },
     "execution_count": 11,
     "metadata": {},
     "output_type": "execute_result"
    }
   ],
   "source": [
    "orig_describe[\"mean\"].mean()"
   ]
  },
  {
   "cell_type": "code",
   "execution_count": 12,
   "metadata": {},
   "outputs": [
    {
     "data": {
      "text/plain": [
       "0.3412366870633728"
      ]
     },
     "execution_count": 12,
     "metadata": {},
     "output_type": "execute_result"
    }
   ],
   "source": [
    "tuned_describe[\"mean\"].mean()"
   ]
  },
  {
   "cell_type": "markdown",
   "metadata": {},
   "source": [
    "## Audio situation"
   ]
  },
  {
   "cell_type": "code",
   "execution_count": 23,
   "metadata": {},
   "outputs": [
    {
     "data": {
      "text/html": [
       "<div>\n",
       "<style scoped>\n",
       "    .dataframe tbody tr th:only-of-type {\n",
       "        vertical-align: middle;\n",
       "    }\n",
       "\n",
       "    .dataframe tbody tr th {\n",
       "        vertical-align: top;\n",
       "    }\n",
       "\n",
       "    .dataframe thead th {\n",
       "        text-align: right;\n",
       "    }\n",
       "</style>\n",
       "<table border=\"1\" class=\"dataframe\">\n",
       "  <thead>\n",
       "    <tr style=\"text-align: right;\">\n",
       "      <th></th>\n",
       "      <th>uttid</th>\n",
       "      <th>st</th>\n",
       "      <th>et</th>\n",
       "      <th>text</th>\n",
       "      <th>identity</th>\n",
       "      <th>mather_audio_path</th>\n",
       "      <th>audio_prefix</th>\n",
       "      <th>audio_filepath</th>\n",
       "      <th>duration</th>\n",
       "    </tr>\n",
       "  </thead>\n",
       "  <tbody>\n",
       "    <tr>\n",
       "      <td>0</td>\n",
       "      <td>C1106_VC_3_FullCon_Wk01_Day3_100919_Participant_0</td>\n",
       "      <td>0</td>\n",
       "      <td>1</td>\n",
       "      <td>pretty good</td>\n",
       "      <td>Participant</td>\n",
       "      <td>/home/chliu/iconect_data/analysis/data/C1106/W...</td>\n",
       "      <td>C1106_VC_3_FullCon_Wk01_Day3_100919</td>\n",
       "      <td>iconect/seg_audio/C1106_VC_3_FullCon_Wk01_Day3...</td>\n",
       "      <td>1</td>\n",
       "    </tr>\n",
       "    <tr>\n",
       "      <td>1</td>\n",
       "      <td>C1106_VC_3_FullCon_Wk01_Day3_100919_Moderator_1</td>\n",
       "      <td>1</td>\n",
       "      <td>4</td>\n",
       "      <td>good you ready to get started today</td>\n",
       "      <td>Moderator</td>\n",
       "      <td>/home/chliu/iconect_data/analysis/data/C1106/W...</td>\n",
       "      <td>C1106_VC_3_FullCon_Wk01_Day3_100919</td>\n",
       "      <td>iconect/seg_audio/C1106_VC_3_FullCon_Wk01_Day3...</td>\n",
       "      <td>3</td>\n",
       "    </tr>\n",
       "    <tr>\n",
       "      <td>2</td>\n",
       "      <td>C1106_VC_3_FullCon_Wk01_Day3_100919_Participant_2</td>\n",
       "      <td>4</td>\n",
       "      <td>5</td>\n",
       "      <td>yes</td>\n",
       "      <td>Participant</td>\n",
       "      <td>/home/chliu/iconect_data/analysis/data/C1106/W...</td>\n",
       "      <td>C1106_VC_3_FullCon_Wk01_Day3_100919</td>\n",
       "      <td>iconect/seg_audio/C1106_VC_3_FullCon_Wk01_Day3...</td>\n",
       "      <td>1</td>\n",
       "    </tr>\n",
       "    <tr>\n",
       "      <td>3</td>\n",
       "      <td>C1106_VC_3_FullCon_Wk01_Day3_100919_Moderator_3</td>\n",
       "      <td>5</td>\n",
       "      <td>12</td>\n",
       "      <td>okay well my name is debra and i'm part of the...</td>\n",
       "      <td>Moderator</td>\n",
       "      <td>/home/chliu/iconect_data/analysis/data/C1106/W...</td>\n",
       "      <td>C1106_VC_3_FullCon_Wk01_Day3_100919</td>\n",
       "      <td>iconect/seg_audio/C1106_VC_3_FullCon_Wk01_Day3...</td>\n",
       "      <td>7</td>\n",
       "    </tr>\n",
       "    <tr>\n",
       "      <td>4</td>\n",
       "      <td>C1106_VC_3_FullCon_Wk01_Day3_100919_Moderator_5</td>\n",
       "      <td>12</td>\n",
       "      <td>25</td>\n",
       "      <td>okay all right we'll go ahead i'll share my sc...</td>\n",
       "      <td>Moderator</td>\n",
       "      <td>/home/chliu/iconect_data/analysis/data/C1106/W...</td>\n",
       "      <td>C1106_VC_3_FullCon_Wk01_Day3_100919</td>\n",
       "      <td>iconect/seg_audio/C1106_VC_3_FullCon_Wk01_Day3...</td>\n",
       "      <td>13</td>\n",
       "    </tr>\n",
       "    <tr>\n",
       "      <td>...</td>\n",
       "      <td>...</td>\n",
       "      <td>...</td>\n",
       "      <td>...</td>\n",
       "      <td>...</td>\n",
       "      <td>...</td>\n",
       "      <td>...</td>\n",
       "      <td>...</td>\n",
       "      <td>...</td>\n",
       "      <td>...</td>\n",
       "    </tr>\n",
       "    <tr>\n",
       "      <td>251</td>\n",
       "      <td>P2CON2006_VC_3_FullCon_Wk01_Day3_042518_Modera...</td>\n",
       "      <td>1536</td>\n",
       "      <td>1537</td>\n",
       "      <td>mm hmm</td>\n",
       "      <td>Moderator</td>\n",
       "      <td>/home/chliu/iconect_data/analysis/data/P2CON20...</td>\n",
       "      <td>P2CON2006_VC_3_FullCon_Wk01_Day3_042518</td>\n",
       "      <td>iconect/seg_audio/P2CON2006_VC_3_FullCon_Wk01_...</td>\n",
       "      <td>1</td>\n",
       "    </tr>\n",
       "    <tr>\n",
       "      <td>252</td>\n",
       "      <td>P2CON2006_VC_3_FullCon_Wk01_Day3_042518_Partic...</td>\n",
       "      <td>1537</td>\n",
       "      <td>1547</td>\n",
       "      <td>and um and uh and and the things that he that ...</td>\n",
       "      <td>Participant</td>\n",
       "      <td>/home/chliu/iconect_data/analysis/data/P2CON20...</td>\n",
       "      <td>P2CON2006_VC_3_FullCon_Wk01_Day3_042518</td>\n",
       "      <td>iconect/seg_audio/P2CON2006_VC_3_FullCon_Wk01_...</td>\n",
       "      <td>10</td>\n",
       "    </tr>\n",
       "    <tr>\n",
       "      <td>253</td>\n",
       "      <td>P2CON2006_VC_3_FullCon_Wk01_Day3_042518_Modera...</td>\n",
       "      <td>1547</td>\n",
       "      <td>1549</td>\n",
       "      <td>he felt comfortable there yeah</td>\n",
       "      <td>Moderator</td>\n",
       "      <td>/home/chliu/iconect_data/analysis/data/P2CON20...</td>\n",
       "      <td>P2CON2006_VC_3_FullCon_Wk01_Day3_042518</td>\n",
       "      <td>iconect/seg_audio/P2CON2006_VC_3_FullCon_Wk01_...</td>\n",
       "      <td>2</td>\n",
       "    </tr>\n",
       "    <tr>\n",
       "      <td>254</td>\n",
       "      <td>P2CON2006_VC_3_FullCon_Wk01_Day3_042518_Partic...</td>\n",
       "      <td>1549</td>\n",
       "      <td>1550</td>\n",
       "      <td>yes yes yes</td>\n",
       "      <td>Participant</td>\n",
       "      <td>/home/chliu/iconect_data/analysis/data/P2CON20...</td>\n",
       "      <td>P2CON2006_VC_3_FullCon_Wk01_Day3_042518</td>\n",
       "      <td>iconect/seg_audio/P2CON2006_VC_3_FullCon_Wk01_...</td>\n",
       "      <td>1</td>\n",
       "    </tr>\n",
       "    <tr>\n",
       "      <td>255</td>\n",
       "      <td>P2CON2006_VC_3_FullCon_Wk01_Day3_042518_Modera...</td>\n",
       "      <td>1550</td>\n",
       "      <td>1558</td>\n",
       "      <td>interesting uh well i would love to continue t...</td>\n",
       "      <td>Moderator</td>\n",
       "      <td>/home/chliu/iconect_data/analysis/data/P2CON20...</td>\n",
       "      <td>P2CON2006_VC_3_FullCon_Wk01_Day3_042518</td>\n",
       "      <td>iconect/seg_audio/P2CON2006_VC_3_FullCon_Wk01_...</td>\n",
       "      <td>8</td>\n",
       "    </tr>\n",
       "  </tbody>\n",
       "</table>\n",
       "<p>22084 rows × 9 columns</p>\n",
       "</div>"
      ],
      "text/plain": [
       "                                                 uttid    st    et  \\\n",
       "0    C1106_VC_3_FullCon_Wk01_Day3_100919_Participant_0     0     1   \n",
       "1      C1106_VC_3_FullCon_Wk01_Day3_100919_Moderator_1     1     4   \n",
       "2    C1106_VC_3_FullCon_Wk01_Day3_100919_Participant_2     4     5   \n",
       "3      C1106_VC_3_FullCon_Wk01_Day3_100919_Moderator_3     5    12   \n",
       "4      C1106_VC_3_FullCon_Wk01_Day3_100919_Moderator_5    12    25   \n",
       "..                                                 ...   ...   ...   \n",
       "251  P2CON2006_VC_3_FullCon_Wk01_Day3_042518_Modera...  1536  1537   \n",
       "252  P2CON2006_VC_3_FullCon_Wk01_Day3_042518_Partic...  1537  1547   \n",
       "253  P2CON2006_VC_3_FullCon_Wk01_Day3_042518_Modera...  1547  1549   \n",
       "254  P2CON2006_VC_3_FullCon_Wk01_Day3_042518_Partic...  1549  1550   \n",
       "255  P2CON2006_VC_3_FullCon_Wk01_Day3_042518_Modera...  1550  1558   \n",
       "\n",
       "                                                  text     identity  \\\n",
       "0                                          pretty good  Participant   \n",
       "1                  good you ready to get started today    Moderator   \n",
       "2                                                  yes  Participant   \n",
       "3    okay well my name is debra and i'm part of the...    Moderator   \n",
       "4    okay all right we'll go ahead i'll share my sc...    Moderator   \n",
       "..                                                 ...          ...   \n",
       "251                                             mm hmm    Moderator   \n",
       "252  and um and uh and and the things that he that ...  Participant   \n",
       "253                     he felt comfortable there yeah    Moderator   \n",
       "254                                        yes yes yes  Participant   \n",
       "255  interesting uh well i would love to continue t...    Moderator   \n",
       "\n",
       "                                     mather_audio_path  \\\n",
       "0    /home/chliu/iconect_data/analysis/data/C1106/W...   \n",
       "1    /home/chliu/iconect_data/analysis/data/C1106/W...   \n",
       "2    /home/chliu/iconect_data/analysis/data/C1106/W...   \n",
       "3    /home/chliu/iconect_data/analysis/data/C1106/W...   \n",
       "4    /home/chliu/iconect_data/analysis/data/C1106/W...   \n",
       "..                                                 ...   \n",
       "251  /home/chliu/iconect_data/analysis/data/P2CON20...   \n",
       "252  /home/chliu/iconect_data/analysis/data/P2CON20...   \n",
       "253  /home/chliu/iconect_data/analysis/data/P2CON20...   \n",
       "254  /home/chliu/iconect_data/analysis/data/P2CON20...   \n",
       "255  /home/chliu/iconect_data/analysis/data/P2CON20...   \n",
       "\n",
       "                                audio_prefix  \\\n",
       "0        C1106_VC_3_FullCon_Wk01_Day3_100919   \n",
       "1        C1106_VC_3_FullCon_Wk01_Day3_100919   \n",
       "2        C1106_VC_3_FullCon_Wk01_Day3_100919   \n",
       "3        C1106_VC_3_FullCon_Wk01_Day3_100919   \n",
       "4        C1106_VC_3_FullCon_Wk01_Day3_100919   \n",
       "..                                       ...   \n",
       "251  P2CON2006_VC_3_FullCon_Wk01_Day3_042518   \n",
       "252  P2CON2006_VC_3_FullCon_Wk01_Day3_042518   \n",
       "253  P2CON2006_VC_3_FullCon_Wk01_Day3_042518   \n",
       "254  P2CON2006_VC_3_FullCon_Wk01_Day3_042518   \n",
       "255  P2CON2006_VC_3_FullCon_Wk01_Day3_042518   \n",
       "\n",
       "                                        audio_filepath  duration  \n",
       "0    iconect/seg_audio/C1106_VC_3_FullCon_Wk01_Day3...         1  \n",
       "1    iconect/seg_audio/C1106_VC_3_FullCon_Wk01_Day3...         3  \n",
       "2    iconect/seg_audio/C1106_VC_3_FullCon_Wk01_Day3...         1  \n",
       "3    iconect/seg_audio/C1106_VC_3_FullCon_Wk01_Day3...         7  \n",
       "4    iconect/seg_audio/C1106_VC_3_FullCon_Wk01_Day3...        13  \n",
       "..                                                 ...       ...  \n",
       "251  iconect/seg_audio/P2CON2006_VC_3_FullCon_Wk01_...         1  \n",
       "252  iconect/seg_audio/P2CON2006_VC_3_FullCon_Wk01_...        10  \n",
       "253  iconect/seg_audio/P2CON2006_VC_3_FullCon_Wk01_...         2  \n",
       "254  iconect/seg_audio/P2CON2006_VC_3_FullCon_Wk01_...         1  \n",
       "255  iconect/seg_audio/P2CON2006_VC_3_FullCon_Wk01_...         8  \n",
       "\n",
       "[22084 rows x 9 columns]"
      ]
     },
     "execution_count": 23,
     "metadata": {},
     "output_type": "execute_result"
    }
   ],
   "source": [
    "from collections import defaultdict\n",
    "filenames=[]\n",
    "for pwd, _, fs in os.walk(\"iconect/csvs/\"):\n",
    "    filenames.extend(fs)\n",
    "    break\n",
    "\n",
    "    \n",
    "# extract pts with more than one transcripts\n",
    "pt_trans = defaultdict(list)\n",
    "for i in filenames:\n",
    "    ptid = i.split(\"_\")[0]\n",
    "    pt_trans[ptid].append(i)\n",
    "    \n",
    "    \n",
    "df_trans = pd.DataFrame.from_dict({\"pdid\": list(pt_trans.keys()), \"trans_files\": list(pt_trans.values())})\n",
    "df_trans[\"num_files\"] = [len(i) for i in df_trans.trans_files] \n",
    "\n",
    "\n",
    "data_pieces = []\n",
    "for index, val in df_trans.iterrows():\n",
    "    for filename in val.trans_files:\n",
    "        temp = pd.read_csv(os.path.join(\"iconect\",\"csvs\", filename))\n",
    "        data_pieces.append(temp)\n",
    "        \n",
    "\n",
    "samples = pd.concat(data_pieces)\n",
    "samples"
   ]
  },
  {
   "cell_type": "code",
   "execution_count": 31,
   "metadata": {},
   "outputs": [
    {
     "data": {
      "text/plain": [
       "53"
      ]
     },
     "execution_count": 31,
     "metadata": {},
     "output_type": "execute_result"
    }
   ],
   "source": [
    "len(list(set(orig_describe.index)))"
   ]
  },
  {
   "cell_type": "code",
   "execution_count": 32,
   "metadata": {},
   "outputs": [
    {
     "data": {
      "text/plain": [
       "0.6216216216216216"
      ]
     },
     "execution_count": 32,
     "metadata": {},
     "output_type": "execute_result"
    }
   ],
   "source": [
    "23/37"
   ]
  },
  {
   "cell_type": "code",
   "execution_count": 27,
   "metadata": {},
   "outputs": [
    {
     "data": {
      "text/plain": [
       "22.876944444444444"
      ]
     },
     "execution_count": 27,
     "metadata": {},
     "output_type": "execute_result"
    }
   ],
   "source": [
    "# data = []\n",
    "# for i in [\"train.csv\", \"val.csv\", \"test.csv\"]:\n",
    "#     data.append(pd.read_csv(os.path.join(\"./iconect/models/pt_only_all_utt/\", i)))\n",
    "    \n",
    "audio_duration = 0.0\n",
    "df = samples[samples.identity == \"Participant\"]\n",
    "for index, row in df.iterrows():\n",
    "    audio_duration += float(row.duration)\n",
    "        \n",
    "audio_duration / (60*60)\n",
    "# total recording 37h\n",
    "# moderator 14\n",
    "# participant 23"
   ]
  }
 ],
 "metadata": {
  "kernelspec": {
   "display_name": "Python 3",
   "language": "python",
   "name": "python3"
  },
  "language_info": {
   "codemirror_mode": {
    "name": "ipython",
    "version": 3
   },
   "file_extension": ".py",
   "mimetype": "text/x-python",
   "name": "python",
   "nbconvert_exporter": "python",
   "pygments_lexer": "ipython3",
   "version": "3.6.9"
  }
 },
 "nbformat": 4,
 "nbformat_minor": 4
}
