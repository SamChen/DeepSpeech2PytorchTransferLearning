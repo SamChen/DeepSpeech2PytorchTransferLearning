{
 "cells": [
  {
   "cell_type": "code",
   "execution_count": 1,
   "metadata": {},
   "outputs": [],
   "source": [
    "import sys\n",
    "sys.path.append(\"..\")"
   ]
  },
  {
   "cell_type": "code",
   "execution_count": 2,
   "metadata": {},
   "outputs": [],
   "source": [
    "\"\"\"Contains data generator for orgnaizing various audio data preprocessing\n",
    "pipeline and offering data reader interface of PaddlePaddle requirements.\n",
    "\"\"\"\n",
    "from __future__ import absolute_import\n",
    "from __future__ import division\n",
    "from __future__ import print_function\n",
    "\n",
    "import random\n",
    "import tarfile\n",
    "import multiprocessing\n",
    "import numpy as np\n",
    "import pandas as pd\n",
    "from threading import local\n",
    "\n",
    "from data_utils.utility import read_manifest\n",
    "from data_utils.utility import xmap_readers_mp\n",
    "from data_utils.augmentor.augmentation import AugmentationPipeline\n",
    "from data_utils.featurizer.speech_featurizer import SpeechFeaturizer\n",
    "from data_utils.speech import SpeechSegment\n",
    "from data_utils.normalizer import FeatureNormalizer\n",
    "\n",
    "import torch\n",
    "from torch.utils.data import Dataset, DataLoader\n",
    "from torch.nn.utils.rnn import pack_sequence, pad_packed_sequence, pad_sequence\n",
    "from torchvision import transforms, utils"
   ]
  },
  {
   "cell_type": "markdown",
   "metadata": {},
   "source": [
    "## dataset format"
   ]
  },
  {
   "cell_type": "code",
   "execution_count": 3,
   "metadata": {},
   "outputs": [],
   "source": [
    "class SpecgramDataset(Dataset):\n",
    "    def __init__(self,\n",
    "                 manifest_file,\n",
    "                 vocab_filepath,\n",
    "                 mean_std_filepath,\n",
    "                 augmentation_config='{}',\n",
    "                 max_duration=float('inf'),\n",
    "                 min_duration=0.0,\n",
    "                 stride_ms=10.0,\n",
    "                 window_ms=20.0,\n",
    "                 max_freq=None,\n",
    "                 specgram_type='linear',\n",
    "                 use_dB_normalization=True,\n",
    "                 num_threads=multiprocessing.cpu_count() // 2,\n",
    "                 random_seed=0,\n",
    "                 keep_transcription_text=False):\n",
    "            self._max_duration = max_duration\n",
    "            self._min_duration = min_duration\n",
    "            self._keep_transcription_text = keep_transcription_text\n",
    "\n",
    "            self.manifest = pd.read_csv(manifest_file)\n",
    "                            # read_manifest(manifest_path=manifest_path,\n",
    "                            #               max_duration=self._max_duration,\n",
    "                            #               min_duration=self._min_duration)\n",
    "            self.manifest = self.manifest.sort_values(by=[\"duration\"])\n",
    "\n",
    "            self._normalizer = FeatureNormalizer(mean_std_filepath)\n",
    "\n",
    "            self._augmentation_pipeline = AugmentationPipeline(\n",
    "                augmentation_config=augmentation_config, random_seed=random_seed)\n",
    "\n",
    "            self._speech_featurizer = SpeechFeaturizer(\n",
    "                vocab_filepath=vocab_filepath,\n",
    "                specgram_type=specgram_type,\n",
    "                stride_ms=stride_ms,\n",
    "                window_ms=window_ms,\n",
    "                max_freq=max_freq,\n",
    "                use_dB_normalization=use_dB_normalization)\n",
    "            \n",
    "    def __len__(self):\n",
    "        return len(self.manifest)\n",
    "\n",
    "    def __getitem__(self, idx):\n",
    "        if torch.is_tensor(idx):\n",
    "            idx = idx.tolist()\n",
    "\n",
    "        instance = self.manifest.iloc[idx]\n",
    "\n",
    "        specgram, transcript = self.process_utterance(instance[\"audio_filepath\"], instance[\"text\"])\n",
    "        uttids = instance[\"uttid\"]\n",
    "\n",
    "        sample = {\"uttid\": uttids, \"specgrams\":specgram, \"text\": transcript}\n",
    "\n",
    "        return sample\n",
    "    \n",
    "    \n",
    "    def process_multi_utterances(self, audio_files, transcripts):\n",
    "        specgrams = []\n",
    "        transcripts = []\n",
    "        for audio,trans in zip(audio_files, transcript):\n",
    "            spec, trans = self.process_utterance(audio, trans)\n",
    "            specgrams.append(spec)\n",
    "            transcripts.append(trans)\n",
    "        return specgrams, transcripts\n",
    "    \n",
    "\n",
    "    def process_utterance(self, audio_file, transcript):\n",
    "        \"\"\"Load, augment, featurize and normalize for speech data.\n",
    "\n",
    "        :param audio_file: Filepath or file object of audio file.\n",
    "        :type audio_file: basestring | file\n",
    "        :param transcript: Transcription text.\n",
    "        :type transcript: basestring\n",
    "        :return: Tuple of audio feature tensor and data of transcription part,\n",
    "                 where transcription part could be token ids or text.\n",
    "        :rtype: tuple of (2darray, list)\n",
    "        \"\"\"\n",
    "        if isinstance(audio_file, str) and audio_file.startswith('tar:'):\n",
    "            speech_segment = SpeechSegment.from_file(\n",
    "                self._subfile_from_tar(audio_file), transcript)\n",
    "        else:\n",
    "            speech_segment = SpeechSegment.from_file(audio_file, transcript)\n",
    "            \n",
    "        self._augmentation_pipeline.transform_audio(speech_segment)\n",
    "        specgram, transcript_part = self._speech_featurizer.featurize(\n",
    "            speech_segment, self._keep_transcription_text)\n",
    "        specgram = self._normalizer.apply(specgram)\n",
    "        return specgram, transcript_part\n",
    "    \n",
    "    \n",
    "def padding_batch(batch, padding_to=-1):\n",
    "    \"\"\"\n",
    "    Padding audio features with zeros to make them have the same shape (or\n",
    "    a user-defined shape) within one bach.\n",
    "\n",
    "    If ``padding_to`` is -1, the maximun shape in the batch will be used\n",
    "    as the target shape for padding. Otherwise, `padding_to` will be the\n",
    "    target shape (only refers to the second axis).\n",
    "\n",
    "    If `flatten` is True, features will be flatten to 1darray.\n",
    "    \"\"\"\n",
    "    # get target shape\n",
    "    spec_lengths = [i[\"specgrams\"].shape[1] for i in batch]\n",
    "    max_length = max(spec_lengths)\n",
    "    sorted_index = np.argsort(spec_lengths, )\n",
    "\n",
    "    if padding_to != -1:\n",
    "        if padding_to < max_length:\n",
    "            raise ValueError(\"If padding_to is not -1, it should be larger \"\n",
    "                             \"than any instance's shape in the batch\")\n",
    "        max_length = padding_to\n",
    "\n",
    "    # padding\n",
    "    new_batch = {\"uttid\":[], \"specgrams\":[], \"text\":[], \"length_spec\":[], \"length_text\":[]}\n",
    "    for i in sorted_index:\n",
    "        sample = batch[i]\n",
    "        audio = sample[\"specgrams\"]\n",
    "        text = sample[\"text\"]\n",
    "        uttid = sample[\"uttid\"]\n",
    "\n",
    "        new_batch[\"uttid\"].append(uttid)\n",
    "        new_batch[\"specgrams\"].append(torch.tensor(audio).transpose(1,0))\n",
    "        new_batch[\"length_spec\"].append(audio.shape[1])\n",
    "        new_batch[\"text\"].append(torch.tensor(text))\n",
    "        new_batch[\"length_text\"].append(len(text))\n",
    "   \n",
    "    temp_padded_specgrams = pad_sequence(new_batch[\"specgrams\"], batch_first=True)\n",
    "    # make the specgrams fit the CNN layer\n",
    "    new_batch[\"specgrams\"] = torch.unsqueeze(temp_padded_specgrams, dim=1).type(torch.float32)\n",
    "    new_batch[\"text\"] = pad_sequence(new_batch[\"text\"], batch_first=True).type(torch.int32)\n",
    "    new_batch[\"length_spec\"] = torch.tensor(new_batch[\"length_spec\"], dtype=torch.int32)\n",
    "    new_batch[\"length_text\"] = torch.tensor(new_batch[\"length_text\"], dtype=torch.int32)\n",
    "    return new_batch"
   ]
  },
  {
   "cell_type": "code",
   "execution_count": 4,
   "metadata": {},
   "outputs": [],
   "source": [
    "test_dataset = SpecgramDataset(manifest_file=\"test.manifest\",\n",
    "                               vocab_filepath=\"../models/baidu_en8k/vocab.txt\",\n",
    "                               mean_std_filepath=\"../models/baidu_en8k/mean_std.npz\")"
   ]
  },
  {
   "cell_type": "code",
   "execution_count": 5,
   "metadata": {},
   "outputs": [
    {
     "name": "stdout",
     "output_type": "stream",
     "text": [
      "(161, 2451)\n",
      "(161, 4786)\n",
      "(161, 5089)\n",
      "(161, 5463)\n"
     ]
    }
   ],
   "source": [
    "for i in range(len(test_dataset)):\n",
    "    sample = test_dataset[i]\n",
    "    print(sample[\"specgrams\"].shape)"
   ]
  },
  {
   "cell_type": "code",
   "execution_count": 6,
   "metadata": {},
   "outputs": [
    {
     "name": "stdout",
     "output_type": "stream",
     "text": [
      "dict_keys(['uttid', 'specgrams', 'text', 'length_spec', 'length_text'])\n",
      "0 tensor([[[[ 1.7291,  1.2213,  0.7237,  ..., -0.3093, -0.3313,  0.0226],\n",
      "          [ 1.7331,  1.2487,  0.5848,  ..., -0.4447, -0.5539, -0.6474],\n",
      "          [ 1.6575,  1.4555,  0.9296,  ..., -0.5921, -0.1915, -0.2112],\n",
      "          ...,\n",
      "          [ 0.0000,  0.0000,  0.0000,  ...,  0.0000,  0.0000,  0.0000],\n",
      "          [ 0.0000,  0.0000,  0.0000,  ...,  0.0000,  0.0000,  0.0000],\n",
      "          [ 0.0000,  0.0000,  0.0000,  ...,  0.0000,  0.0000,  0.0000]]],\n",
      "\n",
      "\n",
      "        [[[ 2.2365,  1.6285,  0.9088,  ...,  2.3858,  3.2304,  3.6974],\n",
      "          [ 2.0503,  1.7781,  1.0357,  ...,  2.3867,  2.3240,  3.4075],\n",
      "          [ 1.5397,  1.5822,  1.1622,  ...,  3.2143,  3.1977,  3.2684],\n",
      "          ...,\n",
      "          [ 0.0000,  0.0000,  0.0000,  ...,  0.0000,  0.0000,  0.0000],\n",
      "          [ 0.0000,  0.0000,  0.0000,  ...,  0.0000,  0.0000,  0.0000],\n",
      "          [ 0.0000,  0.0000,  0.0000,  ...,  0.0000,  0.0000,  0.0000]]],\n",
      "\n",
      "\n",
      "        [[[ 1.4829,  1.4074,  0.7910,  ...,  3.0745,  3.3352,  3.7067],\n",
      "          [ 0.7259,  1.2252,  0.8750,  ...,  2.8912,  2.5242,  3.1018],\n",
      "          [ 1.6097,  1.6041,  1.0529,  ...,  3.0496,  3.1456,  2.8956],\n",
      "          ...,\n",
      "          [ 1.0934,  1.2594,  0.8285,  ...,  2.0436,  1.9763,  2.0875],\n",
      "          [ 0.8805,  1.3346,  0.6252,  ...,  1.5669,  2.2241,  2.7472],\n",
      "          [ 0.3073,  1.4171,  0.9900,  ...,  1.9218,  1.4407,  2.5110]]]]) tensor([2451, 5089, 5463], dtype=torch.int32)\n",
      "tensor([[21,  9,  1,  ...,  0,  0,  0],\n",
      "        [22,  9,  1,  ...,  0,  0,  0],\n",
      "        [14, 19, 20,  ..., 10, 16, 15]], dtype=torch.int32)\n"
     ]
    }
   ],
   "source": [
    "dataloader = DataLoader(test_dataset, batch_size=3,\n",
    "                        shuffle=True, num_workers=1,\n",
    "                       collate_fn=padding_batch)\n",
    "\n",
    "for i_batch, sample_batched in enumerate(dataloader):\n",
    "    print(sample_batched.keys())\n",
    "    print(i_batch, sample_batched[\"specgrams\"], sample_batched[\"length_spec\"])\n",
    "    print(sample_batched[\"text\"])\n",
    "    break"
   ]
  },
  {
   "cell_type": "code",
   "execution_count": 14,
   "metadata": {},
   "outputs": [],
   "source": [
    "def flatten_paded_seq(text, length):\n",
    "    assert isinstance(text, torch.IntTensor), \"{}\".format(text.type())\n",
    "    assert isinstance(length, torch.IntTensor), \"{}\".format(length.type())\n",
    "    \n",
    "    flattened_text = torch.cat([text[i][:length[i]] for i in range(text.shape[0])])\n",
    "    return flattened_text"
   ]
  },
  {
   "cell_type": "code",
   "execution_count": 15,
   "metadata": {},
   "outputs": [],
   "source": [
    "text = sample_batched[\"text\"]\n",
    "length = sample_batched[\"length_text\"]\n",
    "\n",
    "flattened_text = flatten_paded_seq(text, length)\n",
    "assert len(flattened_text) == sum(length)"
   ]
  },
  {
   "cell_type": "code",
   "execution_count": 17,
   "metadata": {},
   "outputs": [
    {
     "data": {
      "text/plain": [
       "torch.Size([3, 382])"
      ]
     },
     "execution_count": 17,
     "metadata": {},
     "output_type": "execute_result"
    }
   ],
   "source": [
    "text.shape"
   ]
  },
  {
   "cell_type": "markdown",
   "metadata": {},
   "source": [
    "# hard code mask"
   ]
  },
  {
   "cell_type": "code",
   "execution_count": 7,
   "metadata": {},
   "outputs": [],
   "source": [
    "test = sample_batched[\"length\"]"
   ]
  },
  {
   "cell_type": "code",
   "execution_count": 11,
   "metadata": {},
   "outputs": [
    {
     "data": {
      "text/plain": [
       "tensor([[ 817],\n",
       "        [1596],\n",
       "        [1821]])"
      ]
     },
     "execution_count": 11,
     "metadata": {},
     "output_type": "execute_result"
    }
   ],
   "source": [
    "(test - 1) // 3 + 1  "
   ]
  },
  {
   "cell_type": "code",
   "execution_count": 12,
   "metadata": {},
   "outputs": [
    {
     "data": {
      "text/plain": [
       "tensor([[2451],\n",
       "        [4786],\n",
       "        [5463]])"
      ]
     },
     "execution_count": 12,
     "metadata": {},
     "output_type": "execute_result"
    }
   ],
   "source": [
    "test"
   ]
  }
 ],
 "metadata": {
  "kernelspec": {
   "display_name": "Python 3",
   "language": "python",
   "name": "python3"
  },
  "language_info": {
   "codemirror_mode": {
    "name": "ipython",
    "version": 3
   },
   "file_extension": ".py",
   "mimetype": "text/x-python",
   "name": "python",
   "nbconvert_exporter": "python",
   "pygments_lexer": "ipython3",
   "version": "3.6.9"
  }
 },
 "nbformat": 4,
 "nbformat_minor": 4
}
