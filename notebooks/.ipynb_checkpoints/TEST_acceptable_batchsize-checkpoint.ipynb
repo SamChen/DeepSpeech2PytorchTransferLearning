{
 "cells": [
  {
   "cell_type": "code",
   "execution_count": 4,
   "metadata": {},
   "outputs": [],
   "source": [
    "import sys\n",
    "import pandas as pd\n",
    "from collections import defaultdict\n",
    "from datetime import datetime\n",
    "sys.path.append(\"..\")\n",
    "\n",
    "from model_utils.model import DeepSpeech2Model\n",
    "from data_utils.dataloader import SpecgramGenerator, DummyGenerator\n",
    "from torch.utils.data import DataLoader\n",
    "from torch.utils.tensorboard import SummaryWriter"
   ]
  },
  {
   "cell_type": "code",
   "execution_count": 7,
   "metadata": {},
   "outputs": [],
   "source": [
    "def test(lr, lr_key, num_passes=40, num_iterations_print=400, augmentation_config=\"{}\"):\n",
    "    \n",
    "    dummy_dataset = DummyGenerator(datasize=1024, feat_size=161, num_class=28, max_len=1200, min_len=750)\n",
    "\n",
    "    dummy_dataloader = DataLoader(dummy_dataset, batch_size=32,\n",
    "                                  shuffle=True, num_workers=4,\n",
    "                                  collate_fn=padding_batch)\n",
    "    \n",
    "    vocab_list = [\"'\", ' ', 'a', 'b', 'c', 'd', 'e', 'f', 'g', 'h', 'i', 'j', 'k', 'l', 'm', 'n', 'o', 'p', 'q', 'r', 's', 't', 'u', 'v', 'w', 'x', 'y', 'z']\n",
    "    \n",
    "    ds2_model = DeepSpeech2Model(\n",
    "        vocab_size=28,\n",
    "        num_conv_layers=2,\n",
    "        num_rnn_layers=3,\n",
    "        rnn_layer_size=1024,\n",
    "        use_gru=True,\n",
    "        pretrained_model_path=\"TBD\",\n",
    "        device=\"cuda\")\n",
    "\n",
    "\n",
    "    ds2_model.init_ext_scorer(1.4, 0.35, \"../models/lm/common_crawl_00.prune01111.trie.klm\", vocab_list=vocab_list)\n",
    "\n",
    "\n",
    "    filename = datetime.now().strftime(\"gridsearch_%y%m%d-%H:%M:%S-lr{}-{}\".format(lr, \"_\".join(lr_key)))\n",
    "    output_dir = \"./test_audio/\".format(filename)\n",
    "    tensorboard_writer = SummaryWriter(log_dir=\"test_audio/{}\".format(filename))\n",
    "    ds2_model.train(train_dataloader=dummy_dataloader, val_dataloader=dummy_dataloader,\n",
    "                    lr_key=lr_key,\n",
    "                    learning_rate=lr,\n",
    "                    gradient_clipping=400,\n",
    "                    num_passes=num_passes,\n",
    "                    num_iterations_print=num_iterations_print,\n",
    "                    writer=tensorboard_writer,\n",
    "                    output_dir=output_dir)\n"
   ]
  },
  {
   "cell_type": "code",
   "execution_count": 6,
   "metadata": {},
   "outputs": [
    {
     "name": "stderr",
     "output_type": "stream",
     "text": [
      "[INFO 2020-01-10 21:36:48,205 model.py:286] begin to initialize the external scorer for decoding\n",
      "[INFO 2020-01-10 21:36:57,653 model.py:296] language model: is_character_based = 0, max_order = 5, dict_size = 400000\n",
      "[INFO 2020-01-10 21:36:57,655 model.py:297] end initializing scorer\n"
     ]
    },
    {
     "ename": "NameError",
     "evalue": "name 'tensorboard_writer' is not defined",
     "output_type": "error",
     "traceback": [
      "\u001b[0;31m---------------------------------------------------------------------------\u001b[0m",
      "\u001b[0;31mNameError\u001b[0m                                 Traceback (most recent call last)",
      "\u001b[0;32m<ipython-input-6-9eb942022a91>\u001b[0m in \u001b[0;36m<module>\u001b[0;34m\u001b[0m\n\u001b[0;32m----> 1\u001b[0;31m \u001b[0mtest\u001b[0m\u001b[0;34m(\u001b[0m\u001b[0mlr\u001b[0m\u001b[0;34m=\u001b[0m\u001b[0;36m6e-6\u001b[0m\u001b[0;34m,\u001b[0m \u001b[0mlr_key\u001b[0m\u001b[0;34m=\u001b[0m\u001b[0;34m[\u001b[0m\u001b[0;34m\"bias\"\u001b[0m\u001b[0;34m]\u001b[0m\u001b[0;34m)\u001b[0m\u001b[0;34m\u001b[0m\u001b[0;34m\u001b[0m\u001b[0m\n\u001b[0m",
      "\u001b[0;32m<ipython-input-5-0bc01dc07d1e>\u001b[0m in \u001b[0;36mtest\u001b[0;34m(lr, lr_key, num_passes, num_iterations_print, augmentation_config)\u001b[0m\n\u001b[1;32m     30\u001b[0m                     \u001b[0mnum_passes\u001b[0m\u001b[0;34m=\u001b[0m\u001b[0mnum_passes\u001b[0m\u001b[0;34m,\u001b[0m\u001b[0;34m\u001b[0m\u001b[0;34m\u001b[0m\u001b[0m\n\u001b[1;32m     31\u001b[0m                     \u001b[0mnum_iterations_print\u001b[0m\u001b[0;34m=\u001b[0m\u001b[0mnum_iterations_print\u001b[0m\u001b[0;34m,\u001b[0m\u001b[0;34m\u001b[0m\u001b[0;34m\u001b[0m\u001b[0m\n\u001b[0;32m---> 32\u001b[0;31m                     \u001b[0mwriter\u001b[0m\u001b[0;34m=\u001b[0m\u001b[0mtensorboard_writer\u001b[0m\u001b[0;34m,\u001b[0m\u001b[0;34m\u001b[0m\u001b[0;34m\u001b[0m\u001b[0m\n\u001b[0m\u001b[1;32m     33\u001b[0m                     output_dir=output_dir)\n",
      "\u001b[0;31mNameError\u001b[0m: name 'tensorboard_writer' is not defined"
     ]
    }
   ],
   "source": [
    "test(lr=6e-6, lr_key=[\"bias\"])"
   ]
  },
  {
   "cell_type": "code",
   "execution_count": null,
   "metadata": {},
   "outputs": [],
   "source": []
  }
 ],
 "metadata": {
  "kernelspec": {
   "display_name": "Python 3",
   "language": "python",
   "name": "python3"
  },
  "language_info": {
   "codemirror_mode": {
    "name": "ipython",
    "version": 3
   },
   "file_extension": ".py",
   "mimetype": "text/x-python",
   "name": "python",
   "nbconvert_exporter": "python",
   "pygments_lexer": "ipython3",
   "version": "3.6.9"
  }
 },
 "nbformat": 4,
 "nbformat_minor": 4
}
