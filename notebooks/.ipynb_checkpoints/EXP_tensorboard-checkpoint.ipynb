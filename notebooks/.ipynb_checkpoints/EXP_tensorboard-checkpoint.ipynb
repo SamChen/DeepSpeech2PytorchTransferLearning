{
 "cells": [
  {
   "cell_type": "code",
   "execution_count": 1,
   "metadata": {},
   "outputs": [],
   "source": [
    "import torch\n",
    "import torch.nn as nn\n",
    "import numpy as np\n",
    "import time \n",
    "\n",
    "from torch.utils.tensorboard import SummaryWriter"
   ]
  },
  {
   "cell_type": "code",
   "execution_count": 2,
   "metadata": {},
   "outputs": [
    {
     "data": {
      "text/plain": [
       "time.struct_time(tm_year=2019, tm_mon=12, tm_mday=21, tm_hour=1, tm_min=43, tm_sec=36, tm_wday=5, tm_yday=355, tm_isdst=0)"
      ]
     },
     "execution_count": 2,
     "metadata": {},
     "output_type": "execute_result"
    }
   ],
   "source": [
    "time.localtime()"
   ]
  },
  {
   "cell_type": "code",
   "execution_count": 5,
   "metadata": {},
   "outputs": [],
   "source": [
    "writer = SummaryWriter(log_dir=\"exp_tensorboard/{}\".format(time.time()))\n",
    "\n",
    "\n",
    "for n_iter in range(100):\n",
    "    \n",
    "writer.add_hparams(hparam_dict={\"lr_keys\":\",\".join(['bias', \"bn\"]),\"lr\": \"{:.4e}\".format(np.random.random() * 5e-6)}, \n",
    "                   metric_dict={\"hparam/loss\": np.random.random()})"
   ]
  },
  {
   "cell_type": "code",
   "execution_count": 34,
   "metadata": {},
   "outputs": [],
   "source": [
    "model = nn.Sequential(nn.Linear(4,10), nn.Linear(10,10))\n",
    "criteria = nn.CrossEntropyLoss()\n",
    "optim = torch.optim.SGD(model.parameters(), lr=0.1,)\n",
    "\n",
    "writer.add_hparams(hparam_dict={\"lr_keys\":\",\".join(['bias', \"bn\"]),\"lr\": optim.param_groups[0][\"lr\"]},\n",
    "                  metric_dict={})\n",
    "\n",
    "for epoch in range(20):\n",
    "    for i in range(20):\n",
    "        input = torch.rand(10, 4, dtype=torch.float32)\n",
    "        output = torch.empty(10, dtype=torch.long).random_(10) \n",
    "        output_hat = model(input)\n",
    "        loss = criteria(output_hat, output)\n",
    "        loss.backward()\n",
    "        optim.step()\n",
    "        writer.add_scalar('Loss/train', loss.item(), epoch*20+i)\n",
    "        "
   ]
  },
  {
   "cell_type": "code",
   "execution_count": 38,
   "metadata": {},
   "outputs": [
    {
     "name": "stdout",
     "output_type": "stream",
     "text": [
      "(['bias'], 1e-06)\n",
      "(['bias'], 3e-06)\n",
      "(['bias'], 4.9999999999999996e-06)\n",
      "(['bias'], 7e-06)\n",
      "(['bias'], 9e-06)\n",
      "(['bias'], 1.1e-05)\n",
      "(['bias'], 1.3e-05)\n",
      "(['bias'], 1.4999999999999999e-05)\n",
      "(['bias'], 1.7e-05)\n",
      "(['bias'], 1.8999999999999998e-05)\n",
      "(['bias', 'bn'], 1e-06)\n",
      "(['bias', 'bn'], 3e-06)\n",
      "(['bias', 'bn'], 4.9999999999999996e-06)\n",
      "(['bias', 'bn'], 7e-06)\n",
      "(['bias', 'bn'], 9e-06)\n",
      "(['bias', 'bn'], 1.1e-05)\n",
      "(['bias', 'bn'], 1.3e-05)\n",
      "(['bias', 'bn'], 1.4999999999999999e-05)\n",
      "(['bias', 'bn'], 1.7e-05)\n",
      "(['bias', 'bn'], 1.8999999999999998e-05)\n",
      "(['bn'], 1e-06)\n",
      "(['bn'], 3e-06)\n",
      "(['bn'], 4.9999999999999996e-06)\n",
      "(['bn'], 7e-06)\n",
      "(['bn'], 9e-06)\n",
      "(['bn'], 1.1e-05)\n",
      "(['bn'], 1.3e-05)\n",
      "(['bn'], 1.4999999999999999e-05)\n",
      "(['bn'], 1.7e-05)\n",
      "(['bn'], 1.8999999999999998e-05)\n"
     ]
    }
   ],
   "source": [
    "from itertools import product\n",
    "lr_keys = [[\"bias\"], [\"bias\", \"bn\"], [\"bn\"]]\n",
    "lr = [i*1e-6 for i in range(1, 21, 2)]\n",
    "for i in product(lr_keys, lr):\n",
    "    print(i)"
   ]
  },
  {
   "cell_type": "code",
   "execution_count": 29,
   "metadata": {},
   "outputs": [],
   "source": [
    "    "
   ]
  },
  {
   "cell_type": "code",
   "execution_count": 33,
   "metadata": {},
   "outputs": [
    {
     "data": {
      "text/plain": [
       "9"
      ]
     },
     "execution_count": 33,
     "metadata": {},
     "output_type": "execute_result"
    }
   ],
   "source": [
    "a = 0\n",
    "for index in range(10):\n",
    "    pass\n",
    "a+=index\n",
    "\n",
    "torch.save(model.parameters(), \"test.pth\")"
   ]
  }
 ],
 "metadata": {
  "kernelspec": {
   "display_name": "Python 3",
   "language": "python",
   "name": "python3"
  },
  "language_info": {
   "codemirror_mode": {
    "name": "ipython",
    "version": 3
   },
   "file_extension": ".py",
   "mimetype": "text/x-python",
   "name": "python",
   "nbconvert_exporter": "python",
   "pygments_lexer": "ipython3",
   "version": "3.6.9"
  }
 },
 "nbformat": 4,
 "nbformat_minor": 4
}
