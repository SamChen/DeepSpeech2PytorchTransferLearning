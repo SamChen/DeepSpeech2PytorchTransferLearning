{
 "cells": [
  {
   "cell_type": "code",
   "execution_count": 11,
   "metadata": {},
   "outputs": [],
   "source": [
    "import sys\n",
    "import copy \n",
    "sys.path.append(\"../\")\n",
    "from data_utils.audio import AudioSegment\n",
    "from data_utils.augmentor.augmentation import AugmentationPipeline\n",
    "import altair as alt\n",
    "import numpy as np"
   ]
  },
  {
   "cell_type": "markdown",
   "metadata": {},
   "source": [
    "### avalible audio augmentations\n",
    "[\n",
    "    {\n",
    "        \"type\": \"speed\",\n",
    "        \"params\": {\"min_speed_rate\": 0.95,\n",
    "                   \"max_speed_rate\": 1.05},\n",
    "        \"prob\": 0.5\n",
    "    },\n",
    "    {\n",
    "        \"type\": \"shift\",\n",
    "        \"params\": {\"min_shift_ms\": -5,\n",
    "                   \"max_shift_ms\": 5},\n",
    "        \"prob\": 1.0\n",
    "    },\n",
    "    {\n",
    "        \"type\": \"volume\",\n",
    "        \"params\": {\"min_gain_dBFS\": -10,\n",
    "                   \"max_gain_dBFS\": 10},\n",
    "        \"prob\": 0.0\n",
    "    },\n",
    "    {\n",
    "        \"type\": \"bayesian_normal\",\n",
    "        \"params\": {\"target_db\": -20,\n",
    "                   \"prior_db\": -20,\n",
    "                   \"prior_samples\": 100},\n",
    "        \"prob\": 0.0\n",
    "    }\n",
    "]"
   ]
  },
  {
   "cell_type": "code",
   "execution_count": 2,
   "metadata": {},
   "outputs": [
    {
     "name": "stdout",
     "output_type": "stream",
     "text": [
      "[-0.00138855 -0.00363159 -0.00479126 ... -0.02793884 -0.01925659\n",
      " -0.01679993] 8000\n",
      "length(second):  33.529625\n"
     ]
    }
   ],
   "source": [
    "audio = AudioSegment.from_file(\"test_audio/file_example_WAV_1MG.wav\")\n",
    "orig_audio = copy.deepcopy(audio)\n",
    "print(audio.samples, audio.sample_rate)\n",
    "print(\"length(second): \", len(audio.samples)/audio.sample_rate)"
   ]
  },
  {
   "cell_type": "code",
   "execution_count": 3,
   "metadata": {},
   "outputs": [],
   "source": [
    "def test_augmentation(audio, config, random_seed=66):\n",
    "    test_audio = copy.deepcopy(audio)\n",
    "    test = AugmentationPipeline(augmentation_config=config,\n",
    "                                random_seed=random_seed)\n",
    "    test.transform_audio(test_audio)\n",
    "    return test, test_audio"
   ]
  },
  {
   "cell_type": "code",
   "execution_count": 4,
   "metadata": {},
   "outputs": [
    {
     "name": "stdout",
     "output_type": "stream",
     "text": [
      "268237\n"
     ]
    }
   ],
   "source": [
    "with open(\"../conf/augmentation.config\", 'r') as f:\n",
    "    config = f.read()\n",
    "_, temp_audio = test_augmentation(audio, config)\n",
    "print(len(temp_audio.samples))"
   ]
  },
  {
   "cell_type": "code",
   "execution_count": null,
   "metadata": {},
   "outputs": [],
   "source": []
  },
  {
   "cell_type": "code",
   "execution_count": 5,
   "metadata": {},
   "outputs": [
    {
     "name": "stdout",
     "output_type": "stream",
     "text": [
      "[-0.0011944  -0.00312381 -0.00412133 ... -0.02403235 -0.01656407\n",
      " -0.01445091]\n"
     ]
    }
   ],
   "source": [
    "volume_config = '[{\"type\": \"volume\", \"params\": {\"min_gain_dBFS\": -10, \"max_gain_dBFS\": 10}, \"prob\": 1.0}]'\n",
    "_, volume_audio = test_augmentation(audio, volume_config)\n",
    "print(volume_audio.samples)"
   ]
  },
  {
   "cell_type": "code",
   "execution_count": 6,
   "metadata": {},
   "outputs": [
    {
     "name": "stdout",
     "output_type": "stream",
     "text": [
      "[-0.00138855 -0.0036532  -0.00464969 ... -0.0195801  -0.0168457\n",
      " -0.01679993]\n",
      "32.9165\n"
     ]
    }
   ],
   "source": [
    "speed_config = '[{\"type\": \"speed\", \"params\": {\"min_speed_rate\": 0.95, \"max_speed_rate\": 1.05}, \"prob\": 1.0}]'\n",
    "_, speed_audio = test_augmentation(audio, speed_config,random_seed=20)\n",
    "print(speed_audio.samples)\n",
    "print(len(speed_audio.samples)/speed_audio.sample_rate)"
   ]
  },
  {
   "cell_type": "code",
   "execution_count": 7,
   "metadata": {},
   "outputs": [
    {
     "name": "stdout",
     "output_type": "stream",
     "text": [
      "48\n",
      "33.529625\n"
     ]
    }
   ],
   "source": [
    "shift_config = '[{\"type\": \"shift\", \"params\": {\"min_shift_ms\": -10, \"max_shift_ms\": 10}, \"prob\": 1.0}]'\n",
    "_, shift_audio = test_augmentation(audio, shift_config,random_seed=20)\n",
    "print(sum(shift_audio.samples==0))\n",
    "print(len(shift_audio.samples)/shift_audio.sample_rate)"
   ]
  },
  {
   "cell_type": "code",
   "execution_count": 8,
   "metadata": {},
   "outputs": [
    {
     "data": {
      "text/plain": [
       "33.0"
      ]
     },
     "execution_count": 8,
     "metadata": {},
     "output_type": "execute_result"
    }
   ],
   "source": [
    "sliced_audio = AudioSegment.slice_from_file(\"test_audio/file_example_WAV_1MG.wav\", start=0.0, end=33.0)\n",
    "len(sliced_audio.samples)/sliced_audio.sample_rate"
   ]
  },
  {
   "cell_type": "code",
   "execution_count": 14,
   "metadata": {},
   "outputs": [
    {
     "ename": "ValueError",
     "evalue": "The truth value of an array with more than one element is ambiguous. Use a.any() or a.all()",
     "output_type": "error",
     "traceback": [
      "\u001b[0;31m---------------------------------------------------------------------------\u001b[0m",
      "\u001b[0;31mValueError\u001b[0m                                Traceback (most recent call last)",
      "\u001b[0;32m<ipython-input-14-8632b248fa18>\u001b[0m in \u001b[0;36m<module>\u001b[0;34m\u001b[0m\n\u001b[0;32m----> 1\u001b[0;31m \u001b[0mshift_audio\u001b[0m\u001b[0;34m.\u001b[0m\u001b[0mresample\u001b[0m\u001b[0;34m(\u001b[0m\u001b[0mnp\u001b[0m\u001b[0;34m.\u001b[0m\u001b[0mtrim_zeros\u001b[0m\u001b[0;34m(\u001b[0m\u001b[0mshift_audio\u001b[0m\u001b[0;34m.\u001b[0m\u001b[0msamples\u001b[0m\u001b[0;34m,\u001b[0m \u001b[0;34m'fb'\u001b[0m\u001b[0;34m)\u001b[0m\u001b[0;34m)\u001b[0m\u001b[0;34m\u001b[0m\u001b[0;34m\u001b[0m\u001b[0m\n\u001b[0m",
      "\u001b[0;32m~/github/pytorch/DeepSpeech/data_utils/audio.py\u001b[0m in \u001b[0;36mresample\u001b[0;34m(self, target_sample_rate, filter)\u001b[0m\n\u001b[1;32m    397\u001b[0m         \"\"\"\n\u001b[1;32m    398\u001b[0m         self._samples = resampy.resample(\n\u001b[0;32m--> 399\u001b[0;31m             self.samples, self.sample_rate, target_sample_rate, filter=filter)\n\u001b[0m\u001b[1;32m    400\u001b[0m         \u001b[0mself\u001b[0m\u001b[0;34m.\u001b[0m\u001b[0m_sample_rate\u001b[0m \u001b[0;34m=\u001b[0m \u001b[0mtarget_sample_rate\u001b[0m\u001b[0;34m\u001b[0m\u001b[0;34m\u001b[0m\u001b[0m\n\u001b[1;32m    401\u001b[0m \u001b[0;34m\u001b[0m\u001b[0m\n",
      "\u001b[0;32m~/miniconda3/envs/pytorch/lib/python3.6/site-packages/resampy/core.py\u001b[0m in \u001b[0;36mresample\u001b[0;34m(x, sr_orig, sr_new, axis, filter, **kwargs)\u001b[0m\n\u001b[1;32m     85\u001b[0m         \u001b[0;32mraise\u001b[0m \u001b[0mValueError\u001b[0m\u001b[0;34m(\u001b[0m\u001b[0;34m'Invalid sample rate: sr_orig={}'\u001b[0m\u001b[0;34m.\u001b[0m\u001b[0mformat\u001b[0m\u001b[0;34m(\u001b[0m\u001b[0msr_orig\u001b[0m\u001b[0;34m)\u001b[0m\u001b[0;34m)\u001b[0m\u001b[0;34m\u001b[0m\u001b[0;34m\u001b[0m\u001b[0m\n\u001b[1;32m     86\u001b[0m \u001b[0;34m\u001b[0m\u001b[0m\n\u001b[0;32m---> 87\u001b[0;31m     \u001b[0;32mif\u001b[0m \u001b[0msr_new\u001b[0m \u001b[0;34m<=\u001b[0m \u001b[0;36m0\u001b[0m\u001b[0;34m:\u001b[0m\u001b[0;34m\u001b[0m\u001b[0;34m\u001b[0m\u001b[0m\n\u001b[0m\u001b[1;32m     88\u001b[0m         \u001b[0;32mraise\u001b[0m \u001b[0mValueError\u001b[0m\u001b[0;34m(\u001b[0m\u001b[0;34m'Invalid sample rate: sr_new={}'\u001b[0m\u001b[0;34m.\u001b[0m\u001b[0mformat\u001b[0m\u001b[0;34m(\u001b[0m\u001b[0msr_new\u001b[0m\u001b[0;34m)\u001b[0m\u001b[0;34m)\u001b[0m\u001b[0;34m\u001b[0m\u001b[0;34m\u001b[0m\u001b[0m\n\u001b[1;32m     89\u001b[0m \u001b[0;34m\u001b[0m\u001b[0m\n",
      "\u001b[0;31mValueError\u001b[0m: The truth value of an array with more than one element is ambiguous. Use a.any() or a.all()"
     ]
    }
   ],
   "source": []
  }
 ],
 "metadata": {
  "kernelspec": {
   "display_name": "Python 3",
   "language": "python",
   "name": "python3"
  },
  "language_info": {
   "codemirror_mode": {
    "name": "ipython",
    "version": 3
   },
   "file_extension": ".py",
   "mimetype": "text/x-python",
   "name": "python",
   "nbconvert_exporter": "python",
   "pygments_lexer": "ipython3",
   "version": "3.6.9"
  }
 },
 "nbformat": 4,
 "nbformat_minor": 4
}
