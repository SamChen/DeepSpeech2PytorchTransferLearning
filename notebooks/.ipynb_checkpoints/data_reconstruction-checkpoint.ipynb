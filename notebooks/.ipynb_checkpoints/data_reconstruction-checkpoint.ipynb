{
 "cells": [
  {
   "cell_type": "code",
   "execution_count": 1,
   "metadata": {},
   "outputs": [],
   "source": [
    "import pandas as pd\n",
    "import numpy as np\n",
    "import re\n",
    "import os\n",
    "import sys\n",
    "import random\n",
    "from collections import defaultdict\n",
    "from itertools import chain"
   ]
  },
  {
   "cell_type": "code",
   "execution_count": 2,
   "metadata": {},
   "outputs": [],
   "source": [
    "filenames=[]\n",
    "root_path = \"iconect/csvs_orig/\"\n",
    "for pwd, _, fs in os.walk(root_path):\n",
    "    filenames.extend(fs)\n",
    "    break\n"
   ]
  },
  {
   "cell_type": "code",
   "execution_count": 3,
   "metadata": {},
   "outputs": [],
   "source": [
    "# extract pts with more than one transcripts\n",
    "pt_trans = defaultdict(list)\n",
    "for i in filenames:\n",
    "    ptid = i.split(\"_\")[0]\n",
    "    pt_trans[ptid].append(i)"
   ]
  },
  {
   "cell_type": "code",
   "execution_count": 4,
   "metadata": {},
   "outputs": [
    {
     "name": "stdout",
     "output_type": "stream",
     "text": [
      "['C2039', 'C1168', 'C1106', 'C1028', 'C1017', 'P2CON1013', 'P2CON1009', 'PCON1019', 'C1103', 'C1122', 'C1070', 'C1104', 'PCON1015', 'C1034', 'PCON1004', 'P2CON2001', 'C1038', 'C1127', 'C1112', 'C1007', 'PCON1002', 'C2012', 'C1042', 'C1082', 'PCON1008', 'C1105', 'PCON1014', 'C1019', 'P2CON1008', 'C1046', 'C1033', 'C1124', 'P2CON1012', 'C2028', 'C1113', 'C1142', 'P2CON1005', 'C1097', 'C1066', 'PCON1009', 'C2024', 'C1032', 'C1146', 'C1171', 'PCON1006', 'P2CON2004', 'P2CON2002', 'C1054', 'P2CON1004', 'C1083', 'C1052', 'PCON1010', 'C2016', 'PCON1007', 'P2CON2008', 'C1018', 'PCON1013', 'C1039', 'C1079', 'P2CON2006']\n"
     ]
    }
   ],
   "source": [
    "df_trans = pd.DataFrame.from_dict({\"ptid\": list(pt_trans.keys()), \"trans_files\": list(pt_trans.values())})\n",
    "df_trans[\"num_files\"] = [len(i) for i in df_trans.trans_files] \n",
    "print(df_trans.ptid.tolist())"
   ]
  },
  {
   "cell_type": "code",
   "execution_count": null,
   "metadata": {},
   "outputs": [],
   "source": [
    "data_pieces = []\n",
    "for index, val in df_trans.iterrows():\n",
    "    for filename in val.trans_files:\n",
    "        temp = pd.read_csv(os.path.join(root_path, filename))\n",
    "        data_pieces.append(temp)\n",
    "        \n",
    "all_data = pd.concat(data_pieces)\n",
    "all_data.to_csv(\"/home/chliu/test_code/all_data_02Mar2020.csv\")"
   ]
  },
  {
   "cell_type": "code",
   "execution_count": 5,
   "metadata": {},
   "outputs": [],
   "source": [
    "# 2 mci, 2 nc\n",
    "spker_booking = {\"C1007\": \"test\", \"C2016\": \"test\", \"C1028\": \"test\", \"C1070\": \"test\",\n",
    "                 \"C1033\": \"val\",  \"C1083\": \"val\" , \"C1066\": \"val\" , \"C1082\": \"val\" ,}"
   ]
  },
  {
   "cell_type": "code",
   "execution_count": 6,
   "metadata": {},
   "outputs": [],
   "source": [
    "pts_booked = spker_booking.keys()"
   ]
  },
  {
   "cell_type": "code",
   "execution_count": 7,
   "metadata": {},
   "outputs": [],
   "source": [
    "# deal with not booked spkers\n",
    "data_pieces = []\n",
    "for index, val in df_trans.iterrows():\n",
    "    if val.ptid in pts_booked:\n",
    "        continue\n",
    "        \n",
    "    for filename in val.trans_files:\n",
    "        temp = pd.read_csv(os.path.join(root_path, filename))\n",
    "        temp = temp[temp.role == \"Participant\"]\n",
    "        data_pieces.append(temp)\n",
    "        \n",
    "train_data = pd.concat(data_pieces)\n",
    "# mask_train = np.random.binomial(1, 0.7, size=len(regular_samples)) == 1\n",
    "# train_data = regular_samples[mask_train]\n",
    "# test_data = regular_samples[~mask_train]\n",
    "# mask_val = np.random.binomial(1, 0.5, size=len(test_data)) == 1\n",
    "# val_data = test_data[mask_val]\n",
    "# test_data = test_data[~mask_val]"
   ]
  },
  {
   "cell_type": "code",
   "execution_count": 8,
   "metadata": {},
   "outputs": [],
   "source": [
    "# deal with booked spkers\n",
    "val_data = []\n",
    "test_data = []\n",
    "for index, val in df_trans.iterrows():\n",
    "    if val.ptid not in pts_booked:\n",
    "        continue\n",
    "        \n",
    "    for filename in val.trans_files:\n",
    "        temp = pd.read_csv(os.path.join(root_path, filename))\n",
    "        temp = temp[temp.role == \"Participant\"]\n",
    "        \n",
    "        if spker_booking[val.ptid] == \"val\":\n",
    "            val_data.append(temp)\n",
    "        if spker_booking[val.ptid] == \"test\":\n",
    "            test_data.append(temp)\n",
    "val_data = pd.concat(val_data)\n",
    "test_data = pd.concat(test_data)"
   ]
  },
  {
   "cell_type": "code",
   "execution_count": null,
   "metadata": {},
   "outputs": [],
   "source": []
  },
  {
   "cell_type": "code",
   "execution_count": 9,
   "metadata": {},
   "outputs": [],
   "source": [
    "def audio_checking(df):\n",
    "    assert isinstance(df, pd.DataFrame)\n",
    "    \n",
    "    for index, row in df.iterrows():\n",
    "        assert os.path.isfile(row.audio_path)\n",
    "        assert os.path.splitext(row.audio_path)[-1] == \".wav\", row.audio_path"
   ]
  },
  {
   "cell_type": "code",
   "execution_count": null,
   "metadata": {},
   "outputs": [],
   "source": []
  },
  {
   "cell_type": "code",
   "execution_count": 10,
   "metadata": {},
   "outputs": [],
   "source": [
    "audio_checking(train_data)\n",
    "audio_checking(val_data)\n",
    "audio_checking(test_data)"
   ]
  },
  {
   "cell_type": "code",
   "execution_count": 11,
   "metadata": {},
   "outputs": [],
   "source": [
    "root_dir = \"iconect/models/pt_only_all_utt_test/data\"\n",
    "if not os.path.exists(root_dir):\n",
    "    os.mkdir(root_dir)\n",
    "\n",
    "val_data.to_csv(os.path.join(root_dir, \"val.csv\"), index=False)\n",
    "test_data.to_csv(os.path.join(root_dir, \"test.csv\"), index=False)\n",
    "train_data.to_csv(os.path.join(root_dir, \"train.csv\"), index=False)"
   ]
  },
  {
   "cell_type": "code",
   "execution_count": null,
   "metadata": {},
   "outputs": [],
   "source": []
  }
 ],
 "metadata": {
  "kernelspec": {
   "display_name": "Python 3",
   "language": "python",
   "name": "python3"
  },
  "language_info": {
   "codemirror_mode": {
    "name": "ipython",
    "version": 3
   },
   "file_extension": ".py",
   "mimetype": "text/x-python",
   "name": "python",
   "nbconvert_exporter": "python",
   "pygments_lexer": "ipython3",
   "version": "3.6.9"
  }
 },
 "nbformat": 4,
 "nbformat_minor": 4
}
