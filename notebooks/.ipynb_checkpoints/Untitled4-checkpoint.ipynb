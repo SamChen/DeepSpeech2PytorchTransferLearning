{
 "cells": [
  {
   "cell_type": "code",
   "execution_count": 1,
   "metadata": {},
   "outputs": [],
   "source": [
    "import pandas as pd"
   ]
  },
  {
   "cell_type": "code",
   "execution_count": null,
   "metadata": {},
   "outputs": [],
   "source": [
    "spker_booking = {\"test\": [\"C1007\", \"C2016\", \"C1028\", \"C2028\"],\n",
    "                 \"val\":  [\"C1033\", \"C2010\", \"C1066\", \"C1082\"]}"
   ]
  },
  {
   "cell_type": "code",
   "execution_count": 6,
   "metadata": {},
   "outputs": [],
   "source": [
    "train = pd.read_csv(\"iconect/models/pt_only_all_utt_wgt_transfer/data_old/train_short.csv\")\n",
    "val = pd.read_csv(\"iconect/models/pt_only_all_utt_wgt_transfer/data_old/val_short.csv\")\n",
    "test = pd.read_csv(\"iconect/models/pt_only_all_utt_wgt_transfer/data_old/test_short.csv\")\n",
    "\n",
    "all_data = pd.concat([train, val, test], axis=0)\n",
    "assert len(all_data) == (len(train) + len(val) + len(test))"
   ]
  },
  {
   "cell_type": "code",
   "execution_count": 4,
   "metadata": {},
   "outputs": [
    {
     "data": {
      "text/plain": [
       "22733"
      ]
     },
     "execution_count": 4,
     "metadata": {},
     "output_type": "execute_result"
    }
   ],
   "source": [
    "new_train = all_data[all_data.spkid.isin()]"
   ]
  }
 ],
 "metadata": {
  "kernelspec": {
   "display_name": "Python 3",
   "language": "python",
   "name": "python3"
  },
  "language_info": {
   "codemirror_mode": {
    "name": "ipython",
    "version": 3
   },
   "file_extension": ".py",
   "mimetype": "text/x-python",
   "name": "python",
   "nbconvert_exporter": "python",
   "pygments_lexer": "ipython3",
   "version": "3.6.9"
  }
 },
 "nbformat": 4,
 "nbformat_minor": 4
}
