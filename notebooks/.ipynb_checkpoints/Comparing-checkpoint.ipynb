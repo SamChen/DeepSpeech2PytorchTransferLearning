{
 "cells": [
  {
   "cell_type": "code",
   "execution_count": 1,
   "metadata": {},
   "outputs": [],
   "source": [
    "import numpy as np\n",
    "import pandas as pd\n",
    "import os\n",
    "import json"
   ]
  },
  {
   "cell_type": "code",
   "execution_count": 2,
   "metadata": {},
   "outputs": [],
   "source": [
    "def compute_difference(paddle_outputs, torch_outputs):\n",
    "    mean = np.mean((paddle_outputs - torch_outputs))\n",
    "    std = np.sqrt(np.mean((paddle_outputs - torch_outputs)**2.0))\n",
    "    return mean, std"
   ]
  },
  {
   "cell_type": "code",
   "execution_count": 3,
   "metadata": {},
   "outputs": [],
   "source": [
    "torch_df = pd.read_pickle(\"Logical_Memory/deepspeech_outputs_tuned.pkl\")\n",
    "paddle_df = pd.read_pickle(\"Logical_Memory/deepspeech_outputs_paddle.pkl\")"
   ]
  },
  {
   "cell_type": "code",
   "execution_count": 4,
   "metadata": {},
   "outputs": [
    {
     "data": {
      "text/html": [
       "<div>\n",
       "<style scoped>\n",
       "    .dataframe tbody tr th:only-of-type {\n",
       "        vertical-align: middle;\n",
       "    }\n",
       "\n",
       "    .dataframe tbody tr th {\n",
       "        vertical-align: top;\n",
       "    }\n",
       "\n",
       "    .dataframe thead th {\n",
       "        text-align: right;\n",
       "    }\n",
       "</style>\n",
       "<table border=\"1\" class=\"dataframe\">\n",
       "  <thead>\n",
       "    <tr style=\"text-align: right;\">\n",
       "      <th></th>\n",
       "      <th>uttid</th>\n",
       "      <th>probs</th>\n",
       "      <th>asr</th>\n",
       "      <th>text</th>\n",
       "    </tr>\n",
       "  </thead>\n",
       "  <tbody>\n",
       "    <tr>\n",
       "      <td>0</td>\n",
       "      <td>241-Logical_Memory-I</td>\n",
       "      <td>[[8.80124e-09, 4.5925925e-09, 0.00014864939, 6...</td>\n",
       "      <td>the thompson through south boston was a cook a...</td>\n",
       "      <td>anna thompson from south boston was a cook and...</td>\n",
       "    </tr>\n",
       "    <tr>\n",
       "      <td>1</td>\n",
       "      <td>7019-Logical_Memory-II</td>\n",
       "      <td>[[1.9660776e-07, 6.514718e-06, 0.0016164558, 0...</td>\n",
       "      <td>mona thompson was a hunger way home works you ...</td>\n",
       "      <td>oh anna thompson was on her way home from work...</td>\n",
       "    </tr>\n",
       "    <tr>\n",
       "      <td>2</td>\n",
       "      <td>261-Logical_Memory-II</td>\n",
       "      <td>[[1.1007098e-06, 1.4430835e-05, 0.009315087, 0...</td>\n",
       "      <td>name tom sinews a best because she had childre...</td>\n",
       "      <td>her name mrs thompson she was a mrs because sh...</td>\n",
       "    </tr>\n",
       "    <tr>\n",
       "      <td>3</td>\n",
       "      <td>7109-Logical_Memory-I</td>\n",
       "      <td>[[1.5240578e-10, 1.9701767e-09, 2.1052198e-05,...</td>\n",
       "      <td>one thompson from the south boston bag i can't...</td>\n",
       "      <td>anna thompson from south boston gosh i ca n't ...</td>\n",
       "    </tr>\n",
       "    <tr>\n",
       "      <td>4</td>\n",
       "      <td>257_1-Logical_Memory-II</td>\n",
       "      <td>[[1.6223948e-08, 2.4669174e-07, 0.00095818995,...</td>\n",
       "      <td>swear as you cook it for children something ab...</td>\n",
       "      <td>well it has woman that was a cook had four chi...</td>\n",
       "    </tr>\n",
       "  </tbody>\n",
       "</table>\n",
       "</div>"
      ],
      "text/plain": [
       "                     uttid                                              probs  \\\n",
       "0     241-Logical_Memory-I  [[8.80124e-09, 4.5925925e-09, 0.00014864939, 6...   \n",
       "1   7019-Logical_Memory-II  [[1.9660776e-07, 6.514718e-06, 0.0016164558, 0...   \n",
       "2    261-Logical_Memory-II  [[1.1007098e-06, 1.4430835e-05, 0.009315087, 0...   \n",
       "3    7109-Logical_Memory-I  [[1.5240578e-10, 1.9701767e-09, 2.1052198e-05,...   \n",
       "4  257_1-Logical_Memory-II  [[1.6223948e-08, 2.4669174e-07, 0.00095818995,...   \n",
       "\n",
       "                                                 asr  \\\n",
       "0  the thompson through south boston was a cook a...   \n",
       "1  mona thompson was a hunger way home works you ...   \n",
       "2  name tom sinews a best because she had childre...   \n",
       "3  one thompson from the south boston bag i can't...   \n",
       "4  swear as you cook it for children something ab...   \n",
       "\n",
       "                                                text  \n",
       "0  anna thompson from south boston was a cook and...  \n",
       "1  oh anna thompson was on her way home from work...  \n",
       "2  her name mrs thompson she was a mrs because sh...  \n",
       "3  anna thompson from south boston gosh i ca n't ...  \n",
       "4  well it has woman that was a cook had four chi...  "
      ]
     },
     "execution_count": 4,
     "metadata": {},
     "output_type": "execute_result"
    }
   ],
   "source": [
    "torch_df.head()"
   ]
  },
  {
   "cell_type": "code",
   "execution_count": 14,
   "metadata": {},
   "outputs": [],
   "source": [
    "decimal = 7\n",
    "\n",
    "stds_df = []\n",
    "\n",
    "paddle_all = []\n",
    "torch_all = []\n",
    "for i in torch_df.uttid:\n",
    "    if i not in paddle_df.uttid.tolist():\n",
    "        print(i)\n",
    "        continue\n",
    "        \n",
    "    \n",
    "    paddle_value = paddle_df.prob[paddle_df.uttid == i].values[0]\n",
    "    torch_value = torch_df.probs[torch_df.uttid == i].values[0]\n",
    "    assert paddle_value.shape == torch_value.shape\n",
    "    # assert paddle_df.asr[paddle_df.uttid == i].values == torch_df.asr[torch_df.uttid == i].values\n",
    "    stds_df.append(compute_difference(paddle_value, torch_value)[1])\n",
    "    paddle_all.extend(paddle_value)\n",
    "    torch_all.extend(torch_value)        "
   ]
  },
  {
   "cell_type": "code",
   "execution_count": 15,
   "metadata": {},
   "outputs": [
    {
     "data": {
      "text/plain": [
       "0.06882648"
      ]
     },
     "execution_count": 15,
     "metadata": {},
     "output_type": "execute_result"
    }
   ],
   "source": [
    "np.mean(stds_df)"
   ]
  },
  {
   "cell_type": "code",
   "execution_count": 16,
   "metadata": {},
   "outputs": [
    {
     "data": {
      "text/plain": [
       "0.012126422"
      ]
     },
     "execution_count": 16,
     "metadata": {},
     "output_type": "execute_result"
    }
   ],
   "source": [
    "np.std(stds_df)"
   ]
  },
  {
   "cell_type": "code",
   "execution_count": 17,
   "metadata": {},
   "outputs": [
    {
     "data": {
      "text/plain": [
       "222722"
      ]
     },
     "execution_count": 17,
     "metadata": {},
     "output_type": "execute_result"
    }
   ],
   "source": [
    "len(paddle_all)"
   ]
  },
  {
   "cell_type": "code",
   "execution_count": 18,
   "metadata": {},
   "outputs": [
    {
     "data": {
      "text/plain": [
       "(1.5825685e-10, 0.069069594)"
      ]
     },
     "execution_count": 18,
     "metadata": {},
     "output_type": "execute_result"
    }
   ],
   "source": [
    "compute_difference(paddle_outputs=np.array(paddle_all), torch_outputs=np.array(torch_all))"
   ]
  },
  {
   "cell_type": "code",
   "execution_count": null,
   "metadata": {},
   "outputs": [],
   "source": []
  }
 ],
 "metadata": {
  "kernelspec": {
   "display_name": "Python 3",
   "language": "python",
   "name": "python3"
  },
  "language_info": {
   "codemirror_mode": {
    "name": "ipython",
    "version": 3
   },
   "file_extension": ".py",
   "mimetype": "text/x-python",
   "name": "python",
   "nbconvert_exporter": "python",
   "pygments_lexer": "ipython3",
   "version": "3.6.9"
  }
 },
 "nbformat": 4,
 "nbformat_minor": 4
}
