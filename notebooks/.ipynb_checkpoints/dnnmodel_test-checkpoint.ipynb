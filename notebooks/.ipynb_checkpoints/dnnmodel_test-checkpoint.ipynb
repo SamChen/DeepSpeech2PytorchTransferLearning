{
 "cells": [
  {
   "cell_type": "code",
   "execution_count": 1,
   "metadata": {},
   "outputs": [],
   "source": [
    "import sys\n",
    "import numpy as np\n",
    "import pandas as pd\n",
    "from collections import defaultdict\n",
    "sys.path.append(\"..\")\n",
    "from model_utils.model import DeepSpeech2Model\n",
    "from model_utils.network import deepspeech_LocalDotAtten, deepspeech_orig\n",
    "from data_utils.dataloader import SpecgramGenerator\n",
    "from torch.utils.data import DataLoader\n",
    "\n",
    "import torch\n",
    "import os"
   ]
  },
  {
   "cell_type": "markdown",
   "metadata": {},
   "source": [
    "# DNN initialize"
   ]
  },
  {
   "cell_type": "code",
   "execution_count": 2,
   "metadata": {},
   "outputs": [
    {
     "name": "stderr",
     "output_type": "stream",
     "text": [
      "[INFO 2020-03-04 09:36:23,207 model.py:362] begin to initialize the external scorer for decoding\n",
      "begin to initialize the external scorer for decoding\n",
      "[INFO 2020-03-04 09:36:32,201 model.py:372] language model: is_character_based = 0, max_order = 5, dict_size = 400000\n",
      "language model: is_character_based = 0, max_order = 5, dict_size = 400000\n",
      "[INFO 2020-03-04 09:36:32,294 model.py:373] end initializing scorer\n",
      "end initializing scorer\n"
     ]
    }
   ],
   "source": [
    "vocab_list = [\"'\", ' ', 'a', 'b', 'c', 'd', 'e', 'f', 'g', 'h', 'i', 'j', 'k', 'l', 'm', 'n', 'o', 'p', 'q', 'r', 's', 't', 'u', 'v', 'w', 'x', 'y', 'z']\n",
    "ds2_model = DeepSpeech2Model(\n",
    "    model=deepspeech_orig,\n",
    "    vocab_list=vocab_list,\n",
    "    pretrained_model_path=\"TBD\",\n",
    "    device=\"cuda\")\n",
    "\n",
    "\n",
    "ds2_model.init_ext_scorer(1.4, 0.35, \"../models/lm/common_crawl_00.prune01111.trie.klm\")"
   ]
  },
  {
   "cell_type": "code",
   "execution_count": 25,
   "metadata": {},
   "outputs": [
    {
     "data": {
      "text/plain": [
       "<All keys matched successfully>"
      ]
     },
     "execution_count": 25,
     "metadata": {},
     "output_type": "execute_result"
    }
   ],
   "source": [
    "ds2_model.model.load_state_dict(torch.load(\"iconect/models/pt_only_all_utt_wgt_transfer/exps/200302-10:10:12_lr2e-05-deepspeech/model_17600.pth\"))"
   ]
  },
  {
   "cell_type": "markdown",
   "metadata": {},
   "source": [
    "# Data Loading"
   ]
  },
  {
   "cell_type": "code",
   "execution_count": 26,
   "metadata": {},
   "outputs": [],
   "source": [
    "test_dataset = SpecgramGenerator(manifest=\"iconect/models/all_utt_wgt_transfer/data/val_kaldi.csv\",\n",
    "                               vocab_filepath=\"../models/baidu_en8k/vocab.txt\",\n",
    "                               mean_std_filepath=\"../models/baidu_en8k/mean_std.npz\",\n",
    "                               max_duration=float('inf'),\n",
    "                               min_duration=2,\n",
    "                               segmented=False)\n",
    "\n",
    "dataloader = DataLoader(test_dataset, batch_size=32,\n",
    "                        shuffle=False, num_workers=8,\n",
    "                       collate_fn=SpecgramGenerator.padding_batch)"
   ]
  },
  {
   "cell_type": "markdown",
   "metadata": {},
   "source": [
    "# Decoding "
   ]
  },
  {
   "cell_type": "code",
   "execution_count": null,
   "metadata": {},
   "outputs": [],
   "source": [
    "outputs = defaultdict(list)\n",
    "beam_alpha=1\n",
    "\n",
    "for i_batch, sample_batched in enumerate(dataloader):\n",
    "    batch_results = ds2_model.infer_batch_probs(infer_data=sample_batched)\n",
    "    batch_transcripts_beam = ds2_model.decode_batch_beam_search(probs_split=batch_results,\n",
    "                                                                 beam_alpha=beam_alpha,\n",
    "                                                                 beam_beta=0.35,\n",
    "                                                                 beam_size=500,\n",
    "                                                                 cutoff_prob=1.0,\n",
    "                                                                 cutoff_top_n=40,\n",
    "                                                                 num_processes=6)\n",
    "    \n",
    "    outputs[\"uttid\"].extend(sample_batched[\"uttid\"])\n",
    "    outputs[\"probs\"].extend(batch_results)\n",
    "    outputs[\"asr\"].extend(batch_transcripts_beam)\n",
    "    outputs[\"text\"].extend(sample_batched[\"trans\"])\n",
    "df = pd.DataFrame.from_dict(outputs)\n"
   ]
  },
  {
   "cell_type": "code",
   "execution_count": 24,
   "metadata": {},
   "outputs": [
    {
     "data": {
      "text/html": [
       "<div>\n",
       "<style scoped>\n",
       "    .dataframe tbody tr th:only-of-type {\n",
       "        vertical-align: middle;\n",
       "    }\n",
       "\n",
       "    .dataframe tbody tr th {\n",
       "        vertical-align: top;\n",
       "    }\n",
       "\n",
       "    .dataframe thead th {\n",
       "        text-align: right;\n",
       "    }\n",
       "</style>\n",
       "<table border=\"1\" class=\"dataframe\">\n",
       "  <thead>\n",
       "    <tr style=\"text-align: right;\">\n",
       "      <th></th>\n",
       "      <th>uttid</th>\n",
       "      <th>probs</th>\n",
       "      <th>asr</th>\n",
       "      <th>text</th>\n",
       "    </tr>\n",
       "  </thead>\n",
       "  <tbody>\n",
       "    <tr>\n",
       "      <td>0</td>\n",
       "      <td>C1083_VC_3_FullCon_Wk01_Day3_080719_Moderator_...</td>\n",
       "      <td>[[0.0004430709, 0.0004414702, 0.028753586, 0.0...</td>\n",
       "      <td>as for anyway</td>\n",
       "      <td>that's the best part anyway</td>\n",
       "    </tr>\n",
       "    <tr>\n",
       "      <td>1</td>\n",
       "      <td>C1082_VC_3_FullCon_Wk01_Day3_081419_Participan...</td>\n",
       "      <td>[[1.18267645e-08, 5.302059e-07, 8.0755824e-05,...</td>\n",
       "      <td>uh it's been a long time</td>\n",
       "      <td>uh it's been a long time</td>\n",
       "    </tr>\n",
       "    <tr>\n",
       "      <td>2</td>\n",
       "      <td>C1033_VC_3_FullCon_Wk01_Day3_032719_Participan...</td>\n",
       "      <td>[[9.2032207e-07, 4.1930738e-07, 0.00011967613,...</td>\n",
       "      <td>planning</td>\n",
       "      <td>planting</td>\n",
       "    </tr>\n",
       "    <tr>\n",
       "      <td>3</td>\n",
       "      <td>C1083_VC_3_FullCon_Wk01_Day3_080719_Participan...</td>\n",
       "      <td>[[4.688401e-05, 3.5874993e-05, 0.0046603284, 0...</td>\n",
       "      <td>you can't imagine</td>\n",
       "      <td>can't imagine</td>\n",
       "    </tr>\n",
       "    <tr>\n",
       "      <td>4</td>\n",
       "      <td>C1082_VC_3_FullCon_Wk01_Day3_081419_Participan...</td>\n",
       "      <td>[[1.2688511e-07, 3.8794515e-06, 2.6128811e-05,...</td>\n",
       "      <td>it was part of my culture as i got old</td>\n",
       "      <td>it was part of my culture as i got older</td>\n",
       "    </tr>\n",
       "  </tbody>\n",
       "</table>\n",
       "</div>"
      ],
      "text/plain": [
       "                                               uttid  \\\n",
       "0  C1083_VC_3_FullCon_Wk01_Day3_080719_Moderator_...   \n",
       "1  C1082_VC_3_FullCon_Wk01_Day3_081419_Participan...   \n",
       "2  C1033_VC_3_FullCon_Wk01_Day3_032719_Participan...   \n",
       "3  C1083_VC_3_FullCon_Wk01_Day3_080719_Participan...   \n",
       "4  C1082_VC_3_FullCon_Wk01_Day3_081419_Participan...   \n",
       "\n",
       "                                               probs  \\\n",
       "0  [[0.0004430709, 0.0004414702, 0.028753586, 0.0...   \n",
       "1  [[1.18267645e-08, 5.302059e-07, 8.0755824e-05,...   \n",
       "2  [[9.2032207e-07, 4.1930738e-07, 0.00011967613,...   \n",
       "3  [[4.688401e-05, 3.5874993e-05, 0.0046603284, 0...   \n",
       "4  [[1.2688511e-07, 3.8794515e-06, 2.6128811e-05,...   \n",
       "\n",
       "                                      asr  \\\n",
       "0                           as for anyway   \n",
       "1                uh it's been a long time   \n",
       "2                                planning   \n",
       "3                       you can't imagine   \n",
       "4  it was part of my culture as i got old   \n",
       "\n",
       "                                       text  \n",
       "0               that's the best part anyway  \n",
       "1                  uh it's been a long time  \n",
       "2                                  planting  \n",
       "3                             can't imagine  \n",
       "4  it was part of my culture as i got older  "
      ]
     },
     "execution_count": 24,
     "metadata": {},
     "output_type": "execute_result"
    }
   ],
   "source": [
    "saving_path = \"test/pt_200302_lr2e-5_model_on_kaldival.csv\"\n",
    "df.to_pickle(saving_path)\n",
    "test_df = pd.read_pickle(saving_path)\n",
    "test_df.head()"
   ]
  },
  {
   "cell_type": "code",
   "execution_count": null,
   "metadata": {},
   "outputs": [],
   "source": [
    "from matplotlib import pyplot as plt\n",
    "import logging\n",
    "plt.style.use('classic')\n",
    "mpl_logger = logging.getLogger('matplotlib')\n",
    "mpl_logger.setLevel(logging.WARNING)\n",
    "\n",
    "def plot_output(df, row=30):\n",
    "    plt.figure(figsize=(30, 5))\n",
    "    for i in df.iloc[row].probs.sum(1):\n",
    "        assert np.abs(i-1) < 1e-6, \"{}\".format(row)\n",
    "    \n",
    "    plt.imshow(df.iloc[row].probs.T)\n",
    "    plt.colorbar()\n",
    "    \n",
    "plot_output(df)"
   ]
  }
 ],
 "metadata": {
  "kernelspec": {
   "display_name": "Python 3",
   "language": "python",
   "name": "python3"
  },
  "language_info": {
   "codemirror_mode": {
    "name": "ipython",
    "version": 3
   },
   "file_extension": ".py",
   "mimetype": "text/x-python",
   "name": "python",
   "nbconvert_exporter": "python",
   "pygments_lexer": "ipython3",
   "version": "3.6.9"
  }
 },
 "nbformat": 4,
 "nbformat_minor": 4
}
