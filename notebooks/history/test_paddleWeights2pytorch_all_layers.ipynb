{
 "cells": [
  {
   "cell_type": "code",
   "execution_count": 1,
   "metadata": {},
   "outputs": [],
   "source": [
    "import torch\n",
    "import torch.nn as nn\n",
    "import numpy as np\n",
    "import sys\n",
    "sys.path.append(\"../model_utils/\")\n",
    "from custom_layers import Conv_bn_mask\n",
    "from custom_gru import BidirRNNLayer, GRUCell, RNNLayer"
   ]
  },
  {
   "cell_type": "markdown",
   "metadata": {},
   "source": [
    "## extract paddlepaddle weights"
   ]
  },
  {
   "cell_type": "code",
   "execution_count": 2,
   "metadata": {},
   "outputs": [],
   "source": [
    "def load_parameter(file_name):\n",
    "    with open(file_name, 'rb') as f:\n",
    "        f.read(16)  # skip header.\n",
    "        return np.fromfile(f, dtype=np.float32)\n",
    "    \n",
    "    \n",
    "def compute_difference(paddle_outputs, torch_outputs):\n",
    "    return np.sqrt(np.mean((paddle_outputs - torch_outputs)**2.0))"
   ]
  },
  {
   "cell_type": "code",
   "execution_count": 3,
   "metadata": {},
   "outputs": [],
   "source": [
    "class cbmX2_bigru_layer(nn.Module):\n",
    "    def __init__(self):\n",
    "        super(cbmX2_bigru_layer, self).__init__()\n",
    "        self.conv_bn_mask0 = Conv_bn_mask(ichannel=1,\n",
    "                                          ochannel=32,\n",
    "                                          kernel_size=(11, 41),\n",
    "                                          stride=(3, 2),\n",
    "                                          padding=(5, 20),\n",
    "                                          bias=False,\n",
    "                                          track_running_stats=True)\n",
    "\n",
    "        self.conv_bn_mask1 = Conv_bn_mask(ichannel=32,\n",
    "                                          ochannel=32,\n",
    "                                          kernel_size=(11, 21),\n",
    "                                          stride=(1, 2),\n",
    "                                          padding=(5, 10),\n",
    "                                          bias=False,\n",
    "                                          track_running_stats=True)\n",
    "\n",
    "        self.bigru0 = BidirRNNLayer(GRUCell, input_size=41 * 32, hidden_size=1024, gate_act=\"sigmoid\", state_act=\"relu\")\n",
    "        self.bigru1 = BidirRNNLayer(GRUCell, input_size=2048, hidden_size=1024,gate_act=\"sigmoid\", state_act=\"relu\")\n",
    "        self.bigru2 = BidirRNNLayer(GRUCell, input_size=2048, hidden_size=1024,gate_act=\"sigmoid\", state_act=\"relu\")\n",
    "\n",
    "        # 28 of char + 1 blank\n",
    "        # vocab list:  [\"'\", ' ', 'a', 'b', 'c', 'd', 'e', 'f', 'g', 'h', 'i', 'j', 'k', 'l', 'm', 'n', 'o', 'p', 'q', 'r', 's', 't', 'u', 'v', 'w', 'x', 'y', 'z']\n",
    "        self.bottleneck = nn.Linear(2048, 28 + 1)\n",
    "        self.softmax = nn.Softmax(dim=1)\n",
    "\n",
    "\n",
    "    def forward(self, input, length):\n",
    "        x = input\n",
    "        seq_length = length \n",
    "        batch_size = x.shape[0]\n",
    "        x = self.conv_bn_mask0(x, seq_length)\n",
    "        x = self.conv_bn_mask1(x, seq_length)\n",
    "        x = x.transpose(2, 1).contiguous()\n",
    "        flattened_x = x.reshape(batch_size, -1, 41 * 32)\n",
    "        \n",
    "        # flattened_x = torch.transpose(flattened_x, 2,1)\n",
    "        flattened_x = nn.utils.rnn.pack_padded_sequence(flattened_x, seq_length.flatten(), batch_first=True)\n",
    "        flattened_x, _ = self.bigru0(flattened_x, [torch.zeros((2, batch_size, 1024)), ] )\n",
    "        flattened_x, _ = self.bigru1(flattened_x, [torch.zeros((2, batch_size, 1024)), ] )\n",
    "        flattened_x, _ = self.bigru2(flattened_x, [torch.zeros((2, batch_size, 1024)), ] )\n",
    "\n",
    "        \n",
    "        data_x, batch_sizes, sorted_indices, unsorted_indices = flattened_x\n",
    "        data_x = self.bottleneck(data_x)\n",
    "        data_x = self.softmax(data_x)\n",
    "        flattened_x = nn.utils.rnn.PackedSequence(data_x, batch_sizes, sorted_indices, unsorted_indices)\n",
    "        \n",
    "        return flattened_x\n"
   ]
  },
  {
   "cell_type": "code",
   "execution_count": 4,
   "metadata": {},
   "outputs": [
    {
     "data": {
      "text/plain": [
       "cbmX2_bigru_layer(\n",
       "  (conv_bn_mask0): Conv_bn_mask(\n",
       "    (conv): Conv2d(1, 32, kernel_size=(11, 41), stride=(3, 2), padding=(5, 20), bias=False)\n",
       "    (bn): BatchNorm2d(32, eps=1e-05, momentum=0.1, affine=True, track_running_stats=True)\n",
       "    (activation): BReLU()\n",
       "    (mask): Mask()\n",
       "  )\n",
       "  (conv_bn_mask1): Conv_bn_mask(\n",
       "    (conv): Conv2d(32, 32, kernel_size=(11, 21), stride=(1, 2), padding=(5, 10), bias=False)\n",
       "    (bn): BatchNorm2d(32, eps=1e-05, momentum=0.1, affine=True, track_running_stats=True)\n",
       "    (activation): BReLU()\n",
       "    (mask): Mask()\n",
       "  )\n",
       "  (bigru0): BidirRNNLayer(\n",
       "    original_name=BidirRNNLayer\n",
       "    (directions): _ConstModuleList(\n",
       "      original_name=_ConstModuleList\n",
       "      (0): RNNLayer(\n",
       "        original_name=RNNLayer\n",
       "        (cell): GRUCell(\n",
       "          original_name=GRUCell\n",
       "          (bn): BatchNorm1d(3072, eps=1e-05, momentum=0.1, affine=True, track_running_stats=True)\n",
       "        )\n",
       "      )\n",
       "      (1): ReverseRNNLayer(\n",
       "        original_name=ReverseRNNLayer\n",
       "        (cell): GRUCell(\n",
       "          original_name=GRUCell\n",
       "          (bn): BatchNorm1d(3072, eps=1e-05, momentum=0.1, affine=True, track_running_stats=True)\n",
       "        )\n",
       "      )\n",
       "    )\n",
       "  )\n",
       "  (bigru1): BidirRNNLayer(\n",
       "    original_name=BidirRNNLayer\n",
       "    (directions): _ConstModuleList(\n",
       "      original_name=_ConstModuleList\n",
       "      (0): RNNLayer(\n",
       "        original_name=RNNLayer\n",
       "        (cell): GRUCell(\n",
       "          original_name=GRUCell\n",
       "          (bn): BatchNorm1d(3072, eps=1e-05, momentum=0.1, affine=True, track_running_stats=True)\n",
       "        )\n",
       "      )\n",
       "      (1): ReverseRNNLayer(\n",
       "        original_name=ReverseRNNLayer\n",
       "        (cell): GRUCell(\n",
       "          original_name=GRUCell\n",
       "          (bn): BatchNorm1d(3072, eps=1e-05, momentum=0.1, affine=True, track_running_stats=True)\n",
       "        )\n",
       "      )\n",
       "    )\n",
       "  )\n",
       "  (bigru2): BidirRNNLayer(\n",
       "    original_name=BidirRNNLayer\n",
       "    (directions): _ConstModuleList(\n",
       "      original_name=_ConstModuleList\n",
       "      (0): RNNLayer(\n",
       "        original_name=RNNLayer\n",
       "        (cell): GRUCell(\n",
       "          original_name=GRUCell\n",
       "          (bn): BatchNorm1d(3072, eps=1e-05, momentum=0.1, affine=True, track_running_stats=True)\n",
       "        )\n",
       "      )\n",
       "      (1): ReverseRNNLayer(\n",
       "        original_name=ReverseRNNLayer\n",
       "        (cell): GRUCell(\n",
       "          original_name=GRUCell\n",
       "          (bn): BatchNorm1d(3072, eps=1e-05, momentum=0.1, affine=True, track_running_stats=True)\n",
       "        )\n",
       "      )\n",
       "    )\n",
       "  )\n",
       "  (bottleneck): Linear(in_features=2048, out_features=29, bias=True)\n",
       "  (softmax): Softmax(dim=1)\n",
       ")"
      ]
     },
     "execution_count": 4,
     "metadata": {},
     "output_type": "execute_result"
    }
   ],
   "source": [
    "cbmX2_bigru_test = cbmX2_bigru_layer()\n",
    "cbmX2_bigru_test.eval()\n",
    "\n",
    "# TODO, double check the normalization part"
   ]
  },
  {
   "cell_type": "code",
   "execution_count": 5,
   "metadata": {},
   "outputs": [
    {
     "data": {
      "text/plain": [
       "odict_keys(['conv_bn_mask0.conv.weight', 'conv_bn_mask0.bn.weight', 'conv_bn_mask0.bn.bias', 'conv_bn_mask0.bn.running_mean', 'conv_bn_mask0.bn.running_var', 'conv_bn_mask0.bn.num_batches_tracked', 'conv_bn_mask1.conv.weight', 'conv_bn_mask1.bn.weight', 'conv_bn_mask1.bn.bias', 'conv_bn_mask1.bn.running_mean', 'conv_bn_mask1.bn.running_var', 'conv_bn_mask1.bn.num_batches_tracked', 'bigru0.directions.0.cell.weight_i', 'bigru0.directions.0.cell.weight_h', 'bigru0.directions.0.cell.bias', 'bigru0.directions.0.cell.bn.weight', 'bigru0.directions.0.cell.bn.bias', 'bigru0.directions.0.cell.bn.running_mean', 'bigru0.directions.0.cell.bn.running_var', 'bigru0.directions.0.cell.bn.num_batches_tracked', 'bigru0.directions.1.cell.weight_i', 'bigru0.directions.1.cell.weight_h', 'bigru0.directions.1.cell.bias', 'bigru0.directions.1.cell.bn.weight', 'bigru0.directions.1.cell.bn.bias', 'bigru0.directions.1.cell.bn.running_mean', 'bigru0.directions.1.cell.bn.running_var', 'bigru0.directions.1.cell.bn.num_batches_tracked', 'bigru1.directions.0.cell.weight_i', 'bigru1.directions.0.cell.weight_h', 'bigru1.directions.0.cell.bias', 'bigru1.directions.0.cell.bn.weight', 'bigru1.directions.0.cell.bn.bias', 'bigru1.directions.0.cell.bn.running_mean', 'bigru1.directions.0.cell.bn.running_var', 'bigru1.directions.0.cell.bn.num_batches_tracked', 'bigru1.directions.1.cell.weight_i', 'bigru1.directions.1.cell.weight_h', 'bigru1.directions.1.cell.bias', 'bigru1.directions.1.cell.bn.weight', 'bigru1.directions.1.cell.bn.bias', 'bigru1.directions.1.cell.bn.running_mean', 'bigru1.directions.1.cell.bn.running_var', 'bigru1.directions.1.cell.bn.num_batches_tracked', 'bigru2.directions.0.cell.weight_i', 'bigru2.directions.0.cell.weight_h', 'bigru2.directions.0.cell.bias', 'bigru2.directions.0.cell.bn.weight', 'bigru2.directions.0.cell.bn.bias', 'bigru2.directions.0.cell.bn.running_mean', 'bigru2.directions.0.cell.bn.running_var', 'bigru2.directions.0.cell.bn.num_batches_tracked', 'bigru2.directions.1.cell.weight_i', 'bigru2.directions.1.cell.weight_h', 'bigru2.directions.1.cell.bias', 'bigru2.directions.1.cell.bn.weight', 'bigru2.directions.1.cell.bn.bias', 'bigru2.directions.1.cell.bn.running_mean', 'bigru2.directions.1.cell.bn.running_var', 'bigru2.directions.1.cell.bn.num_batches_tracked', 'bottleneck.weight', 'bottleneck.bias'])"
      ]
     },
     "execution_count": 5,
     "metadata": {},
     "output_type": "execute_result"
    }
   ],
   "source": [
    "cbmX2_bigru_test.state_dict().keys()\n",
    "# TODO: load parameters"
   ]
  },
  {
   "cell_type": "code",
   "execution_count": 6,
   "metadata": {},
   "outputs": [],
   "source": [
    "conv0_weights   = load_parameter(\"../models/baidu_en8k/params/___conv_0__.w0\")\n",
    "conv0_weights   = conv0_weights.reshape(32, 1, 41, 11)\n",
    "conv0_weights   = np.transpose(conv0_weights, (0, 1, 3, 2))\n",
    "conv0_bn_mean  = load_parameter(\"../models/baidu_en8k/params/___batch_norm_0__.w1\")\n",
    "conv0_bn_var   = load_parameter(\"../models/baidu_en8k/params/___batch_norm_0__.w2\")\n",
    "conv0_bn_gamma = load_parameter(\"../models/baidu_en8k/params/___batch_norm_0__.w0\")\n",
    "conv0_bn_beta  = load_parameter(\"../models/baidu_en8k/params/___batch_norm_0__.wbias\")\n",
    "\n",
    "\n",
    "conv1_weights = load_parameter(\"../models/baidu_en8k/params/___conv_1__.w0\")\n",
    "conv1_weights = conv1_weights.reshape(32, 32, 21, 11)\n",
    "conv1_weights = np.transpose(conv1_weights, (0, 1, 3, 2))\n",
    "conv1_bn_mean  = load_parameter(\"../models/baidu_en8k/params/___batch_norm_1__.w1\")\n",
    "conv1_bn_var   = load_parameter(\"../models/baidu_en8k/params/___batch_norm_1__.w2\")\n",
    "conv1_bn_gamma = load_parameter(\"../models/baidu_en8k/params/___batch_norm_1__.w0\")\n",
    "conv1_bn_beta  = load_parameter(\"../models/baidu_en8k/params/___batch_norm_1__.wbias\")\n",
    "\n",
    "# gru0\n",
    "bigru0_directions_0_cell_weight_i         = load_parameter(\"../models/baidu_en8k/params/___fc_layer_0__.w0\")\n",
    "bigru0_directions_0_cell_weight_i         = bigru0_directions_0_cell_weight_i.reshape(41 * 32, 1024*3)\n",
    "bigru0_directions_0_cell_weight_h         = load_parameter(\"../models/baidu_en8k/params/___gru_0__.w0\")\n",
    "w_u_r = bigru0_directions_0_cell_weight_h.flatten()[:1024*1024*2].reshape(1024,1024*2)\n",
    "w_c   = bigru0_directions_0_cell_weight_h.flatten()[1024*1024*2:].reshape(1024,1024)\n",
    "bigru0_directions_0_cell_weight_h = np.concatenate([w_u_r,w_c], 1)\n",
    "bigru0_directions_0_cell_bias             = load_parameter(\"../models/baidu_en8k/params/___gru_0__.wbias\")\n",
    "bigru0_directions_0_cell_bn_bias          = load_parameter(\"../models/baidu_en8k/params/___batch_norm_2__.wbias\")\n",
    "bigru0_directions_0_cell_bn_weight        = load_parameter(\"../models/baidu_en8k/params/___batch_norm_2__.w0\")\n",
    "bigru0_directions_0_cell_bn_running_mean  = load_parameter(\"../models/baidu_en8k/params/___batch_norm_2__.w1\")\n",
    "bigru0_directions_0_cell_bn_running_var   = load_parameter(\"../models/baidu_en8k/params/___batch_norm_2__.w2\")\n",
    "\n",
    "\n",
    "bigru0_directions_1_cell_weight_i         = load_parameter(\"../models/baidu_en8k/params/___fc_layer_1__.w0\")\n",
    "bigru0_directions_1_cell_weight_i         = bigru0_directions_1_cell_weight_i.reshape(41 * 32, 1024*3)\n",
    "bigru0_directions_1_cell_weight_h         = load_parameter(\"../models/baidu_en8k/params/___gru_1__.w0\")\n",
    "w_u_r = bigru0_directions_1_cell_weight_h.flatten()[:1024*1024*2].reshape(1024,1024*2)\n",
    "w_c = bigru0_directions_1_cell_weight_h.flatten()[1024*1024*2:].reshape(1024,1024)\n",
    "bigru0_directions_1_cell_weight_h = np.concatenate([w_u_r,w_c], 1)\n",
    "bigru0_directions_1_cell_bias             = load_parameter(\"../models/baidu_en8k/params/___gru_1__.wbias\")\n",
    "bigru0_directions_1_cell_bn_bias          = load_parameter(\"../models/baidu_en8k/params/___batch_norm_3__.wbias\")\n",
    "bigru0_directions_1_cell_bn_weight        = load_parameter(\"../models/baidu_en8k/params/___batch_norm_3__.w0\")\n",
    "bigru0_directions_1_cell_bn_running_mean  = load_parameter(\"../models/baidu_en8k/params/___batch_norm_3__.w1\")\n",
    "bigru0_directions_1_cell_bn_running_var   = load_parameter(\"../models/baidu_en8k/params/___batch_norm_3__.w2\")\n",
    "\n",
    "\n",
    "# gru1\n",
    "bigru1_directions_0_cell_weight_i         = load_parameter(\"../models/baidu_en8k/params/___fc_layer_2__.w0\")\n",
    "bigru1_directions_0_cell_weight_h         = load_parameter(\"../models/baidu_en8k/params/___gru_2__.w0\")\n",
    "bigru1_directions_0_cell_bias             = load_parameter(\"../models/baidu_en8k/params/___gru_2__.wbias\")\n",
    "bigru1_directions_0_cell_bn_bias          = load_parameter(\"../models/baidu_en8k/params/___batch_norm_4__.wbias\")\n",
    "bigru1_directions_0_cell_bn_weight        = load_parameter(\"../models/baidu_en8k/params/___batch_norm_4__.w0\")\n",
    "bigru1_directions_0_cell_bn_running_mean  = load_parameter(\"../models/baidu_en8k/params/___batch_norm_4__.w1\")\n",
    "bigru1_directions_0_cell_bn_running_var   = load_parameter(\"../models/baidu_en8k/params/___batch_norm_4__.w2\")\n",
    "bigru1_directions_0_cell_weight_i         = bigru1_directions_0_cell_weight_i.reshape(2048, 1024*3)\n",
    "w_u_r = bigru1_directions_0_cell_weight_h.flatten()[:1024*1024*2].reshape(1024,1024*2)\n",
    "w_c   = bigru1_directions_0_cell_weight_h.flatten()[1024*1024*2:].reshape(1024,1024)\n",
    "bigru1_directions_0_cell_weight_h = np.concatenate([w_u_r,w_c], 1)\n",
    "\n",
    "\n",
    "bigru1_directions_1_cell_weight_i         = load_parameter(\"../models/baidu_en8k/params/___fc_layer_3__.w0\")\n",
    "bigru1_directions_1_cell_weight_h         = load_parameter(\"../models/baidu_en8k/params/___gru_3__.w0\")\n",
    "bigru1_directions_1_cell_bias             = load_parameter(\"../models/baidu_en8k/params/___gru_3__.wbias\")\n",
    "bigru1_directions_1_cell_bn_bias          = load_parameter(\"../models/baidu_en8k/params/___batch_norm_5__.wbias\")\n",
    "bigru1_directions_1_cell_bn_weight        = load_parameter(\"../models/baidu_en8k/params/___batch_norm_5__.w0\")\n",
    "bigru1_directions_1_cell_bn_running_mean  = load_parameter(\"../models/baidu_en8k/params/___batch_norm_5__.w1\")\n",
    "bigru1_directions_1_cell_bn_running_var   = load_parameter(\"../models/baidu_en8k/params/___batch_norm_5__.w2\")\n",
    "bigru1_directions_1_cell_weight_i         = bigru1_directions_1_cell_weight_i.reshape(2048, 1024*3)\n",
    "w_u_r = bigru1_directions_1_cell_weight_h.flatten()[:1024*1024*2].reshape(1024,1024*2)\n",
    "w_c   = bigru1_directions_1_cell_weight_h.flatten()[1024*1024*2:].reshape(1024,1024)\n",
    "bigru1_directions_1_cell_weight_h = np.concatenate([w_u_r,w_c], 1)\n",
    "\n",
    "# gru2\n",
    "bigru2_directions_0_cell_weight_i         = load_parameter(\"../models/baidu_en8k/params/___fc_layer_4__.w0\")\n",
    "bigru2_directions_0_cell_weight_h         = load_parameter(\"../models/baidu_en8k/params/___gru_4__.w0\")\n",
    "bigru2_directions_0_cell_bias             = load_parameter(\"../models/baidu_en8k/params/___gru_4__.wbias\")\n",
    "bigru2_directions_0_cell_bn_bias          = load_parameter(\"../models/baidu_en8k/params/___batch_norm_6__.wbias\")\n",
    "bigru2_directions_0_cell_bn_weight        = load_parameter(\"../models/baidu_en8k/params/___batch_norm_6__.w0\")\n",
    "bigru2_directions_0_cell_bn_running_mean  = load_parameter(\"../models/baidu_en8k/params/___batch_norm_6__.w1\")\n",
    "bigru2_directions_0_cell_bn_running_var   = load_parameter(\"../models/baidu_en8k/params/___batch_norm_6__.w2\")\n",
    "bigru2_directions_0_cell_weight_i         = bigru2_directions_0_cell_weight_i.reshape(2048, 1024*3)\n",
    "w_u_r = bigru2_directions_0_cell_weight_h.flatten()[:1024*1024*2].reshape(1024,1024*2)\n",
    "w_c   = bigru2_directions_0_cell_weight_h.flatten()[1024*1024*2:].reshape(1024,1024)\n",
    "bigru2_directions_0_cell_weight_h = np.concatenate([w_u_r,w_c], 1)\n",
    "\n",
    "\n",
    "bigru2_directions_1_cell_weight_i         = load_parameter(\"../models/baidu_en8k/params/___fc_layer_5__.w0\")\n",
    "bigru2_directions_1_cell_weight_h         = load_parameter(\"../models/baidu_en8k/params/___gru_5__.w0\")\n",
    "bigru2_directions_1_cell_bias             = load_parameter(\"../models/baidu_en8k/params/___gru_5__.wbias\")\n",
    "bigru2_directions_1_cell_bn_bias          = load_parameter(\"../models/baidu_en8k/params/___batch_norm_7__.wbias\")\n",
    "bigru2_directions_1_cell_bn_weight        = load_parameter(\"../models/baidu_en8k/params/___batch_norm_7__.w0\")\n",
    "bigru2_directions_1_cell_bn_running_mean  = load_parameter(\"../models/baidu_en8k/params/___batch_norm_7__.w1\")\n",
    "bigru2_directions_1_cell_bn_running_var   = load_parameter(\"../models/baidu_en8k/params/___batch_norm_7__.w2\")\n",
    "bigru2_directions_1_cell_weight_i         = bigru2_directions_1_cell_weight_i.reshape(2048, 1024*3)\n",
    "w_u_r = bigru2_directions_1_cell_weight_h.flatten()[:1024*1024*2].reshape(1024,1024*2)\n",
    "w_c   = bigru2_directions_1_cell_weight_h.flatten()[1024*1024*2:].reshape(1024,1024)\n",
    "bigru2_directions_1_cell_weight_h = np.concatenate([w_u_r,w_c], 1)\n",
    "\n",
    "\n",
    "battleneck_weight                          = load_parameter(\"../models/baidu_en8k/params/___fc_layer_6__.w0\")\n",
    "battleneck_weight                          = battleneck_weight.reshape(2048, 29).transpose(1,0)\n",
    "battleneck_bias                            = load_parameter(\"../models/baidu_en8k/params/___fc_layer_6__.wbias\")"
   ]
  },
  {
   "cell_type": "code",
   "execution_count": 7,
   "metadata": {},
   "outputs": [
    {
     "data": {
      "text/plain": [
       "(1024, 3072)"
      ]
     },
     "execution_count": 7,
     "metadata": {},
     "output_type": "execute_result"
    }
   ],
   "source": [
    "bigru2_directions_1_cell_weight_h.shape"
   ]
  },
  {
   "cell_type": "code",
   "execution_count": 8,
   "metadata": {},
   "outputs": [],
   "source": [
    "pretrained_weights = {   \"conv_bn_mask0.conv.weight\"                 : conv0_weights,\n",
    "                         \"conv_bn_mask0.bn.weight\"                   : conv0_bn_gamma,\n",
    "                         \"conv_bn_mask0.bn.bias\"                     : conv0_bn_beta,\n",
    "                         \"conv_bn_mask0.bn.running_mean\"             : conv0_bn_mean,\n",
    "                         \"conv_bn_mask0.bn.running_var\"              : conv0_bn_var ,\n",
    "                         \"conv_bn_mask1.conv.weight\"                 : conv1_weights,\n",
    "                         \"conv_bn_mask1.bn.weight\"                   : conv1_bn_gamma,\n",
    "                         \"conv_bn_mask1.bn.bias\"                     : conv1_bn_beta,\n",
    "                         \"conv_bn_mask1.bn.running_mean\"             : conv1_bn_mean,\n",
    "                         \"conv_bn_mask1.bn.running_var\"              : conv1_bn_var ,\n",
    "                      \n",
    "                         \"bigru0.directions.0.cell.weight_i\"         : bigru0_directions_0_cell_weight_i,\n",
    "                         \"bigru0.directions.0.cell.weight_h\"         : bigru0_directions_0_cell_weight_h,\n",
    "                         \"bigru0.directions.0.cell.bias\"             : bigru0_directions_0_cell_bias,\n",
    "                         \"bigru0.directions.0.cell.bn.bias\"          : bigru0_directions_0_cell_bn_bias        ,\n",
    "                         \"bigru0.directions.0.cell.bn.weight\"        : bigru0_directions_0_cell_bn_weight      ,\n",
    "                         \"bigru0.directions.0.cell.bn.running_mean\"  : bigru0_directions_0_cell_bn_running_mean,\n",
    "                         \"bigru0.directions.0.cell.bn.running_var\"   : bigru0_directions_0_cell_bn_running_var ,\n",
    "                         \"bigru0.directions.1.cell.weight_i\"         : bigru0_directions_1_cell_weight_i,\n",
    "                         \"bigru0.directions.1.cell.weight_h\"         : bigru0_directions_1_cell_weight_h,\n",
    "                         \"bigru0.directions.1.cell.bias\"             : bigru0_directions_1_cell_bias,\n",
    "                         \"bigru0.directions.1.cell.bn.bias\"          : bigru0_directions_1_cell_bn_bias        ,\n",
    "                         \"bigru0.directions.1.cell.bn.weight\"        : bigru0_directions_1_cell_bn_weight      ,\n",
    "                         \"bigru0.directions.1.cell.bn.running_mean\"  : bigru0_directions_1_cell_bn_running_mean,\n",
    "                         \"bigru0.directions.1.cell.bn.running_var\"   : bigru0_directions_1_cell_bn_running_var ,\n",
    "                      \n",
    "                         \"bigru1.directions.0.cell.weight_i\"         : bigru1_directions_0_cell_weight_i,\n",
    "                         \"bigru1.directions.0.cell.weight_h\"         : bigru1_directions_0_cell_weight_h,\n",
    "                         \"bigru1.directions.0.cell.bias\"             : bigru1_directions_0_cell_bias,\n",
    "                         \"bigru1.directions.0.cell.bn.bias\"          : bigru1_directions_0_cell_bn_bias        ,\n",
    "                         \"bigru1.directions.0.cell.bn.weight\"        : bigru1_directions_0_cell_bn_weight      ,\n",
    "                         \"bigru1.directions.0.cell.bn.running_mean\"  : bigru1_directions_0_cell_bn_running_mean,\n",
    "                         \"bigru1.directions.0.cell.bn.running_var\"   : bigru1_directions_0_cell_bn_running_var ,\n",
    "                         \"bigru1.directions.1.cell.weight_i\"         : bigru1_directions_1_cell_weight_i,\n",
    "                         \"bigru1.directions.1.cell.weight_h\"         : bigru1_directions_1_cell_weight_h,\n",
    "                         \"bigru1.directions.1.cell.bias\"             : bigru1_directions_1_cell_bias,\n",
    "                         \"bigru1.directions.1.cell.bn.bias\"          : bigru1_directions_1_cell_bn_bias        ,\n",
    "                         \"bigru1.directions.1.cell.bn.weight\"        : bigru1_directions_1_cell_bn_weight      ,\n",
    "                         \"bigru1.directions.1.cell.bn.running_mean\"  : bigru1_directions_1_cell_bn_running_mean,\n",
    "                         \"bigru1.directions.1.cell.bn.running_var\"   : bigru1_directions_1_cell_bn_running_var ,\n",
    "                      \n",
    "                         \"bigru2.directions.0.cell.weight_i\"         : bigru2_directions_0_cell_weight_i,\n",
    "                         \"bigru2.directions.0.cell.weight_h\"         : bigru2_directions_0_cell_weight_h,\n",
    "                         \"bigru2.directions.0.cell.bias\"             : bigru2_directions_0_cell_bias,\n",
    "                         \"bigru2.directions.0.cell.bn.bias\"          : bigru2_directions_0_cell_bn_bias        ,\n",
    "                         \"bigru2.directions.0.cell.bn.weight\"        : bigru2_directions_0_cell_bn_weight      ,\n",
    "                         \"bigru2.directions.0.cell.bn.running_mean\"  : bigru2_directions_0_cell_bn_running_mean,\n",
    "                         \"bigru2.directions.0.cell.bn.running_var\"   : bigru2_directions_0_cell_bn_running_var ,\n",
    "                         \"bigru2.directions.1.cell.weight_i\"         : bigru2_directions_1_cell_weight_i,\n",
    "                         \"bigru2.directions.1.cell.weight_h\"         : bigru2_directions_1_cell_weight_h,\n",
    "                         \"bigru2.directions.1.cell.bias\"             : bigru2_directions_1_cell_bias,\n",
    "                         \"bigru2.directions.1.cell.bn.bias\"          : bigru2_directions_1_cell_bn_bias        ,\n",
    "                         \"bigru2.directions.1.cell.bn.weight\"        : bigru2_directions_1_cell_bn_weight      ,\n",
    "                         \"bigru2.directions.1.cell.bn.running_mean\"  : bigru2_directions_1_cell_bn_running_mean,\n",
    "                         \"bigru2.directions.1.cell.bn.running_var\"   : bigru2_directions_1_cell_bn_running_var ,\n",
    "                      \n",
    "                         \"bottleneck.weight\"                         : battleneck_weight, \n",
    "                         \"bottleneck.bias\"                           : battleneck_bias,\n",
    "                     }"
   ]
  },
  {
   "cell_type": "code",
   "execution_count": 9,
   "metadata": {},
   "outputs": [
    {
     "data": {
      "text/plain": [
       "<All keys matched successfully>"
      ]
     },
     "execution_count": 9,
     "metadata": {},
     "output_type": "execute_result"
    }
   ],
   "source": [
    "check_dict = cbmX2_bigru_test.state_dict()\n",
    "for key in check_dict:\n",
    "    if 'num_batches_tracked' in key:\n",
    "        continue\n",
    "        \n",
    "    assert key in pretrained_weights\n",
    "    check_dict[key] = torch.from_numpy(pretrained_weights[key])\n",
    "cbmX2_bigru_test.load_state_dict(check_dict)"
   ]
  },
  {
   "cell_type": "code",
   "execution_count": 10,
   "metadata": {},
   "outputs": [],
   "source": [
    "np_input = np.load(\"paddle/cbmX2_bigru_f_input.npy\", allow_pickle=True, encoding=\"bytes\")\n",
    "np_output = np.load(\"paddle/cbmX2_bigru_f_output.npy\", allow_pickle=True, encoding=\"bytes\")\n",
    "temp_data = []\n",
    "temp_length = []\n",
    "for i in np_input:\n",
    "    temp_data.append(i[0])\n",
    "    temp_length.append(i[3])\n",
    "np_input = np.array(temp_data)\n",
    "np_length = np.array(temp_length).astype(int)\n",
    "\n",
    "torch_input = torch.from_numpy(np_input)\n",
    "# torch_input = torch_input.type(torch.FloatTensor)\n",
    "np.testing.assert_array_almost_equal(torch_input, np_input, decimal=10)\n",
    "\n",
    "torch_input = torch.unsqueeze(torch_input, 1)\n",
    "torch_input = torch_input.transpose(3,2)\n",
    "\n",
    "torch_output = cbmX2_bigru_test(torch_input, torch.from_numpy(np_length))\n",
    "\n",
    "decimal = 5"
   ]
  },
  {
   "cell_type": "code",
   "execution_count": 11,
   "metadata": {},
   "outputs": [
    {
     "data": {
      "text/plain": [
       "5.3488236e-08"
      ]
     },
     "execution_count": 11,
     "metadata": {},
     "output_type": "execute_result"
    }
   ],
   "source": [
    "n = 0\n",
    "test = nn.utils.rnn.pad_packed_sequence(torch_output, batch_first=True)[0].data.numpy()[n]\n",
    "compute_difference(np_output[n], test[:85])"
   ]
  },
  {
   "cell_type": "code",
   "execution_count": 12,
   "metadata": {},
   "outputs": [
    {
     "data": {
      "text/plain": [
       "4.7660272e-08"
      ]
     },
     "execution_count": 12,
     "metadata": {},
     "output_type": "execute_result"
    }
   ],
   "source": [
    "n = 1\n",
    "test = nn.utils.rnn.pad_packed_sequence(torch_output, batch_first=True)[0].data.numpy()[n]\n",
    "compute_difference(np_output[n], test[:50])"
   ]
  },
  {
   "cell_type": "code",
   "execution_count": 13,
   "metadata": {},
   "outputs": [
    {
     "data": {
      "text/plain": [
       "9.970304e-08"
      ]
     },
     "execution_count": 13,
     "metadata": {},
     "output_type": "execute_result"
    }
   ],
   "source": [
    "n = 2\n",
    "test = nn.utils.rnn.pad_packed_sequence(torch_output, batch_first=True)[0].data.numpy()[n]\n",
    "compute_difference(np_output[n], test[:34])"
   ]
  },
  {
   "cell_type": "code",
   "execution_count": 14,
   "metadata": {},
   "outputs": [
    {
     "data": {
      "text/plain": [
       "(85, 29)"
      ]
     },
     "execution_count": 14,
     "metadata": {},
     "output_type": "execute_result"
    }
   ],
   "source": [
    "np_output[0].shape"
   ]
  },
  {
   "cell_type": "code",
   "execution_count": 15,
   "metadata": {},
   "outputs": [
    {
     "data": {
      "text/plain": [
       "cbmX2_bigru_layer(\n",
       "  (conv_bn_mask0): Conv_bn_mask(\n",
       "    (conv): Conv2d(1, 32, kernel_size=(11, 41), stride=(3, 2), padding=(5, 20), bias=False)\n",
       "    (bn): BatchNorm2d(32, eps=1e-05, momentum=0.1, affine=True, track_running_stats=True)\n",
       "    (activation): BReLU()\n",
       "    (mask): Mask()\n",
       "  )\n",
       "  (conv_bn_mask1): Conv_bn_mask(\n",
       "    (conv): Conv2d(32, 32, kernel_size=(11, 21), stride=(1, 2), padding=(5, 10), bias=False)\n",
       "    (bn): BatchNorm2d(32, eps=1e-05, momentum=0.1, affine=True, track_running_stats=True)\n",
       "    (activation): BReLU()\n",
       "    (mask): Mask()\n",
       "  )\n",
       "  (bigru0): BidirRNNLayer(\n",
       "    original_name=BidirRNNLayer\n",
       "    (directions): _ConstModuleList(\n",
       "      original_name=_ConstModuleList\n",
       "      (0): RNNLayer(\n",
       "        original_name=RNNLayer\n",
       "        (cell): GRUCell(\n",
       "          original_name=GRUCell\n",
       "          (bn): BatchNorm1d(3072, eps=1e-05, momentum=0.1, affine=True, track_running_stats=True)\n",
       "        )\n",
       "      )\n",
       "      (1): ReverseRNNLayer(\n",
       "        original_name=ReverseRNNLayer\n",
       "        (cell): GRUCell(\n",
       "          original_name=GRUCell\n",
       "          (bn): BatchNorm1d(3072, eps=1e-05, momentum=0.1, affine=True, track_running_stats=True)\n",
       "        )\n",
       "      )\n",
       "    )\n",
       "  )\n",
       "  (bigru1): BidirRNNLayer(\n",
       "    original_name=BidirRNNLayer\n",
       "    (directions): _ConstModuleList(\n",
       "      original_name=_ConstModuleList\n",
       "      (0): RNNLayer(\n",
       "        original_name=RNNLayer\n",
       "        (cell): GRUCell(\n",
       "          original_name=GRUCell\n",
       "          (bn): BatchNorm1d(3072, eps=1e-05, momentum=0.1, affine=True, track_running_stats=True)\n",
       "        )\n",
       "      )\n",
       "      (1): ReverseRNNLayer(\n",
       "        original_name=ReverseRNNLayer\n",
       "        (cell): GRUCell(\n",
       "          original_name=GRUCell\n",
       "          (bn): BatchNorm1d(3072, eps=1e-05, momentum=0.1, affine=True, track_running_stats=True)\n",
       "        )\n",
       "      )\n",
       "    )\n",
       "  )\n",
       "  (bigru2): BidirRNNLayer(\n",
       "    original_name=BidirRNNLayer\n",
       "    (directions): _ConstModuleList(\n",
       "      original_name=_ConstModuleList\n",
       "      (0): RNNLayer(\n",
       "        original_name=RNNLayer\n",
       "        (cell): GRUCell(\n",
       "          original_name=GRUCell\n",
       "          (bn): BatchNorm1d(3072, eps=1e-05, momentum=0.1, affine=True, track_running_stats=True)\n",
       "        )\n",
       "      )\n",
       "      (1): ReverseRNNLayer(\n",
       "        original_name=ReverseRNNLayer\n",
       "        (cell): GRUCell(\n",
       "          original_name=GRUCell\n",
       "          (bn): BatchNorm1d(3072, eps=1e-05, momentum=0.1, affine=True, track_running_stats=True)\n",
       "        )\n",
       "      )\n",
       "    )\n",
       "  )\n",
       "  (bottleneck): Linear(in_features=2048, out_features=29, bias=True)\n",
       "  (softmax): Softmax(dim=1)\n",
       ")"
      ]
     },
     "execution_count": 15,
     "metadata": {},
     "output_type": "execute_result"
    }
   ],
   "source": [
    "cbmX2_bigru_test"
   ]
  },
  {
   "cell_type": "code",
   "execution_count": 16,
   "metadata": {},
   "outputs": [
    {
     "data": {
      "text/plain": [
       "torch.Size([3, 1, 255, 161])"
      ]
     },
     "execution_count": 16,
     "metadata": {},
     "output_type": "execute_result"
    }
   ],
   "source": [
    "torch_input.shape"
   ]
  }
 ],
 "metadata": {
  "kernelspec": {
   "display_name": "Python 3",
   "language": "python",
   "name": "python3"
  },
  "language_info": {
   "codemirror_mode": {
    "name": "ipython",
    "version": 3
   },
   "file_extension": ".py",
   "mimetype": "text/x-python",
   "name": "python",
   "nbconvert_exporter": "python",
   "pygments_lexer": "ipython3",
   "version": "3.6.9"
  }
 },
 "nbformat": 4,
 "nbformat_minor": 4
}
