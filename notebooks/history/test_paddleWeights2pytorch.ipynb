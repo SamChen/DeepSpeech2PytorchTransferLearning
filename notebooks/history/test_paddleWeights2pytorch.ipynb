{
 "cells": [
  {
   "cell_type": "code",
   "execution_count": 1,
   "metadata": {},
   "outputs": [],
   "source": [
    "import torch\n",
    "import torch.nn as nn\n",
    "import numpy as np\n",
    "from matplotlib import pyplot as plt"
   ]
  },
  {
   "cell_type": "code",
   "execution_count": 2,
   "metadata": {},
   "outputs": [],
   "source": [
    "import sys\n",
    "sys.path.append(\"../model_utils/\")\n",
    "from custom_layers import Conv_bn_mask"
   ]
  },
  {
   "cell_type": "code",
   "execution_count": 3,
   "metadata": {},
   "outputs": [],
   "source": [
    "from custom_gru import BidirRNNLayer, GRUCell, RNNLayer"
   ]
  },
  {
   "cell_type": "markdown",
   "metadata": {},
   "source": [
    "## extract paddlepaddle weights"
   ]
  },
  {
   "cell_type": "code",
   "execution_count": 4,
   "metadata": {},
   "outputs": [],
   "source": [
    "def load_parameter(file_name):\n",
    "    with open(file_name, 'rb') as f:\n",
    "        f.read(16)  # skip header.\n",
    "        return np.fromfile(f, dtype=np.float32)\n",
    "    \n",
    "def compute_difference(paddle_outputs, torch_outputs):\n",
    "    return np.sqrt(np.mean((paddle_outputs - torch_outputs)**2.0))"
   ]
  },
  {
   "cell_type": "code",
   "execution_count": 5,
   "metadata": {},
   "outputs": [],
   "source": [
    "class cbmX2_bigru_layer(nn.Module):\n",
    "    def __init__(self):\n",
    "        super(cbmX2_bigru_layer, self).__init__()\n",
    "        self.conv_bn_mask0 = Conv_bn_mask(ichannel=1,\n",
    "                                          ochannel=32,\n",
    "                                          kernel_size=(11, 41),\n",
    "                                          stride=(3, 2),\n",
    "                                          padding=(5, 20),\n",
    "                                          bias=False,\n",
    "                                          track_running_stats=True)\n",
    "\n",
    "        self.conv_bn_mask1 = Conv_bn_mask(ichannel=32,\n",
    "                                          ochannel=32,\n",
    "                                          kernel_size=(11, 21),\n",
    "                                          stride=(1, 2),\n",
    "                                          padding=(5, 10),\n",
    "                                          bias=False,\n",
    "                                          track_running_stats=True)\n",
    "\n",
    "        self.bigru0 = BidirRNNLayer(GRUCell, input_size=41 * 32, hidden_size=1024, gate_act=\"relu\", state_act=\"tanh\")\n",
    "        # self.bigru1 = BidirRNNLayer(GRUCell, input_size=2048, hidden_size=1024, gate_act=\"relu\", state_act=\"tanh\")\n",
    "        # self.bigru2 = BidirRNNLayer(GRUCell, input_size=2048, hidden_size=1024, gate_act=\"relu\", state_act=\"tanh\")\n",
    "\n",
    "        # 28 of char + 1 blank\n",
    "        # vocab list:  [\"'\", ' ', 'a', 'b', 'c', 'd', 'e', 'f', 'g', 'h', 'i', 'j', 'k', 'l', 'm', 'n', 'o', 'p', 'q', 'r', 's', 't', 'u', 'v', 'w', 'x', 'y', 'z']\n",
    "        # self.bottleneck = nn.Linear(2048, 28 + 1)\n",
    "        # self.softmax = nn.Softmax(dim=0)\n",
    "\n",
    "\n",
    "    def forward(self, input, length):\n",
    "        x = input\n",
    "        seq_length = length \n",
    "        batch_size = x.shape[0]\n",
    "        x = self.conv_bn_mask0(x, seq_length)\n",
    "        x = self.conv_bn_mask1(x, seq_length)\n",
    "\n",
    "        flattened_x = x.view(batch_size, -1, 41 * 32)\n",
    "        flattened_x = nn.utils.rnn.pack_padded_sequence(flattened_x, seq_length.flatten(), batch_first=True)\n",
    "        flattened_x, _ = self.bigru0(flattened_x, (torch.zeros((2, batch_size,1024)), ) )\n",
    "\n",
    "        bottleneck_data, batch_sizes, _, _ = flattened_x\n",
    "        # bottleneck_result = self.bottleneck(bottleneck_data)\n",
    "        # output = self.softmax(bottleneck_result)\n",
    "        output = nn.utils.rnn.PackedSequence(bottleneck_data, batch_sizes)\n",
    "        # this is a special request for use CTC loss in pytorch\n",
    "        output = nn.utils.rnn.pad_packed_sequence(output, batch_first=True)\n",
    "        # include both padded data and valid length for each sample\n",
    "        # data: [batch_size, length of sample, feature size]\n",
    "        # valid length: [valid length for each sample]\n",
    "        return output\n"
   ]
  },
  {
   "cell_type": "code",
   "execution_count": 6,
   "metadata": {},
   "outputs": [
    {
     "data": {
      "text/plain": [
       "cbmX2_bigru_layer(\n",
       "  (conv_bn_mask0): Conv_bn_mask(\n",
       "    (conv): Conv2d(1, 32, kernel_size=(11, 41), stride=(3, 2), padding=(5, 20), bias=False)\n",
       "    (bn): BatchNorm2d(32, eps=1e-05, momentum=0.1, affine=True, track_running_stats=True)\n",
       "    (activation): BReLU()\n",
       "    (mask): Mask()\n",
       "  )\n",
       "  (conv_bn_mask1): Conv_bn_mask(\n",
       "    (conv): Conv2d(32, 32, kernel_size=(11, 21), stride=(1, 2), padding=(5, 10), bias=False)\n",
       "    (bn): BatchNorm2d(32, eps=1e-05, momentum=0.1, affine=True, track_running_stats=True)\n",
       "    (activation): BReLU()\n",
       "    (mask): Mask()\n",
       "  )\n",
       "  (bigru0): BidirRNNLayer(\n",
       "    original_name=BidirRNNLayer\n",
       "    (directions): _ConstModuleList(\n",
       "      original_name=_ConstModuleList\n",
       "      (0): RNNLayer(\n",
       "        original_name=RNNLayer\n",
       "        (cell): GRUCell(\n",
       "          original_name=GRUCell\n",
       "          (bn): BatchNorm1d(3072, eps=1e-05, momentum=0.1, affine=True, track_running_stats=True)\n",
       "        )\n",
       "      )\n",
       "      (1): ReverseRNNLayer(\n",
       "        original_name=ReverseRNNLayer\n",
       "        (cell): GRUCell(\n",
       "          original_name=GRUCell\n",
       "          (bn): BatchNorm1d(3072, eps=1e-05, momentum=0.1, affine=True, track_running_stats=True)\n",
       "        )\n",
       "      )\n",
       "    )\n",
       "  )\n",
       ")"
      ]
     },
     "execution_count": 6,
     "metadata": {},
     "output_type": "execute_result"
    }
   ],
   "source": [
    "cbmX2_bigru_test = cbmX2_bigru_layer()\n",
    "cbmX2_bigru_test.eval()\n",
    "\n",
    "# TODO, double check the normalization part"
   ]
  },
  {
   "cell_type": "code",
   "execution_count": 7,
   "metadata": {},
   "outputs": [
    {
     "data": {
      "text/plain": [
       "odict_keys(['conv_bn_mask0.conv.weight', 'conv_bn_mask0.bn.weight', 'conv_bn_mask0.bn.bias', 'conv_bn_mask0.bn.running_mean', 'conv_bn_mask0.bn.running_var', 'conv_bn_mask0.bn.num_batches_tracked', 'conv_bn_mask1.conv.weight', 'conv_bn_mask1.bn.weight', 'conv_bn_mask1.bn.bias', 'conv_bn_mask1.bn.running_mean', 'conv_bn_mask1.bn.running_var', 'conv_bn_mask1.bn.num_batches_tracked', 'bigru0.directions.0.cell.weight_i', 'bigru0.directions.0.cell.weight_h', 'bigru0.directions.0.cell.bias', 'bigru0.directions.0.cell.bn.weight', 'bigru0.directions.0.cell.bn.bias', 'bigru0.directions.0.cell.bn.running_mean', 'bigru0.directions.0.cell.bn.running_var', 'bigru0.directions.0.cell.bn.num_batches_tracked', 'bigru0.directions.1.cell.weight_i', 'bigru0.directions.1.cell.weight_h', 'bigru0.directions.1.cell.bias', 'bigru0.directions.1.cell.bn.weight', 'bigru0.directions.1.cell.bn.bias', 'bigru0.directions.1.cell.bn.running_mean', 'bigru0.directions.1.cell.bn.running_var', 'bigru0.directions.1.cell.bn.num_batches_tracked'])"
      ]
     },
     "execution_count": 7,
     "metadata": {},
     "output_type": "execute_result"
    }
   ],
   "source": [
    "cbmX2_bigru_test.state_dict().keys()\n",
    "# TODO: load parameters"
   ]
  },
  {
   "cell_type": "code",
   "execution_count": 8,
   "metadata": {},
   "outputs": [],
   "source": [
    "conv0_weights   = load_parameter(\"../models/baidu_en8k/params/___conv_0__.w0\")\n",
    "conv0_weights   = conv0_weights.reshape(32, 1, 41, 11)\n",
    "conv0_weights   = load_parameter(\"../models/baidu_en8k/params/___conv_0__.w0\")\n",
    "conv0_weights   = conv0_weights.reshape(32, 1, 41, 11)\n",
    "conv0_weights   = np.transpose(conv0_weights, (0, 1, 3, 2))\n",
    "conv0_bn_mean  = load_parameter(\"../models/baidu_en8k/params/___batch_norm_0__.w1\")\n",
    "conv0_bn_var   = load_parameter(\"../models/baidu_en8k/params/___batch_norm_0__.w2\")\n",
    "conv0_bn_gamma = load_parameter(\"../models/baidu_en8k/params/___batch_norm_0__.w0\")\n",
    "conv0_bn_beta  = load_parameter(\"../models/baidu_en8k/params/___batch_norm_0__.wbias\")\n",
    "\n",
    "\n",
    "conv1_weights = load_parameter(\"../models/baidu_en8k/params/___conv_1__.w0\")\n",
    "conv1_weights = conv1_weights.reshape(32, 32, 21, 11)\n",
    "conv1_weights = np.transpose(conv1_weights, (0, 1, 3, 2))\n",
    "conv1_bn_mean  = load_parameter(\"../models/baidu_en8k/params/___batch_norm_1__.w1\")\n",
    "conv1_bn_var   = load_parameter(\"../models/baidu_en8k/params/___batch_norm_1__.w2\")\n",
    "conv1_bn_gamma = load_parameter(\"../models/baidu_en8k/params/___batch_norm_1__.w0\")\n",
    "conv1_bn_beta  = load_parameter(\"../models/baidu_en8k/params/___batch_norm_1__.wbias\")\n",
    "\n",
    "# gru0\n",
    "bigru0_directions_0_cell_weight_i         = load_parameter(\"../models/baidu_en8k/params/___fc_layer_0__.w0\")\n",
    "bigru0_directions_0_cell_weight_i         = bigru0_directions_0_cell_weight_i.reshape(41 * 32, 1024*3)\n",
    "bigru0_directions_0_cell_weight_h         = load_parameter(\"../models/baidu_en8k/params/___gru_0__.w0\")\n",
    "w_u_r = bigru0_directions_0_cell_weight_h.flatten()[:1024*1024*2].reshape(1024,1024*2)\n",
    "w_c   = bigru0_directions_0_cell_weight_h.flatten()[1024*1024*2:].reshape(1024,1024)\n",
    "bigru0_directions_0_cell_weight_h = np.concatenate([w_u_r,w_c], 1)\n",
    "bigru0_directions_0_cell_bias             = load_parameter(\"../models/baidu_en8k/params/___gru_0__.wbias\")\n",
    "bigru0_directions_0_cell_bn_bias          = load_parameter(\"../models/baidu_en8k/params/___batch_norm_2__.wbias\")\n",
    "bigru0_directions_0_cell_bn_weight        = load_parameter(\"../models/baidu_en8k/params/___batch_norm_2__.w0\")\n",
    "bigru0_directions_0_cell_bn_running_mean  = load_parameter(\"../models/baidu_en8k/params/___batch_norm_2__.w1\")\n",
    "bigru0_directions_0_cell_bn_running_var   = load_parameter(\"../models/baidu_en8k/params/___batch_norm_2__.w2\")\n",
    "\n",
    "\n",
    "bigru0_directions_1_cell_weight_i         = load_parameter(\"../models/baidu_en8k/params/___fc_layer_1__.w0\")\n",
    "bigru0_directions_1_cell_weight_i         = bigru0_directions_1_cell_weight_i.reshape(41 * 32, 1024*3)\n",
    "bigru0_directions_1_cell_weight_h         = load_parameter(\"../models/baidu_en8k/params/___gru_1__.w0\")\n",
    "w_u_r = bigru0_directions_1_cell_weight_h.flatten()[:1024*1024*2].reshape(1024,1024*2)\n",
    "w_c = bigru0_directions_1_cell_weight_h.flatten()[1024*1024*2:].reshape(1024,1024)\n",
    "bigru0_directions_1_cell_weight_h = np.concatenate([w_u_r,w_c], 1)\n",
    "bigru0_directions_1_cell_bias             = load_parameter(\"../models/baidu_en8k/params/___gru_1__.wbias\")\n",
    "bigru0_directions_1_cell_bn_bias          = load_parameter(\"../models/baidu_en8k/params/___batch_norm_3__.wbias\")\n",
    "bigru0_directions_1_cell_bn_weight        = load_parameter(\"../models/baidu_en8k/params/___batch_norm_3__.w0\")\n",
    "bigru0_directions_1_cell_bn_running_mean  = load_parameter(\"../models/baidu_en8k/params/___batch_norm_3__.w1\")\n",
    "bigru0_directions_1_cell_bn_running_var   = load_parameter(\"../models/baidu_en8k/params/___batch_norm_3__.w2\")\n"
   ]
  },
  {
   "cell_type": "code",
   "execution_count": 9,
   "metadata": {},
   "outputs": [],
   "source": [
    "pretrained_weights = {   \"conv_bn_mask0.conv.weight\"                 : conv0_weights,\n",
    "                         \"conv_bn_mask0.bn.weight\"                   : conv0_bn_gamma,\n",
    "                         \"conv_bn_mask0.bn.bias\"                     : conv0_bn_beta,\n",
    "                         \"conv_bn_mask0.bn.running_mean\"             : conv0_bn_mean,\n",
    "                         \"conv_bn_mask0.bn.running_var\"              : conv0_bn_var ,\n",
    "                         \"conv_bn_mask1.conv.weight\"                 : conv1_weights,\n",
    "                         \"conv_bn_mask1.bn.weight\"                   : conv1_bn_gamma,\n",
    "                         \"conv_bn_mask1.bn.bias\"                     : conv1_bn_beta,\n",
    "                         \"conv_bn_mask1.bn.running_mean\"             : conv1_bn_mean,\n",
    "                         \"conv_bn_mask1.bn.running_var\"              : conv1_bn_var ,\n",
    "                         \"bigru0.directions.0.cell.weight_i\"         : bigru0_directions_0_cell_weight_i,\n",
    "                         \"bigru0.directions.0.cell.weight_h\"         : bigru0_directions_0_cell_weight_h,\n",
    "                         \"bigru0.directions.0.cell.bias\"             : bigru0_directions_0_cell_bias,\n",
    "                         \"bigru0.directions.0.cell.bn.bias\"          : bigru0_directions_0_cell_bn_bias        ,\n",
    "                         \"bigru0.directions.0.cell.bn.weight\"        : bigru0_directions_0_cell_bn_weight      ,\n",
    "                         \"bigru0.directions.0.cell.bn.running_mean\"  : bigru0_directions_0_cell_bn_running_mean,\n",
    "                         \"bigru0.directions.0.cell.bn.running_var\"   : bigru0_directions_0_cell_bn_running_var ,\n",
    "                         \"bigru0.directions.1.cell.weight_i\"         : bigru0_directions_1_cell_weight_i,\n",
    "                         \"bigru0.directions.1.cell.weight_h\"         : bigru0_directions_1_cell_weight_h,\n",
    "                         \"bigru0.directions.1.cell.bias\"             : bigru0_directions_1_cell_bias,\n",
    "                         \"bigru0.directions.1.cell.bn.bias\"          : bigru0_directions_1_cell_bn_bias        ,\n",
    "                         \"bigru0.directions.1.cell.bn.weight\"        : bigru0_directions_1_cell_bn_weight      ,\n",
    "                         \"bigru0.directions.1.cell.bn.running_mean\"  : bigru0_directions_1_cell_bn_running_mean,\n",
    "                         \"bigru0.directions.1.cell.bn.running_var\"   : bigru0_directions_1_cell_bn_running_var \n",
    "                     }"
   ]
  },
  {
   "cell_type": "code",
   "execution_count": 10,
   "metadata": {},
   "outputs": [
    {
     "data": {
      "text/plain": [
       "<All keys matched successfully>"
      ]
     },
     "execution_count": 10,
     "metadata": {},
     "output_type": "execute_result"
    }
   ],
   "source": [
    "check_dict = cbmX2_bigru_test.state_dict()\n",
    "for key in check_dict:\n",
    "    if 'num_batches_tracked' in key:\n",
    "        continue\n",
    "    check_dict[key] = torch.from_numpy(pretrained_weights[key])\n",
    "cbmX2_bigru_test.load_state_dict(check_dict)"
   ]
  },
  {
   "cell_type": "code",
   "execution_count": 26,
   "metadata": {},
   "outputs": [
    {
     "data": {
      "text/plain": [
       "(85, 2048)"
      ]
     },
     "execution_count": 26,
     "metadata": {},
     "output_type": "execute_result"
    }
   ],
   "source": [
    "np_output[0].shape"
   ]
  },
  {
   "cell_type": "code",
   "execution_count": 28,
   "metadata": {},
   "outputs": [
    {
     "name": "stdout",
     "output_type": "stream",
     "text": [
      "[tensor([[0., 0., 0.,  ..., 0., 0., 0.],\n",
      "        [0., 0., 0.,  ..., 0., 0., 0.],\n",
      "        [0., 0., 0.,  ..., 0., 0., 0.]])]\n",
      "<class 'torch.Tensor'>\n",
      "tensor([[0., 0., 0.,  ..., 0., 0., 0.]])\n",
      "after gru\n",
      "[tensor([[ 0.0000,  0.0792, -0.1876,  ...,  0.1931,  0.0000,  0.0000]],\n",
      "       grad_fn=<AddBackward0>)]\n",
      "after gru\n",
      "[tensor([[ 0.0000,  0.0792, -1.6596,  ...,  0.5133,  0.0000,  0.0000]],\n",
      "       grad_fn=<AddBackward0>)]\n",
      "after gru\n",
      "[tensor([[ 0.0000,  3.2959, -1.6596,  ...,  0.5133,  0.0000,  0.0000]],\n",
      "       grad_fn=<AddBackward0>)]\n",
      "after gru\n",
      "[tensor([[  0.5379,   3.2959,  -1.6596,  ..., -10.8259,   0.0000, -18.6539]],\n",
      "       grad_fn=<AddBackward0>)]\n",
      "after gru\n",
      "[tensor([[   0.5379, -200.2467,   43.5144,  ...,  328.5081,    0.0000,\n",
      "           76.0479]], grad_fn=<AddBackward0>)]\n",
      "after gru\n",
      "[tensor([[ 380.8412, -200.2467,   43.5144,  ...,  328.5081, -227.6659,\n",
      "           76.0479]], grad_fn=<AddBackward0>)]\n",
      "after gru\n",
      "[tensor([[ 3.8084e+02,  2.7146e+07, -1.1783e+07,  ..., -5.7654e+07,\n",
      "         -2.2767e+02, -2.3164e+07]], grad_fn=<AddBackward0>)]\n",
      "after gru\n",
      "[tensor([[-6.2423e+12,  2.7146e+07, -1.1783e+07,  ..., -5.7654e+07,\n",
      "          3.3288e+12, -2.3164e+07]], grad_fn=<AddBackward0>)]\n",
      "after gru\n",
      "[tensor([[ 2.1931e+31, -5.5123e+26,  6.1543e+25,  ...,  1.5326e+27,\n",
      "         -3.1067e+31, -2.3164e+07]], grad_fn=<AddBackward0>)]\n",
      "after gru\n",
      "[tensor([[nan, nan, nan,  ..., nan, nan, nan]], grad_fn=<AddBackward0>)]\n",
      "after gru\n",
      "[tensor([[nan, nan, nan,  ..., nan, nan, nan]], grad_fn=<AddBackward0>)]\n",
      "after gru\n",
      "[tensor([[nan, nan, nan,  ..., nan, nan, nan]], grad_fn=<AddBackward0>)]\n",
      "after gru\n",
      "[tensor([[nan, nan, nan,  ..., nan, nan, nan]], grad_fn=<AddBackward0>)]\n",
      "after gru\n",
      "[tensor([[nan, nan, nan,  ..., nan, nan, nan]], grad_fn=<AddBackward0>)]\n",
      "after gru\n",
      "[tensor([[nan, nan, nan,  ..., nan, nan, nan]], grad_fn=<AddBackward0>)]\n",
      "after gru\n",
      "[tensor([[nan, nan, nan,  ..., nan, nan, nan]], grad_fn=<AddBackward0>)]\n",
      "after gru\n",
      "[tensor([[nan, nan, nan,  ..., nan, nan, nan]], grad_fn=<AddBackward0>)]\n",
      "after gru\n",
      "[tensor([[nan, nan, nan,  ..., nan, nan, nan]], grad_fn=<AddBackward0>)]\n",
      "after gru\n",
      "[tensor([[nan, nan, nan,  ..., nan, nan, nan]], grad_fn=<AddBackward0>)]\n",
      "after gru\n",
      "[tensor([[nan, nan, nan,  ..., nan, nan, nan]], grad_fn=<AddBackward0>)]\n",
      "after gru\n",
      "[tensor([[nan, nan, nan,  ..., nan, nan, nan]], grad_fn=<AddBackward0>)]\n",
      "after gru\n",
      "[tensor([[nan, nan, nan,  ..., nan, nan, nan]], grad_fn=<AddBackward0>)]\n",
      "after gru\n",
      "[tensor([[nan, nan, nan,  ..., nan, nan, nan]], grad_fn=<AddBackward0>)]\n",
      "after gru\n",
      "[tensor([[nan, nan, nan,  ..., nan, nan, nan]], grad_fn=<AddBackward0>)]\n",
      "after gru\n",
      "[tensor([[nan, nan, nan,  ..., nan, nan, nan]], grad_fn=<AddBackward0>)]\n",
      "after gru\n",
      "[tensor([[nan, nan, nan,  ..., nan, nan, nan]], grad_fn=<AddBackward0>)]\n",
      "after gru\n",
      "[tensor([[nan, nan, nan,  ..., nan, nan, nan]], grad_fn=<AddBackward0>)]\n",
      "after gru\n",
      "[tensor([[nan, nan, nan,  ..., nan, nan, nan]], grad_fn=<AddBackward0>)]\n",
      "after gru\n",
      "[tensor([[nan, nan, nan,  ..., nan, nan, nan]], grad_fn=<AddBackward0>)]\n",
      "after gru\n",
      "[tensor([[nan, nan, nan,  ..., nan, nan, nan]], grad_fn=<AddBackward0>)]\n",
      "after gru\n",
      "[tensor([[nan, nan, nan,  ..., nan, nan, nan]], grad_fn=<AddBackward0>)]\n",
      "after gru\n",
      "[tensor([[nan, nan, nan,  ..., nan, nan, nan]], grad_fn=<AddBackward0>)]\n",
      "after gru\n",
      "[tensor([[nan, nan, nan,  ..., nan, nan, nan]], grad_fn=<AddBackward0>)]\n",
      "after gru\n",
      "[tensor([[nan, nan, nan,  ..., nan, nan, nan]], grad_fn=<AddBackward0>)]\n",
      "after gru\n",
      "[tensor([[nan, nan, nan,  ..., nan, nan, nan]], grad_fn=<AddBackward0>)]\n",
      "concatnate\n",
      "tensor([[nan, nan, nan,  ..., nan, nan, nan]], grad_fn=<AddBackward0>)\n",
      "tensor([[0., 0., 0.,  ..., 0., 0., 0.]])\n",
      "<class 'list'>\n",
      "[tensor([[nan, nan, nan,  ..., nan, nan, nan],\n",
      "        [0., 0., 0.,  ..., 0., 0., 0.]], grad_fn=<CatBackward>)]\n",
      "after gru\n",
      "[tensor([[   nan,    nan,    nan,  ...,    nan,    nan,    nan],\n",
      "        [0.0000, 0.0000, 0.1907,  ..., 0.3191, 0.0000, 0.0000]],\n",
      "       grad_fn=<AddBackward0>)]\n",
      "after gru\n",
      "[tensor([[    nan,     nan,     nan,  ...,     nan,     nan,     nan],\n",
      "        [ 0.0000,  0.0000, -1.2407,  ...,  0.5786,  0.0000,  0.0000]],\n",
      "       grad_fn=<AddBackward0>)]\n",
      "after gru\n",
      "[tensor([[    nan,     nan,     nan,  ...,     nan,     nan,     nan],\n",
      "        [ 0.0000,  0.6058, -0.6441,  ...,  0.5786,  0.0000,  0.0000]],\n",
      "       grad_fn=<AddBackward0>)]\n",
      "after gru\n",
      "[tensor([[    nan,     nan,     nan,  ...,     nan,     nan,     nan],\n",
      "        [-2.6423,  3.1694, -0.6441,  ...,  6.5340,  0.0000,  0.0000]],\n",
      "       grad_fn=<AddBackward0>)]\n",
      "after gru\n",
      "[tensor([[      nan,       nan,       nan,  ...,       nan,       nan,\n",
      "               nan],\n",
      "        [  -2.6423,    3.1694,   17.8882,  ..., -175.9424,    0.0000,\n",
      "          -51.0006]], grad_fn=<AddBackward0>)]\n",
      "after gru\n",
      "[tensor([[        nan,         nan,         nan,  ...,         nan,\n",
      "                 nan,         nan],\n",
      "        [-2.6423e+00,  3.1694e+00, -7.2945e+03,  ...,  2.4380e+04,\n",
      "         -1.1203e+02, -5.1001e+01]], grad_fn=<AddBackward0>)]\n",
      "after gru\n",
      "[tensor([[        nan,         nan,         nan,  ...,         nan,\n",
      "                 nan,         nan],\n",
      "        [-2.6423e+00, -7.7425e+04, -7.2945e+03,  ...,  2.4380e+04,\n",
      "         -1.1203e+02,  1.0009e+06]], grad_fn=<AddBackward0>)]\n",
      "after gru\n",
      "[tensor([[        nan,         nan,         nan,  ...,         nan,\n",
      "                 nan,         nan],\n",
      "        [-2.6423e+00,  4.6069e+13, -7.2945e+03,  ..., -4.1783e+11,\n",
      "          2.2436e+10, -5.2206e+13]], grad_fn=<AddBackward0>)]\n",
      "after gru\n",
      "[tensor([[        nan,         nan,         nan,  ...,         nan,\n",
      "                 nan,         nan],\n",
      "        [ 1.6944e+17,  4.6069e+13, -7.2945e+03,  ..., -4.1783e+11,\n",
      "         -2.2830e+26, -5.2206e+13]], grad_fn=<AddBackward0>)]\n",
      "after gru\n",
      "[tensor([[nan, nan, nan,  ..., nan, nan, nan],\n",
      "        [nan, nan, nan,  ..., nan, nan, nan]], grad_fn=<AddBackward0>)]\n",
      "after gru\n",
      "[tensor([[nan, nan, nan,  ..., nan, nan, nan],\n",
      "        [nan, nan, nan,  ..., nan, nan, nan]], grad_fn=<AddBackward0>)]\n",
      "after gru\n",
      "[tensor([[nan, nan, nan,  ..., nan, nan, nan],\n",
      "        [nan, nan, nan,  ..., nan, nan, nan]], grad_fn=<AddBackward0>)]\n",
      "after gru\n",
      "[tensor([[nan, nan, nan,  ..., nan, nan, nan],\n",
      "        [nan, nan, nan,  ..., nan, nan, nan]], grad_fn=<AddBackward0>)]\n",
      "after gru\n",
      "[tensor([[nan, nan, nan,  ..., nan, nan, nan],\n",
      "        [nan, nan, nan,  ..., nan, nan, nan]], grad_fn=<AddBackward0>)]\n",
      "after gru\n",
      "[tensor([[nan, nan, nan,  ..., nan, nan, nan],\n",
      "        [nan, nan, nan,  ..., nan, nan, nan]], grad_fn=<AddBackward0>)]\n",
      "after gru\n",
      "[tensor([[nan, nan, nan,  ..., nan, nan, nan],\n",
      "        [nan, nan, nan,  ..., nan, nan, nan]], grad_fn=<AddBackward0>)]\n",
      "concatnate\n",
      "tensor([[nan, nan, nan,  ..., nan, nan, nan],\n",
      "        [nan, nan, nan,  ..., nan, nan, nan]], grad_fn=<AddBackward0>)\n",
      "tensor([[0., 0., 0.,  ..., 0., 0., 0.]])\n",
      "<class 'list'>\n",
      "[tensor([[nan, nan, nan,  ..., nan, nan, nan],\n",
      "        [nan, nan, nan,  ..., nan, nan, nan],\n",
      "        [0., 0., 0.,  ..., 0., 0., 0.]], grad_fn=<CatBackward>)]\n",
      "after gru\n",
      "[tensor([[   nan,    nan,    nan,  ...,    nan,    nan,    nan],\n",
      "        [   nan,    nan,    nan,  ...,    nan,    nan,    nan],\n",
      "        [0.0741, 0.0724, 0.1801,  ..., 0.6674, 0.0000, 0.0000]],\n",
      "       grad_fn=<AddBackward0>)]\n",
      "after gru\n",
      "[tensor([[    nan,     nan,     nan,  ...,     nan,     nan,     nan],\n",
      "        [    nan,     nan,     nan,  ...,     nan,     nan,     nan],\n",
      "        [ 0.0741,  0.0724, -3.7900,  ...,  0.8241,  0.0000,  0.0000]],\n",
      "       grad_fn=<AddBackward0>)]\n",
      "after gru\n",
      "[tensor([[    nan,     nan,     nan,  ...,     nan,     nan,     nan],\n",
      "        [    nan,     nan,     nan,  ...,     nan,     nan,     nan],\n",
      "        [ 0.0741,  3.2134, -3.7900,  ..., -5.0691, -0.3493,  0.0000]],\n",
      "       grad_fn=<AddBackward0>)]\n",
      "after gru\n",
      "[tensor([[    nan,     nan,     nan,  ...,     nan,     nan,     nan],\n",
      "        [    nan,     nan,     nan,  ...,     nan,     nan,     nan],\n",
      "        [ 5.0071,  3.2134, 50.5006,  ..., 77.1002, -0.3493,  0.0000]],\n",
      "       grad_fn=<AddBackward0>)]\n",
      "after gru\n",
      "[tensor([[      nan,       nan,       nan,  ...,       nan,       nan,\n",
      "               nan],\n",
      "        [      nan,       nan,       nan,  ...,       nan,       nan,\n",
      "               nan],\n",
      "        [   5.0071, -329.3258,   50.5006,  ...,   77.1002,  -62.5724,\n",
      "          492.6873]], grad_fn=<AddBackward0>)]\n",
      "after gru\n",
      "[tensor([[        nan,         nan,         nan,  ...,         nan,\n",
      "                 nan,         nan],\n",
      "        [        nan,         nan,         nan,  ...,         nan,\n",
      "                 nan,         nan],\n",
      "        [ 5.0071e+00,  2.5825e+06, -1.7762e+06,  ..., -6.4548e+06,\n",
      "         -6.2572e+01,  4.9269e+02]], grad_fn=<AddBackward0>)]\n",
      "after gru\n",
      "[tensor([[        nan,         nan,         nan,  ...,         nan,\n",
      "                 nan,         nan],\n",
      "        [        nan,         nan,         nan,  ...,         nan,\n",
      "                 nan,         nan],\n",
      "        [ 5.0071e+00,  2.5825e+06,  2.0705e+14,  ...,  1.6790e+15,\n",
      "         -6.2572e+01,  4.9269e+02]], grad_fn=<AddBackward0>)]\n",
      "after gru\n",
      "[tensor([[        nan,         nan,         nan,  ...,         nan,\n",
      "                 nan,         nan],\n",
      "        [        nan,         nan,         nan,  ...,         nan,\n",
      "                 nan,         nan],\n",
      "        [-1.8082e+18, -5.4214e+23,  2.0705e+14,  ...,  1.6790e+15,\n",
      "         -6.2572e+01, -6.6701e+19]], grad_fn=<AddBackward0>)]\n",
      "after gru\n",
      "[tensor([[nan, nan, nan,  ..., nan, nan, nan],\n",
      "        [nan, nan, nan,  ..., nan, nan, nan],\n",
      "        [nan, nan, nan,  ..., nan, nan, nan]], grad_fn=<AddBackward0>)]\n",
      "after gru\n",
      "[tensor([[nan, nan, nan,  ..., nan, nan, nan],\n",
      "        [nan, nan, nan,  ..., nan, nan, nan],\n",
      "        [nan, nan, nan,  ..., nan, nan, nan]], grad_fn=<AddBackward0>)]\n",
      "after gru\n",
      "[tensor([[nan, nan, nan,  ..., nan, nan, nan],\n",
      "        [nan, nan, nan,  ..., nan, nan, nan],\n",
      "        [nan, nan, nan,  ..., nan, nan, nan]], grad_fn=<AddBackward0>)]\n",
      "after gru\n",
      "[tensor([[nan, nan, nan,  ..., nan, nan, nan],\n",
      "        [nan, nan, nan,  ..., nan, nan, nan],\n",
      "        [nan, nan, nan,  ..., nan, nan, nan]], grad_fn=<AddBackward0>)]\n",
      "after gru\n",
      "[tensor([[nan, nan, nan,  ..., nan, nan, nan],\n",
      "        [nan, nan, nan,  ..., nan, nan, nan],\n",
      "        [nan, nan, nan,  ..., nan, nan, nan]], grad_fn=<AddBackward0>)]\n",
      "after gru\n",
      "[tensor([[nan, nan, nan,  ..., nan, nan, nan],\n",
      "        [nan, nan, nan,  ..., nan, nan, nan],\n",
      "        [nan, nan, nan,  ..., nan, nan, nan]], grad_fn=<AddBackward0>)]\n",
      "after gru\n",
      "[tensor([[nan, nan, nan,  ..., nan, nan, nan],\n",
      "        [nan, nan, nan,  ..., nan, nan, nan],\n",
      "        [nan, nan, nan,  ..., nan, nan, nan]], grad_fn=<AddBackward0>)]\n",
      "after gru\n",
      "[tensor([[nan, nan, nan,  ..., nan, nan, nan],\n",
      "        [nan, nan, nan,  ..., nan, nan, nan],\n",
      "        [nan, nan, nan,  ..., nan, nan, nan]], grad_fn=<AddBackward0>)]\n",
      "after gru\n",
      "[tensor([[nan, nan, nan,  ..., nan, nan, nan],\n",
      "        [nan, nan, nan,  ..., nan, nan, nan],\n",
      "        [nan, nan, nan,  ..., nan, nan, nan]], grad_fn=<AddBackward0>)]\n",
      "after gru\n",
      "[tensor([[nan, nan, nan,  ..., nan, nan, nan],\n",
      "        [nan, nan, nan,  ..., nan, nan, nan],\n",
      "        [nan, nan, nan,  ..., nan, nan, nan]], grad_fn=<AddBackward0>)]\n",
      "after gru\n",
      "[tensor([[nan, nan, nan,  ..., nan, nan, nan],\n",
      "        [nan, nan, nan,  ..., nan, nan, nan],\n",
      "        [nan, nan, nan,  ..., nan, nan, nan]], grad_fn=<AddBackward0>)]\n",
      "after gru\n",
      "[tensor([[nan, nan, nan,  ..., nan, nan, nan],\n",
      "        [nan, nan, nan,  ..., nan, nan, nan],\n",
      "        [nan, nan, nan,  ..., nan, nan, nan]], grad_fn=<AddBackward0>)]\n",
      "after gru\n",
      "[tensor([[nan, nan, nan,  ..., nan, nan, nan],\n",
      "        [nan, nan, nan,  ..., nan, nan, nan],\n",
      "        [nan, nan, nan,  ..., nan, nan, nan]], grad_fn=<AddBackward0>)]\n",
      "after gru\n",
      "[tensor([[nan, nan, nan,  ..., nan, nan, nan],\n",
      "        [nan, nan, nan,  ..., nan, nan, nan],\n",
      "        [nan, nan, nan,  ..., nan, nan, nan]], grad_fn=<AddBackward0>)]\n",
      "after gru\n",
      "[tensor([[nan, nan, nan,  ..., nan, nan, nan],\n",
      "        [nan, nan, nan,  ..., nan, nan, nan],\n",
      "        [nan, nan, nan,  ..., nan, nan, nan]], grad_fn=<AddBackward0>)]\n",
      "after gru\n",
      "[tensor([[nan, nan, nan,  ..., nan, nan, nan],\n",
      "        [nan, nan, nan,  ..., nan, nan, nan],\n",
      "        [nan, nan, nan,  ..., nan, nan, nan]], grad_fn=<AddBackward0>)]\n",
      "after gru\n",
      "[tensor([[nan, nan, nan,  ..., nan, nan, nan],\n",
      "        [nan, nan, nan,  ..., nan, nan, nan],\n",
      "        [nan, nan, nan,  ..., nan, nan, nan]], grad_fn=<AddBackward0>)]\n",
      "after gru\n",
      "[tensor([[nan, nan, nan,  ..., nan, nan, nan],\n",
      "        [nan, nan, nan,  ..., nan, nan, nan],\n",
      "        [nan, nan, nan,  ..., nan, nan, nan]], grad_fn=<AddBackward0>)]\n",
      "after gru\n",
      "[tensor([[nan, nan, nan,  ..., nan, nan, nan],\n",
      "        [nan, nan, nan,  ..., nan, nan, nan],\n",
      "        [nan, nan, nan,  ..., nan, nan, nan]], grad_fn=<AddBackward0>)]\n",
      "after gru\n",
      "[tensor([[nan, nan, nan,  ..., nan, nan, nan],\n",
      "        [nan, nan, nan,  ..., nan, nan, nan],\n",
      "        [nan, nan, nan,  ..., nan, nan, nan]], grad_fn=<AddBackward0>)]\n",
      "after gru\n",
      "[tensor([[nan, nan, nan,  ..., nan, nan, nan],\n",
      "        [nan, nan, nan,  ..., nan, nan, nan],\n",
      "        [nan, nan, nan,  ..., nan, nan, nan]], grad_fn=<AddBackward0>)]\n",
      "after gru\n",
      "[tensor([[nan, nan, nan,  ..., nan, nan, nan],\n",
      "        [nan, nan, nan,  ..., nan, nan, nan],\n",
      "        [nan, nan, nan,  ..., nan, nan, nan]], grad_fn=<AddBackward0>)]\n",
      "after gru\n",
      "[tensor([[nan, nan, nan,  ..., nan, nan, nan],\n",
      "        [nan, nan, nan,  ..., nan, nan, nan],\n",
      "        [nan, nan, nan,  ..., nan, nan, nan]], grad_fn=<AddBackward0>)]\n",
      "after gru\n",
      "[tensor([[nan, nan, nan,  ..., nan, nan, nan],\n",
      "        [nan, nan, nan,  ..., nan, nan, nan],\n",
      "        [nan, nan, nan,  ..., nan, nan, nan]], grad_fn=<AddBackward0>)]\n",
      "after gru\n",
      "[tensor([[nan, nan, nan,  ..., nan, nan, nan],\n",
      "        [nan, nan, nan,  ..., nan, nan, nan],\n",
      "        [nan, nan, nan,  ..., nan, nan, nan]], grad_fn=<AddBackward0>)]\n",
      "after gru\n",
      "[tensor([[nan, nan, nan,  ..., nan, nan, nan],\n",
      "        [nan, nan, nan,  ..., nan, nan, nan],\n",
      "        [nan, nan, nan,  ..., nan, nan, nan]], grad_fn=<AddBackward0>)]\n",
      "[tensor([[nan, nan, nan,  ..., nan, nan, nan],\n",
      "        [nan, nan, nan,  ..., nan, nan, nan],\n",
      "        [nan, nan, nan,  ..., nan, nan, nan]], grad_fn=<AddBackward0>)]\n"
     ]
    },
    {
     "name": "stderr",
     "output_type": "stream",
     "text": [
      "/home/chliu/miniconda3/envs/pytorch/lib/python3.6/site-packages/ipykernel_launcher.py:7: RuntimeWarning: overflow encountered in square\n",
      "  import sys\n"
     ]
    },
    {
     "data": {
      "text/plain": [
       "nan"
      ]
     },
     "execution_count": 28,
     "metadata": {},
     "output_type": "execute_result"
    }
   ],
   "source": [
    "np_input = np.load(\"paddle/cbmX2_bigru_input.npy\", allow_pickle=True, encoding=\"bytes\")\n",
    "np_output = np.load(\"paddle/cbmX2_bigru_output.npy\", allow_pickle=True, encoding=\"bytes\")\n",
    "temp_data = []\n",
    "temp_length = []\n",
    "for i in np_input:\n",
    "    temp_data.append(i[0])\n",
    "    temp_length.append(i[3])\n",
    "np_input = np.array(temp_data)\n",
    "np_length = np.array(temp_length).astype(int)\n",
    "\n",
    "torch_input = torch.from_numpy(np_input)\n",
    "# torch_input = torch_input.type(torch.FloatTensor)\n",
    "np.testing.assert_array_almost_equal(torch_input, np_input, decimal=10)\n",
    "\n",
    "torch_input = torch.unsqueeze(torch_input, 1)\n",
    "torch_input = torch_input.transpose(3,2)\n",
    "\n",
    "torch_output = cbmX2_bigru_test(torch_input, torch.from_numpy(np_length))\n",
    "\n",
    "torch_output = torch_output[0][0]\n",
    "torch_output = torch_output.data.numpy()\n",
    "\n",
    "compute_difference(paddle_outputs=np_output[0], torch_outputs=torch_output)\n"
   ]
  },
  {
   "cell_type": "code",
   "execution_count": null,
   "metadata": {},
   "outputs": [],
   "source": [
    "torch_output"
   ]
  },
  {
   "cell_type": "code",
   "execution_count": null,
   "metadata": {},
   "outputs": [],
   "source": [
    "n = 0\n",
    "test = nn.utils.rnn.pad_packed_sequence(torch_output, batch_first=True)[0].data.numpy()[n]\n",
    "compute_difference(np_output[n], test[:85])"
   ]
  },
  {
   "cell_type": "code",
   "execution_count": null,
   "metadata": {},
   "outputs": [],
   "source": [
    "torch_output[1]"
   ]
  },
  {
   "cell_type": "code",
   "execution_count": null,
   "metadata": {},
   "outputs": [],
   "source": [
    "temp = torch_output[0].data.numpy()"
   ]
  },
  {
   "cell_type": "code",
   "execution_count": null,
   "metadata": {},
   "outputs": [],
   "source": [
    "np.testing.assert_array_almost_equal(np_output[0], temp[0],decimal=5)"
   ]
  },
  {
   "cell_type": "code",
   "execution_count": null,
   "metadata": {},
   "outputs": [],
   "source": []
  },
  {
   "cell_type": "code",
   "execution_count": null,
   "metadata": {},
   "outputs": [],
   "source": [
    "torch_tile(torch.tensor([[1,2,3,4]]), 0, 3)"
   ]
  },
  {
   "cell_type": "code",
   "execution_count": null,
   "metadata": {},
   "outputs": [],
   "source": [
    "flatten = result.view(1, -1, 2208)"
   ]
  },
  {
   "cell_type": "code",
   "execution_count": null,
   "metadata": {},
   "outputs": [],
   "source": [
    "flatten.size()"
   ]
  },
  {
   "cell_type": "code",
   "execution_count": null,
   "metadata": {},
   "outputs": [],
   "source": [
    "mask = torch.ByteTensor([[1]*3,[1]*3, [0]*3])\n",
    "hehe = torch.rand((3,3))\n",
    "hehe"
   ]
  },
  {
   "cell_type": "code",
   "execution_count": null,
   "metadata": {},
   "outputs": [],
   "source": [
    "torch.masked_select(hehe,mask)"
   ]
  },
  {
   "cell_type": "code",
   "execution_count": null,
   "metadata": {},
   "outputs": [],
   "source": [
    "mask = torch.zeros([6, 1, 10,10], dtype=torch.float)\n",
    "mask[:,:,3:7,3:7] = 1"
   ]
  },
  {
   "cell_type": "code",
   "execution_count": null,
   "metadata": {},
   "outputs": [],
   "source": [
    "class mask(nn.Module):\n",
    "    def __init__(self):\n",
    "        super(mask, self).__init__()\n",
    "        \n",
    "    def forward(self,x, batch_info):\n",
    "        c1,c2, w1,w2, h1,h2 = batch_info\n",
    "        mask = torch.zeros_like(x, dtype=torch.float)\n",
    "        mask[c1:c2, w1:w2, h1:h2] = 1\n",
    "        return x * mask"
   ]
  },
  {
   "cell_type": "code",
   "execution_count": null,
   "metadata": {},
   "outputs": [],
   "source": [
    "mask_layer = mask()"
   ]
  },
  {
   "cell_type": "code",
   "execution_count": null,
   "metadata": {},
   "outputs": [],
   "source": [
    "def VariableRecurrent(batch_sizes, inner):\n",
    "    def forward(input, hidden, weight):\n",
    "        output = []\n",
    "        input_offset = 0\n",
    "        last_batch_size = batch_sizes[0]\n",
    "        hiddens = []\n",
    "        flat_hidden = not isinstance(hidden, tuple)\n",
    "        if flat_hidden:\n",
    "            hidden = (hidden,)\n",
    "        for batch_size in batch_sizes:\n",
    "            step_input = input[input_offset:input_offset + batch_size]\n",
    "            input_offset += batch_size\n",
    "\n",
    "            dec = last_batch_size - batch_size\n",
    "            if dec > 0:\n",
    "                hiddens.append(tuple(h[-dec:] for h in hidden))\n",
    "                hidden = tuple(h[:-dec] for h in hidden)\n",
    "            last_batch_size = batch_size\n",
    "\n",
    "            if flat_hidden:\n",
    "                hidden = (inner(step_input, hidden[0], *weight),)\n",
    "            else:\n",
    "                hidden = inner(step_input, hidden, *weight)\n",
    "\n",
    "            output.append(hidden[0])\n",
    "        hiddens.append(hidden)\n",
    "        hiddens.reverse()\n",
    "\n",
    "        hidden = tuple(torch.cat(h, 0) for h in zip(*hiddens))\n",
    "        assert hidden[0].size(0) == batch_sizes[0]\n",
    "        if flat_hidden:\n",
    "            hidden = hidden[0]\n",
    "        output = torch.cat(output, 0)\n",
    "\n",
    "        return hidden, output\n",
    "    \n",
    "    return forward"
   ]
  },
  {
   "cell_type": "code",
   "execution_count": null,
   "metadata": {},
   "outputs": [],
   "source": [
    "a = torch.tensor([[11]*3,[12]*3, [13]*3])\n",
    "b = torch.tensor([[21]*3,[22]*3, [23]*3, [24]*3])\n",
    "c = torch.tensor([[31]*3,[32]*3, [33]*3, [34]*3, [35]*3])\n",
    "seq = nn.utils.rnn.pack_sequence([c,b,a], )\n",
    "input, batch_sizes, _,_ = seq"
   ]
  },
  {
   "cell_type": "code",
   "execution_count": null,
   "metadata": {},
   "outputs": [],
   "source": [
    "seq.unsorted_indices = seq.to"
   ]
  },
  {
   "cell_type": "code",
   "execution_count": null,
   "metadata": {},
   "outputs": [],
   "source": [
    "seq.unsorted_indices"
   ]
  },
  {
   "cell_type": "code",
   "execution_count": null,
   "metadata": {},
   "outputs": [],
   "source": [
    "def gru_test(input, hidden, weight):\n",
    "    h, c = hidden\n",
    "    hy = h + 1\n",
    "    cy = c + 1\n",
    "    return hy, cy "
   ]
  },
  {
   "cell_type": "code",
   "execution_count": null,
   "metadata": {},
   "outputs": [],
   "source": [
    "forward = VariableRecurrent(batch_sizes, gru_test)"
   ]
  },
  {
   "cell_type": "code",
   "execution_count": null,
   "metadata": {},
   "outputs": [],
   "source": [
    "forward(input, (torch.tensor([0]*3), torch.tensor([0]*3)), [0])"
   ]
  }
 ],
 "metadata": {
  "kernelspec": {
   "display_name": "Python 3",
   "language": "python",
   "name": "python3"
  },
  "language_info": {
   "codemirror_mode": {
    "name": "ipython",
    "version": 3
   },
   "file_extension": ".py",
   "mimetype": "text/x-python",
   "name": "python",
   "nbconvert_exporter": "python",
   "pygments_lexer": "ipython3",
   "version": "3.6.9"
  }
 },
 "nbformat": 4,
 "nbformat_minor": 4
}
