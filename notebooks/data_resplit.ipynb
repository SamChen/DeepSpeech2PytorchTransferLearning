{
 "cells": [
  {
   "cell_type": "code",
   "execution_count": 2,
   "metadata": {},
   "outputs": [],
   "source": [
    "import pandas as pd"
   ]
  },
  {
   "cell_type": "code",
   "execution_count": 25,
   "metadata": {},
   "outputs": [],
   "source": [
    "spker_booking = {\"test\": [\"C1007\", \"C2016\", \"C1028\", \"C1103\"],\n",
    "                 \"val\":  [\"C1033\", \"C1032\", \"C1066\", \"C1052\"]}"
   ]
  },
  {
   "cell_type": "code",
   "execution_count": 41,
   "metadata": {},
   "outputs": [],
   "source": [
    "train = pd.read_csv(\"iconect/models/pt_only_all_utt_wgt_transfer/data_old/train.csv\")\n",
    "val = pd.read_csv(\"iconect/models/pt_only_all_utt_wgt_transfer/data_old/val.csv\")\n",
    "test = pd.read_csv(\"iconect/models/pt_only_all_utt_wgt_transfer/data_old/test.csv\")\n",
    "\n",
    "all_data = pd.concat([train, val, test], axis=0)\n",
    "spker_booking[\"train\"] = set(all_data.spkid.tolist()) - set(spker_booking[\"test\"])- set(spker_booking[\"val\"])\n",
    "assert len(all_data) == (len(train) + len(val) + len(test))\n",
    "assert (set(spker_booking[\"train\"]) & set(spker_booking[\"test\"])) == set([])\n",
    "assert (set(spker_booking[\"train\"]) & set(spker_booking[\"val\"])) == set([])\n",
    "\n",
    "new_val = all_data[all_data.spkid.isin(spker_booking[\"val\"])]\n",
    "new_test = all_data[all_data.spkid.isin(spker_booking[\"test\"])]\n",
    "new_train = all_data[all_data.spkid.isin(spker_booking[\"train\"])]\n",
    "\n",
    "new_train.to_csv(\"iconect/models/pt_only_all_utt_wgt_transfer/data/train.csv\")\n",
    "new_val.to_csv(\"iconect/models/pt_only_all_utt_wgt_transfer/data/val.csv\")\n",
    "new_test.to_csv(\"iconect/models/pt_only_all_utt_wgt_transfer/data/test.csv\")"
   ]
  },
  {
   "cell_type": "code",
   "execution_count": 39,
   "metadata": {},
   "outputs": [],
   "source": []
  },
  {
   "cell_type": "code",
   "execution_count": 28,
   "metadata": {},
   "outputs": [
    {
     "data": {
      "text/plain": [
       "{'C1032', 'C1033', 'C1052', 'C1066'}"
      ]
     },
     "execution_count": 28,
     "metadata": {},
     "output_type": "execute_result"
    }
   ],
   "source": []
  },
  {
   "cell_type": "code",
   "execution_count": 8,
   "metadata": {},
   "outputs": [],
   "source": []
  },
  {
   "cell_type": "code",
   "execution_count": 24,
   "metadata": {},
   "outputs": [
    {
     "data": {
      "text/html": [
       "<div>\n",
       "<style scoped>\n",
       "    .dataframe tbody tr th:only-of-type {\n",
       "        vertical-align: middle;\n",
       "    }\n",
       "\n",
       "    .dataframe tbody tr th {\n",
       "        vertical-align: top;\n",
       "    }\n",
       "\n",
       "    .dataframe thead th {\n",
       "        text-align: right;\n",
       "    }\n",
       "</style>\n",
       "<table border=\"1\" class=\"dataframe\">\n",
       "  <thead>\n",
       "    <tr style=\"text-align: right;\">\n",
       "      <th></th>\n",
       "      <th>spkid</th>\n",
       "      <th>Age</th>\n",
       "      <th>Sex</th>\n",
       "      <th>Education</th>\n",
       "      <th>MCI</th>\n",
       "      <th>MoCA RAW</th>\n",
       "      <th>filepath</th>\n",
       "      <th>label</th>\n",
       "    </tr>\n",
       "  </thead>\n",
       "  <tbody>\n",
       "    <tr>\n",
       "      <td>0</td>\n",
       "      <td>PCON1019</td>\n",
       "      <td>81.0</td>\n",
       "      <td>M</td>\n",
       "      <td>19.0</td>\n",
       "      <td>N</td>\n",
       "      <td>28.0</td>\n",
       "      <td>/home/chliu/iconect_code/data/iconect/data/tra...</td>\n",
       "      <td>0</td>\n",
       "    </tr>\n",
       "    <tr>\n",
       "      <td>26</td>\n",
       "      <td>C1052</td>\n",
       "      <td>78.4</td>\n",
       "      <td>M</td>\n",
       "      <td>20.0</td>\n",
       "      <td>N</td>\n",
       "      <td>26.0</td>\n",
       "      <td>/home/chliu/iconect_code/data/iconect/data/tra...</td>\n",
       "      <td>0</td>\n",
       "    </tr>\n",
       "    <tr>\n",
       "      <td>35</td>\n",
       "      <td>C1103</td>\n",
       "      <td>88.2</td>\n",
       "      <td>M</td>\n",
       "      <td>12.0</td>\n",
       "      <td>N</td>\n",
       "      <td>20.0</td>\n",
       "      <td>/home/chliu/iconect_code/data/iconect/data/tra...</td>\n",
       "      <td>0</td>\n",
       "    </tr>\n",
       "  </tbody>\n",
       "</table>\n",
       "</div>"
      ],
      "text/plain": [
       "       spkid   Age Sex  Education MCI  MoCA RAW  \\\n",
       "0   PCON1019  81.0   M       19.0   N      28.0   \n",
       "26     C1052  78.4   M       20.0   N      26.0   \n",
       "35     C1103  88.2   M       12.0   N      20.0   \n",
       "\n",
       "                                             filepath  label  \n",
       "0   /home/chliu/iconect_code/data/iconect/data/tra...      0  \n",
       "26  /home/chliu/iconect_code/data/iconect/data/tra...      0  \n",
       "35  /home/chliu/iconect_code/data/iconect/data/tra...      0  "
      ]
     },
     "execution_count": 24,
     "metadata": {},
     "output_type": "execute_result"
    }
   ],
   "source": []
  },
  {
   "cell_type": "code",
   "execution_count": 15,
   "metadata": {},
   "outputs": [
    {
     "data": {
      "text/plain": [
       "45"
      ]
     },
     "execution_count": 15,
     "metadata": {},
     "output_type": "execute_result"
    }
   ],
   "source": []
  },
  {
   "cell_type": "code",
   "execution_count": 18,
   "metadata": {},
   "outputs": [
    {
     "data": {
      "text/plain": [
       "True"
      ]
     },
     "execution_count": 18,
     "metadata": {},
     "output_type": "execute_result"
    }
   ],
   "source": []
  }
 ],
 "metadata": {
  "kernelspec": {
   "display_name": "Python 3",
   "language": "python",
   "name": "python3"
  },
  "language_info": {
   "codemirror_mode": {
    "name": "ipython",
    "version": 3
   },
   "file_extension": ".py",
   "mimetype": "text/x-python",
   "name": "python",
   "nbconvert_exporter": "python",
   "pygments_lexer": "ipython3",
   "version": "3.6.9"
  }
 },
 "nbformat": 4,
 "nbformat_minor": 4
}
