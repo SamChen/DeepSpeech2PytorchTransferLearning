{
 "cells": [
  {
   "cell_type": "code",
   "execution_count": 1,
   "metadata": {},
   "outputs": [],
   "source": [
    "import sys\n",
    "sys.path.append(\"..\")"
   ]
  },
  {
   "cell_type": "code",
   "execution_count": 2,
   "metadata": {},
   "outputs": [],
   "source": [
    "import torch\n",
    "from torch import nn\n",
    "from model_utils.custom_attentions import NTMAtten_Layer, DotAtten_Layer"
   ]
  },
  {
   "cell_type": "markdown",
   "metadata": {},
   "source": [
    "## NTM attention"
   ]
  },
  {
   "cell_type": "code",
   "execution_count": 3,
   "metadata": {},
   "outputs": [
    {
     "data": {
      "text/plain": [
       "(tensor([[[-0.3700, -0.4656, -0.0293]]], grad_fn=<UnsafeViewBackward>),\n",
       " tensor([[[0.0000],\n",
       "          [0.1772],\n",
       "          [0.1815],\n",
       "          [0.2265],\n",
       "          [0.2107],\n",
       "          [0.2042],\n",
       "          [0.0000],\n",
       "          [0.0000],\n",
       "          [0.0000],\n",
       "          [0.0000]]], grad_fn=<TransposeBackward0>))"
      ]
     },
     "execution_count": 3,
     "metadata": {},
     "output_type": "execute_result"
    }
   ],
   "source": [
    "keys = torch.rand(1, 10, 3)\n",
    "values = torch.rand(1, 10, 3)\n",
    "query = torch.rand(1, 1, 3)\n",
    "test_layer = NTMAtten_Layer(embed_dim=3, window_size=3)\n",
    "attn_mask, _ = test_layer.attention_mask(seq_lengths=torch.Tensor([8]), seq_length_max=10, window_size=2, query_index=3)\n",
    "test_layer(query, values, keys, attn_mask=attn_mask)"
   ]
  },
  {
   "cell_type": "markdown",
   "metadata": {},
   "source": [
    "## Dot attention"
   ]
  },
  {
   "cell_type": "code",
   "execution_count": 6,
   "metadata": {},
   "outputs": [
    {
     "data": {
      "text/plain": [
       "(tensor([[[-0.2763,  0.0621, -0.5755]]], grad_fn=<UnsafeViewBackward>),\n",
       " tensor([[[0.0000],\n",
       "          [0.2291],\n",
       "          [0.2183],\n",
       "          [0.2316],\n",
       "          [0.2129],\n",
       "          [0.2193],\n",
       "          [0.0000],\n",
       "          [0.0000],\n",
       "          [0.0000],\n",
       "          [0.0000]]], grad_fn=<TransposeBackward0>))"
      ]
     },
     "execution_count": 6,
     "metadata": {},
     "output_type": "execute_result"
    }
   ],
   "source": [
    "keys = torch.rand(1, 10, 3)\n",
    "values = torch.rand(1, 10, 3)\n",
    "query = torch.rand(1, 1, 3)\n",
    "test_layer2 = DotAtten_Layer(embed_dim=3, window_size=3)\n",
    "attn_mask2, _ = test_layer2.attention_mask(seq_lengths=torch.Tensor([8]), seq_length_max=10, window_size=2, query_index=3)\n",
    "test_layer2(query, keys, values, attn_mask=attn_mask2)"
   ]
  },
  {
   "cell_type": "markdown",
   "metadata": {},
   "source": [
    "## test torch's operation of sum two matrix with different length of time\n",
    "If two metrix are different at one dimention's size, the operation is broadcast through that dim"
   ]
  },
  {
   "cell_type": "code",
   "execution_count": 7,
   "metadata": {},
   "outputs": [],
   "source": [
    "input1 = torch.rand(2, 1, 3) \n",
    "input2 = torch.rand(2, 10, 3)\n",
    "result1 = input1 + input2\n",
    "\n",
    "result2 = []\n",
    "for i in range(input2.size(1)):\n",
    "    temp = input1 + input2[:, i:i+1, :]\n",
    "    result2.append(temp)\n",
    "    \n",
    "result2 = torch.cat(result2, dim=1)\n",
    "\n",
    "assert torch.equal(result1, result2)"
   ]
  }
 ],
 "metadata": {
  "kernelspec": {
   "display_name": "Python 3",
   "language": "python",
   "name": "python3"
  },
  "language_info": {
   "codemirror_mode": {
    "name": "ipython",
    "version": 3
   },
   "file_extension": ".py",
   "mimetype": "text/x-python",
   "name": "python",
   "nbconvert_exporter": "python",
   "pygments_lexer": "ipython3",
   "version": "3.6.9"
  }
 },
 "nbformat": 4,
 "nbformat_minor": 4
}
