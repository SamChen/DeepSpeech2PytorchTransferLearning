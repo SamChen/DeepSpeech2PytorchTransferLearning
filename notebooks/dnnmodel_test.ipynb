{
 "cells": [
  {
   "cell_type": "code",
   "execution_count": 1,
   "metadata": {},
   "outputs": [],
   "source": [
    "import sys\n",
    "import numpy as np\n",
    "import pandas as pd\n",
    "from collections import defaultdict\n",
    "sys.path.append(\"..\")\n",
    "from model_utils.model import DeepSpeech2Model\n",
    "from model_utils.network import deepspeech_LocalDotAtten, deepspeech_orig\n",
    "from data_utils.dataloader import SpecgramGenerator\n",
    "from torch.utils.data import DataLoader\n",
    "\n",
    "import torch\n",
    "import os"
   ]
  },
  {
   "cell_type": "markdown",
   "metadata": {},
   "source": [
    "# DNN initialize"
   ]
  },
  {
   "cell_type": "code",
   "execution_count": 2,
   "metadata": {},
   "outputs": [
    {
     "name": "stderr",
     "output_type": "stream",
     "text": [
      "[INFO 2020-03-05 16:33:39,017 model.py:361] begin to initialize the external scorer for decoding\n",
      "begin to initialize the external scorer for decoding\n",
      "[INFO 2020-03-05 16:33:47,976 model.py:371] language model: is_character_based = 0, max_order = 5, dict_size = 400000\n",
      "language model: is_character_based = 0, max_order = 5, dict_size = 400000\n",
      "[INFO 2020-03-05 16:33:48,069 model.py:372] end initializing scorer\n",
      "end initializing scorer\n"
     ]
    }
   ],
   "source": [
    "vocab_list = [\"'\", ' ', 'a', 'b', 'c', 'd', 'e', 'f', 'g', 'h', 'i', 'j', 'k', 'l', 'm', 'n', 'o', 'p', 'q', 'r', 's', 't', 'u', 'v', 'w', 'x', 'y', 'z']\n",
    "ds2_model = DeepSpeech2Model(\n",
    "    model=deepspeech_LocalDotAtten,\n",
    "    vocab_list=vocab_list,\n",
    "    device=\"cuda\")\n",
    "\n",
    "\n",
    "ds2_model.init_ext_scorer(1.4, 0.35, \"../models/lm/common_crawl_00.prune01111.trie.klm\")"
   ]
  },
  {
   "cell_type": "code",
   "execution_count": 3,
   "metadata": {},
   "outputs": [
    {
     "name": "stderr",
     "output_type": "stream",
     "text": [
      "[INFO 2020-03-05 16:33:48,177 model.py:511] load weights from: iconect/models/pt_only_all_utt_wgt_transfer_mean/exps/200304-12:06:03_lr7e-06-deepspeech/model_final.pth\n",
      "load weights from: iconect/models/pt_only_all_utt_wgt_transfer_mean/exps/200304-12:06:03_lr7e-06-deepspeech/model_final.pth\n",
      "[INFO 2020-03-05 16:33:48,179 model.py:512] excluded weights: {'deepspeech_bottleneck.bottleneck.bias', 'deepspeech_bottleneck.bottleneck.weight'}\n",
      "excluded weights: {'deepspeech_bottleneck.bottleneck.bias', 'deepspeech_bottleneck.bottleneck.weight'}\n"
     ]
    }
   ],
   "source": [
    "ds2_model.load_weights(\"iconect/models/pt_only_all_utt_wgt_transfer_mean/exps/200304-12:06:03_lr7e-06-deepspeech/model_final.pth\")"
   ]
  },
  {
   "cell_type": "markdown",
   "metadata": {},
   "source": [
    "# Data Loading"
   ]
  },
  {
   "cell_type": "code",
   "execution_count": 8,
   "metadata": {},
   "outputs": [],
   "source": [
    "test_dataset = SpecgramGenerator(manifest=\"iconect/models/pt_only_all_utt_wgt_transfer_mean/data/test_short.csv\",\n",
    "                               vocab_filepath=\"../models/baidu_en8k/vocab.txt\",\n",
    "                               mean_std_filepath=\"../models/baidu_en8k/mean_std.npz\",\n",
    "                               max_duration=float('inf'),\n",
    "                               min_duration=3,\n",
    "                               segmented=False)\n",
    "\n",
    "dataloader = DataLoader(test_dataset, batch_size=32,\n",
    "                        shuffle=False, num_workers=8,\n",
    "                       collate_fn=SpecgramGenerator.padding_batch)"
   ]
  },
  {
   "cell_type": "markdown",
   "metadata": {},
   "source": [
    "# Decoding "
   ]
  },
  {
   "cell_type": "code",
   "execution_count": 9,
   "metadata": {},
   "outputs": [],
   "source": [
    "outputs = defaultdict(list)\n",
    "beam_alpha=1\n",
    "\n",
    "for i_batch, sample_batched in enumerate(dataloader):\n",
    "    batch_results = ds2_model.infer_batch_probs(infer_data=sample_batched)\n",
    "    batch_transcripts_beam = ds2_model.decode_batch_beam_search(probs_split=batch_results,\n",
    "                                                                 beam_alpha=beam_alpha,\n",
    "                                                                 beam_beta=0.35,\n",
    "                                                                 beam_size=500,\n",
    "                                                                 cutoff_prob=1.0,\n",
    "                                                                 cutoff_top_n=40,\n",
    "                                                                 num_processes=6)\n",
    "    \n",
    "    outputs[\"uttid\"].extend(sample_batched[\"uttid\"])\n",
    "    outputs[\"probs\"].extend(batch_results)\n",
    "    outputs[\"asr\"].extend(batch_transcripts_beam)\n",
    "    outputs[\"text\"].extend(sample_batched[\"trans\"])\n",
    "df = pd.DataFrame.from_dict(outputs)\n"
   ]
  },
  {
   "cell_type": "code",
   "execution_count": 10,
   "metadata": {},
   "outputs": [
    {
     "data": {
      "text/html": [
       "<div>\n",
       "<style scoped>\n",
       "    .dataframe tbody tr th:only-of-type {\n",
       "        vertical-align: middle;\n",
       "    }\n",
       "\n",
       "    .dataframe tbody tr th {\n",
       "        vertical-align: top;\n",
       "    }\n",
       "\n",
       "    .dataframe thead th {\n",
       "        text-align: right;\n",
       "    }\n",
       "</style>\n",
       "<table border=\"1\" class=\"dataframe\">\n",
       "  <thead>\n",
       "    <tr style=\"text-align: right;\">\n",
       "      <th></th>\n",
       "      <th>uttid</th>\n",
       "      <th>probs</th>\n",
       "      <th>asr</th>\n",
       "      <th>text</th>\n",
       "    </tr>\n",
       "  </thead>\n",
       "  <tbody>\n",
       "    <tr>\n",
       "      <td>0</td>\n",
       "      <td>C1007_VC_3_FullCon_Wk01_Day3_100318_Participan...</td>\n",
       "      <td>[[3.8415106e-05, 7.407037e-05, 0.037902262, 0....</td>\n",
       "      <td>that seer called the crawl or the free to</td>\n",
       "      <td>that's that's either called the crawl or the f...</td>\n",
       "    </tr>\n",
       "    <tr>\n",
       "      <td>1</td>\n",
       "      <td>C1028_VC_3_FullCon_Wk01_Day3_040319_Participan...</td>\n",
       "      <td>[[0.00011470138, 0.00021678227, 0.006443831, 0...</td>\n",
       "      <td>have people that's why there's so many people ...</td>\n",
       "      <td>uh people that's why there's so many people ou...</td>\n",
       "    </tr>\n",
       "    <tr>\n",
       "      <td>2</td>\n",
       "      <td>C1028_VC_3_FullCon_Wk01_Day3_040319_Participan...</td>\n",
       "      <td>[[8.468798e-05, 0.00047555013, 0.008537458, 0....</td>\n",
       "      <td>were down at the beach the hand of bay part</td>\n",
       "      <td>were down at the beach nehalem bay park</td>\n",
       "    </tr>\n",
       "    <tr>\n",
       "      <td>3</td>\n",
       "      <td>C2016_VC_3_FullCon_Wk01_Day4_050219_Participan...</td>\n",
       "      <td>[[0.00010233711, 2.3265064e-05, 0.036521416, 0...</td>\n",
       "      <td>new ones that it's like uh the virginian</td>\n",
       "      <td>but the new ones is like um the virginian</td>\n",
       "    </tr>\n",
       "    <tr>\n",
       "      <td>4</td>\n",
       "      <td>C1007_VC_3_FullCon_Wk01_Day3_100318_Participan...</td>\n",
       "      <td>[[5.9622544e-06, 1.21478015e-05, 0.0060807224,...</td>\n",
       "      <td>there and swim somewhere between a half a mile...</td>\n",
       "      <td>there and swim somewhere between a half a mile...</td>\n",
       "    </tr>\n",
       "  </tbody>\n",
       "</table>\n",
       "</div>"
      ],
      "text/plain": [
       "                                               uttid  \\\n",
       "0  C1007_VC_3_FullCon_Wk01_Day3_100318_Participan...   \n",
       "1  C1028_VC_3_FullCon_Wk01_Day3_040319_Participan...   \n",
       "2  C1028_VC_3_FullCon_Wk01_Day3_040319_Participan...   \n",
       "3  C2016_VC_3_FullCon_Wk01_Day4_050219_Participan...   \n",
       "4  C1007_VC_3_FullCon_Wk01_Day3_100318_Participan...   \n",
       "\n",
       "                                               probs  \\\n",
       "0  [[3.8415106e-05, 7.407037e-05, 0.037902262, 0....   \n",
       "1  [[0.00011470138, 0.00021678227, 0.006443831, 0...   \n",
       "2  [[8.468798e-05, 0.00047555013, 0.008537458, 0....   \n",
       "3  [[0.00010233711, 2.3265064e-05, 0.036521416, 0...   \n",
       "4  [[5.9622544e-06, 1.21478015e-05, 0.0060807224,...   \n",
       "\n",
       "                                                 asr  \\\n",
       "0          that seer called the crawl or the free to   \n",
       "1  have people that's why there's so many people ...   \n",
       "2        were down at the beach the hand of bay part   \n",
       "3           new ones that it's like uh the virginian   \n",
       "4  there and swim somewhere between a half a mile...   \n",
       "\n",
       "                                                text  \n",
       "0  that's that's either called the crawl or the f...  \n",
       "1  uh people that's why there's so many people ou...  \n",
       "2            were down at the beach nehalem bay park  \n",
       "3          but the new ones is like um the virginian  \n",
       "4  there and swim somewhere between a half a mile...  "
      ]
     },
     "execution_count": 10,
     "metadata": {},
     "output_type": "execute_result"
    }
   ],
   "source": [
    "saving_path = \"test/pt_200304_lr7e-6_model_on_val.csv\"\n",
    "df.to_pickle(saving_path)\n",
    "test_df = pd.read_pickle(saving_path)\n",
    "test_df.head()"
   ]
  },
  {
   "cell_type": "code",
   "execution_count": null,
   "metadata": {},
   "outputs": [],
   "source": [
    "from matplotlib import pyplot as plt\n",
    "import logging\n",
    "plt.style.use('classic')\n",
    "mpl_logger = logging.getLogger('matplotlib')\n",
    "mpl_logger.setLevel(logging.WARNING)\n",
    "\n",
    "def plot_output(df, row=30):\n",
    "    plt.figure(figsize=(30, 5))\n",
    "    for i in df.iloc[row].probs.sum(1):\n",
    "        assert np.abs(i-1) < 1e-6, \"{}\".format(row)\n",
    "    \n",
    "    plt.imshow(df.iloc[row].probs.T)\n",
    "    plt.colorbar()\n",
    "    \n",
    "plot_output(df)"
   ]
  }
 ],
 "metadata": {
  "kernelspec": {
   "display_name": "Python 3",
   "language": "python",
   "name": "python3"
  },
  "language_info": {
   "codemirror_mode": {
    "name": "ipython",
    "version": 3
   },
   "file_extension": ".py",
   "mimetype": "text/x-python",
   "name": "python",
   "nbconvert_exporter": "python",
   "pygments_lexer": "ipython3",
   "version": "3.7.7"
  }
 },
 "nbformat": 4,
 "nbformat_minor": 4
}
