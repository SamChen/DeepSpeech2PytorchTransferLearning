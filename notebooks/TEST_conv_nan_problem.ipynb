{
 "cells": [
  {
   "cell_type": "markdown",
   "metadata": {},
   "source": [
    "# TEST Conv layer output is Nan some times\n",
    "\n",
    "description: Conv layer after load paddlepaddle weights, the output is Nan"
   ]
  },
  {
   "cell_type": "code",
   "execution_count": 1,
   "metadata": {},
   "outputs": [],
   "source": [
    "import torch\n",
    "from torch import nn\n",
    "import sys\n",
    "sys.path.append(\"../\")\n",
    "from data_utils.dataloader import SpecgramGenerator\n",
    "from model_utils.network import deepspeech_hiddenLayers"
   ]
  },
  {
   "cell_type": "code",
   "execution_count": 2,
   "metadata": {},
   "outputs": [],
   "source": [
    "model1 = deepspeech_hiddenLayers(device=\"cpu\")\n",
    "model1.load_pretrained()\n",
    "model2 = deepspeech_hiddenLayers(device=\"cpu\")"
   ]
  },
  {
   "cell_type": "code",
   "execution_count": 56,
   "metadata": {},
   "outputs": [],
   "source": [
    "test_data = SpecgramGenerator(manifest=\"iconect/models/pt_only_all_utt_test/data2/test2.csv\",\n",
    "                              vocab_filepath=\"../models/baidu_en8k/vocab.txt\",\n",
    "                              mean_std_filepath=\"../models/baidu_en8k/mean_std.npz\",\n",
    "                              min_duration=3.0,\n",
    "                              max_duration=float(\"inf\"),\n",
    "                              augmentation_config=\"{}\",\n",
    "                              segmented=False)"
   ]
  },
  {
   "cell_type": "code",
   "execution_count": 60,
   "metadata": {},
   "outputs": [
    {
     "name": "stdout",
     "output_type": "stream",
     "text": [
      "here\n",
      "here\n"
     ]
    }
   ],
   "source": [
    "from collections import defaultdict\n",
    "sample = []\n",
    "for i,d in enumerate(test_data):\n",
    "    if (\"303\" in d[\"uttid\"]) or (\"424\" in d[\"uttid\"]):\n",
    "        print(\"here\")\n",
    "        sample.append(d)\n",
    "        \n",
    "sample = SpecgramGenerator.padding_batch(sample)\n",
    "sample[\"cnn_masks\"] = [(sample[\"length_spec\"] -1)//3 +1, torch.tensor([166, 166])]"
   ]
  },
  {
   "cell_type": "code",
   "execution_count": 55,
   "metadata": {},
   "outputs": [
    {
     "data": {
      "text/plain": [
       "['C1082_VC_3_FullCon_Wk01_Day3_081419_Moderator_424']"
      ]
     },
     "execution_count": 55,
     "metadata": {},
     "output_type": "execute_result"
    }
   ],
   "source": []
  },
  {
   "cell_type": "code",
   "execution_count": 61,
   "metadata": {},
   "outputs": [
    {
     "data": {
      "text/plain": [
       "torch.Size([2, 1, 499, 161])"
      ]
     },
     "execution_count": 61,
     "metadata": {},
     "output_type": "execute_result"
    }
   ],
   "source": [
    "sample[\"specgrams\"].shape"
   ]
  },
  {
   "cell_type": "code",
   "execution_count": 62,
   "metadata": {},
   "outputs": [],
   "source": [
    "model1.train()\n",
    "output,_ = model1(sample)"
   ]
  },
  {
   "cell_type": "code",
   "execution_count": 63,
   "metadata": {},
   "outputs": [
    {
     "data": {
      "text/plain": [
       "tensor([[[0.5785, 0.4012, 0.0742,  ..., 0.0000, 0.0000, 0.0000],\n",
       "         [0.8729, 0.4838, 0.5870,  ..., 0.0000, 0.0000, 0.0000],\n",
       "         [1.0611, 0.6913, 1.0007,  ..., 0.1078, 0.0065, 0.0000],\n",
       "         ...,\n",
       "         [0.9013, 0.7181, 0.5354,  ..., 0.7240, 0.3520, 0.0210],\n",
       "         [1.4512, 1.3199, 1.9059,  ..., 0.4458, 0.2710, 0.2220],\n",
       "         [0.0000, 0.0000, 0.0000,  ..., 0.0000, 0.0000, 0.0000]],\n",
       "\n",
       "        [[0.0000, 0.0000, 0.0000,  ..., 0.2789, 0.4000, 0.0000],\n",
       "         [0.0000, 0.0000, 0.8802,  ..., 0.0000, 0.8351, 0.3034],\n",
       "         [0.0000, 0.0000, 1.7589,  ..., 0.2932, 0.3261, 0.0596],\n",
       "         ...,\n",
       "         [0.8067, 0.4044, 0.0351,  ..., 0.5107, 1.3081, 0.2328],\n",
       "         [1.7426, 1.0516, 2.0756,  ..., 0.8654, 0.3236, 0.0000],\n",
       "         [0.0000, 0.0000, 0.0000,  ..., 0.0000, 0.0000, 0.0000]]],\n",
       "       grad_fn=<ViewBackward>)"
      ]
     },
     "execution_count": 63,
     "metadata": {},
     "output_type": "execute_result"
    }
   ],
   "source": [
    "output"
   ]
  },
  {
   "cell_type": "code",
   "execution_count": 42,
   "metadata": {},
   "outputs": [
    {
     "data": {
      "text/plain": [
       "(tensor([[[0.4068, 1.6854, 1.5587,  ..., 0.2857, 0.5625, 0.0485],\n",
       "          [0.0000, 0.8821, 1.6893,  ..., 0.0000, 0.2011, 0.0000],\n",
       "          [0.0000, 1.0801, 1.4760,  ..., 0.8729, 0.0000, 1.2141],\n",
       "          ...,\n",
       "          [0.0000, 0.7579, 0.0000,  ..., 0.0000, 0.0643, 0.1826],\n",
       "          [0.0000, 0.0000, 0.0000,  ..., 0.2161, 0.0000, 0.0000],\n",
       "          [0.0000, 0.0000, 0.0000,  ..., 0.0000, 0.0000, 0.0000]]],\n",
       "        grad_fn=<ViewBackward>), [166])"
      ]
     },
     "execution_count": 42,
     "metadata": {},
     "output_type": "execute_result"
    }
   ],
   "source": [
    "model2.train()\n",
    "model2(sample)"
   ]
  },
  {
   "cell_type": "code",
   "execution_count": 11,
   "metadata": {},
   "outputs": [
    {
     "data": {
      "text/plain": [
       "1312"
      ]
     },
     "execution_count": 11,
     "metadata": {},
     "output_type": "execute_result"
    }
   ],
   "source": [
    "41*32"
   ]
  }
 ],
 "metadata": {
  "kernelspec": {
   "display_name": "Python 3",
   "language": "python",
   "name": "python3"
  },
  "language_info": {
   "codemirror_mode": {
    "name": "ipython",
    "version": 3
   },
   "file_extension": ".py",
   "mimetype": "text/x-python",
   "name": "python",
   "nbconvert_exporter": "python",
   "pygments_lexer": "ipython3",
   "version": "3.6.9"
  }
 },
 "nbformat": 4,
 "nbformat_minor": 4
}
